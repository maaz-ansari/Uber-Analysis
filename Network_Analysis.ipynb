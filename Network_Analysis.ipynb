{
 "cells": [
  {
   "cell_type": "code",
   "execution_count": 1,
   "metadata": {},
   "outputs": [],
   "source": [
    "# importing libraries\n",
    "\n",
    "import pandas as pd                              # for manipulating the dataframe\n",
    "import plotly.graph_objects as go                # for plotting\n",
    "import networkx as nx                            # for network analysis"
   ]
  },
  {
   "cell_type": "markdown",
   "metadata": {},
   "source": [
    "# Network Analysis"
   ]
  },
  {
   "cell_type": "markdown",
   "metadata": {},
   "source": [
    "Networks comprise graphical representations of the relationships between different variables. Network analysis allows one to estimate complex patterns of relationships to reveal core features of the network.\n",
    "\n",
    "![Network](https://blog.perceptyx.com/hs-fs/hubfs/Images/Blog/organizational-network-analysis-perceptyx.jpg?width=1907&name=organizational-network-analysis-perceptyx.jpg)"
   ]
  },
  {
   "cell_type": "markdown",
   "metadata": {},
   "source": [
    "Networks or Graphs are a set of objects (called nodes) having some relationship with each other (called edges). \n",
    "\n",
    "In the Uber Drives dataset, the information of the trips between different locations is given. Hence, the travel pattern of the rider, which places are travelled to or from most often and which trips take place frequently can be inspected using a network. \n",
    "\n",
    "The Python library that will help create a network is the networkx library."
   ]
  },
  {
   "cell_type": "markdown",
   "metadata": {},
   "source": [
    "# Reading the Dataset"
   ]
  },
  {
   "cell_type": "code",
   "execution_count": 2,
   "metadata": {},
   "outputs": [],
   "source": [
    "# loading the dataset\n",
    "df = pd.read_csv(\"Uber_Drives_Clean.csv\")"
   ]
  },
  {
   "cell_type": "markdown",
   "metadata": {},
   "source": [
    "Since there is an inherent direction present in this dataset, i.e., a trip starts from a start location and finishes at an end location, a directed graph is made to signify the direction of movement in a trip. \n",
    "\n",
    "Here, nodes are the different locations and an edge between two nodes is a trip between the two locations. \n",
    "\n",
    "The same source (start location) and target (end location) nodes will not lead to a proper edge, hence, only those datapoints are considered for which the start location and the stop location are different."
   ]
  },
  {
   "cell_type": "code",
   "execution_count": 3,
   "metadata": {},
   "outputs": [
    {
     "data": {
      "text/html": [
       "<div>\n",
       "<style scoped>\n",
       "    .dataframe tbody tr th:only-of-type {\n",
       "        vertical-align: middle;\n",
       "    }\n",
       "\n",
       "    .dataframe tbody tr th {\n",
       "        vertical-align: top;\n",
       "    }\n",
       "\n",
       "    .dataframe thead th {\n",
       "        text-align: right;\n",
       "    }\n",
       "</style>\n",
       "<table border=\"1\" class=\"dataframe\">\n",
       "  <thead>\n",
       "    <tr style=\"text-align: right;\">\n",
       "      <th></th>\n",
       "      <th>CATEGORY*</th>\n",
       "      <th>START*</th>\n",
       "      <th>STOP*</th>\n",
       "      <th>MILES*</th>\n",
       "      <th>PURPOSE*</th>\n",
       "      <th>Start Date</th>\n",
       "      <th>Start Time</th>\n",
       "      <th>End Date</th>\n",
       "      <th>End Time</th>\n",
       "      <th>Weekday</th>\n",
       "      <th>Duration</th>\n",
       "      <th>Peak Hour</th>\n",
       "    </tr>\n",
       "  </thead>\n",
       "  <tbody>\n",
       "    <tr>\n",
       "      <th>4</th>\n",
       "      <td>Business</td>\n",
       "      <td>Fort Pierce</td>\n",
       "      <td>West Palm Beach</td>\n",
       "      <td>63.7</td>\n",
       "      <td>Customer Visit</td>\n",
       "      <td>2016-01-06</td>\n",
       "      <td>14:42:00</td>\n",
       "      <td>2016-01-06</td>\n",
       "      <td>15:49:00</td>\n",
       "      <td>2</td>\n",
       "      <td>67.0</td>\n",
       "      <td>0</td>\n",
       "    </tr>\n",
       "    <tr>\n",
       "      <th>6</th>\n",
       "      <td>Business</td>\n",
       "      <td>West Palm Beach</td>\n",
       "      <td>Palm Beach</td>\n",
       "      <td>7.1</td>\n",
       "      <td>Meeting</td>\n",
       "      <td>2016-01-06</td>\n",
       "      <td>17:30:00</td>\n",
       "      <td>2016-01-06</td>\n",
       "      <td>17:35:00</td>\n",
       "      <td>2</td>\n",
       "      <td>5.0</td>\n",
       "      <td>1</td>\n",
       "    </tr>\n",
       "    <tr>\n",
       "      <th>8</th>\n",
       "      <td>Business</td>\n",
       "      <td>Cary</td>\n",
       "      <td>Morrisville</td>\n",
       "      <td>8.3</td>\n",
       "      <td>Meeting</td>\n",
       "      <td>2016-01-10</td>\n",
       "      <td>08:05:00</td>\n",
       "      <td>2016-01-10</td>\n",
       "      <td>08:25:00</td>\n",
       "      <td>6</td>\n",
       "      <td>20.0</td>\n",
       "      <td>0</td>\n",
       "    </tr>\n",
       "    <tr>\n",
       "      <th>9</th>\n",
       "      <td>Business</td>\n",
       "      <td>Jamaica</td>\n",
       "      <td>New York</td>\n",
       "      <td>16.5</td>\n",
       "      <td>Customer Visit</td>\n",
       "      <td>2016-01-10</td>\n",
       "      <td>12:17:00</td>\n",
       "      <td>2016-01-10</td>\n",
       "      <td>12:44:00</td>\n",
       "      <td>6</td>\n",
       "      <td>27.0</td>\n",
       "      <td>0</td>\n",
       "    </tr>\n",
       "    <tr>\n",
       "      <th>10</th>\n",
       "      <td>Business</td>\n",
       "      <td>New York</td>\n",
       "      <td>Queens</td>\n",
       "      <td>10.8</td>\n",
       "      <td>Meeting</td>\n",
       "      <td>2016-01-10</td>\n",
       "      <td>15:08:00</td>\n",
       "      <td>2016-01-10</td>\n",
       "      <td>15:51:00</td>\n",
       "      <td>6</td>\n",
       "      <td>43.0</td>\n",
       "      <td>0</td>\n",
       "    </tr>\n",
       "  </tbody>\n",
       "</table>\n",
       "</div>"
      ],
      "text/plain": [
       "   CATEGORY*           START*            STOP*  MILES*        PURPOSE*  \\\n",
       "4   Business      Fort Pierce  West Palm Beach    63.7  Customer Visit   \n",
       "6   Business  West Palm Beach       Palm Beach     7.1         Meeting   \n",
       "8   Business             Cary      Morrisville     8.3         Meeting   \n",
       "9   Business          Jamaica         New York    16.5  Customer Visit   \n",
       "10  Business         New York           Queens    10.8         Meeting   \n",
       "\n",
       "    Start Date Start Time    End Date  End Time  Weekday  Duration  Peak Hour  \n",
       "4   2016-01-06   14:42:00  2016-01-06  15:49:00        2      67.0          0  \n",
       "6   2016-01-06   17:30:00  2016-01-06  17:35:00        2       5.0          1  \n",
       "8   2016-01-10   08:05:00  2016-01-10  08:25:00        6      20.0          0  \n",
       "9   2016-01-10   12:17:00  2016-01-10  12:44:00        6      27.0          0  \n",
       "10  2016-01-10   15:08:00  2016-01-10  15:51:00        6      43.0          0  "
      ]
     },
     "execution_count": 3,
     "metadata": {},
     "output_type": "execute_result"
    }
   ],
   "source": [
    "# filtering the dataframe\n",
    "df_diff_area = df[df['START*']!=df['STOP*']]\n",
    "\n",
    "df_diff_area.head()"
   ]
  },
  {
   "cell_type": "markdown",
   "metadata": {},
   "source": [
    "# Making the Network"
   ]
  },
  {
   "cell_type": "markdown",
   "metadata": {},
   "source": [
    "A directed graph is made using the filtered dataframe."
   ]
  },
  {
   "cell_type": "code",
   "execution_count": 29,
   "metadata": {},
   "outputs": [],
   "source": [
    "# making the graph/network\n",
    "G = nx.from_pandas_edgelist(df_diff_area, source='START*', target='STOP*', \n",
    "                            create_using=nx.DiGraph())"
   ]
  },
  {
   "cell_type": "code",
   "execution_count": 30,
   "metadata": {},
   "outputs": [
    {
     "data": {
      "text/plain": [
       "<networkx.classes.digraph.DiGraph at 0x7fdbff837690>"
      ]
     },
     "execution_count": 30,
     "metadata": {},
     "output_type": "execute_result"
    }
   ],
   "source": [
    "G"
   ]
  },
  {
   "cell_type": "code",
   "execution_count": 31,
   "metadata": {
    "scrolled": true
   },
   "outputs": [
    {
     "data": {
      "text/plain": [
       "NodeView(('Fort Pierce', 'West Palm Beach', 'Palm Beach', 'Cary', 'Morrisville', 'Jamaica', 'New York', 'Queens', 'Elmhurst', 'Midtown', 'East Harlem', 'NoMad', 'Flatiron District', 'Midtown East', 'Hudson Square', 'Lower Manhattan', \"Hell's Kitchen\", 'Queens County', 'Downtown', 'Gulfton', 'Eagan Park', 'Jamestown Court', 'Durham', 'Farmington Woods', 'Whitebridge', 'Lake Wellingborough', 'Raleigh', 'Fayetteville Street', 'Umstead', 'Hazelwood', 'Westpark Place', 'Fairmont', 'Meredith Townes', 'Leesville Hollow', 'Apex', 'Chapel Hill', 'Northwoods', 'Williamsburg Manor', 'Macgregor Downs', 'Edgehill Farms', 'Tanglewood', 'Preston', 'Eastgate', 'Walnut Terrace', 'East Elmhurst', 'Jackson Heights', 'Midtown West', 'Long Island City', 'Heritage Pines', 'Waverly Place', 'Wayne Ridge', 'Depot Historic District', 'East Austin', 'West University', 'South Congress', 'Arts District', 'The Drag', 'Congress Ave District', 'Red River District', 'Convention Center District', 'North Austin', 'Georgian Acres', 'Coxville', 'Austin', 'Katy', 'Houston', 'Alief', 'Sharpstown', 'Sugar Land', 'Galveston', 'Port Bolivar', 'Washington Avenue', 'Briar Meadow', 'Greater Greenspoint', 'Latta', 'Jacksonville', 'Kissimmee', 'Couples Glen', 'Isles of Buena Vista', 'Orlando', 'Vista East', 'Sand Lake Commons', 'Sky Lake', 'Daytona Beach', 'Ridgeland', 'Florence', 'Meredith', 'Cedar Hill', 'Holly Springs', 'Harden Place', 'Burtrose', 'Parkway', 'Mcvan', 'Capitol One', 'University District', 'Seattle', 'Redmond', 'Bellevue', 'San Francisco', 'Palo Alto', 'Sunnyvale', 'Newark', 'Menlo Park', 'Old City', 'Parkway Museums', 'Hog Island', 'Savon Height', 'Kildaire Farms', 'Kilarney Woods', 'Townes at Everett Crossing', 'Chessington', 'Huntington Woods', 'Weston', 'Seaport', 'Gramercy-Flatiron', 'Medical Centre', 'Tudor City', 'Rose Hill', 'Soho', 'Tribeca', 'Financial District', 'Kips Bay', 'Oakland', 'Emeryville', 'Berkeley', 'Unknown Location', 'Bay Farm Island', 'Kenner', 'New Orleans', 'CBD', 'Lower Garden District', 'Lakeview', 'Storyville', 'Faubourg Marigny', 'Metairie', 'Bywater', 'Chalmette', 'Arabi', 'Marigny', 'Covington', 'Mandeville', 'Summerwinds', 'Pontchartrain Beach', 'St Thomas', 'Banner Elk', 'Elk Park', 'Newland', 'Boone', 'Stonewater', 'Lexington Park at Amberly', 'Arlington Park at Amberly', 'Arlington', 'Washington', 'Kalorama Triangle', 'K Street', 'West End', 'Northwest Rectangle', 'Connecticut Avenue', 'Columbia Heights', 'Wake Forest', 'SOMISSPO', 'French Quarter', 'West Berkeley', 'North Berkeley Hills', 'Southside', 'San Jose', 'Eagle Rock', 'Winston Salem', 'Asheville', 'Topton', 'Hayesville', 'Bryson City', 'Almond', 'Mebane', 'Santa Clara', 'Agnew', 'Cory', 'Renaissance', 'Central', 'NOMA', 'Sunnyside', 'Ingleside', 'Potrero Flats', 'Tenderloin', 'College Avenue', 'South', 'Southwest Berkeley', 'South Berkeley', 'Mountain View', 'El Cerrito', 'Krendle Woods', 'Wake Co.', 'Fuquay-Varina'))"
      ]
     },
     "execution_count": 31,
     "metadata": {},
     "output_type": "execute_result"
    }
   ],
   "source": [
    "# displaying the nodes\n",
    "#G.nodes()"
   ]
  },
  {
   "cell_type": "code",
   "execution_count": 32,
   "metadata": {
    "scrolled": true
   },
   "outputs": [
    {
     "data": {
      "text/plain": [
       "OutEdgeView([('Fort Pierce', 'West Palm Beach'), ('West Palm Beach', 'Palm Beach'), ('Cary', 'Morrisville'), ('Cary', 'Durham'), ('Cary', 'Raleigh'), ('Cary', 'Apex'), ('Cary', 'Chapel Hill'), ('Cary', 'Latta'), ('Cary', 'Holly Springs'), ('Cary', 'Wake Forest'), ('Cary', 'Winston Salem'), ('Cary', 'Unknown Location'), ('Cary', 'Wake Co.'), ('Cary', 'Fuquay-Varina'), ('Morrisville', 'Cary'), ('Morrisville', 'Raleigh'), ('Morrisville', 'Banner Elk'), ('Jamaica', 'New York'), ('New York', 'Queens'), ('New York', 'Queens County'), ('New York', 'Long Island City'), ('New York', 'Jamaica'), ('Elmhurst', 'New York'), ('Midtown', 'East Harlem'), ('Midtown', 'Midtown East'), ('Midtown', 'Hudson Square'), ('Midtown', 'Midtown West'), ('Midtown', 'Alief'), ('Midtown', 'Sharpstown'), ('Midtown', 'Washington Avenue'), ('Midtown', 'Downtown'), ('Midtown', 'Greater Greenspoint'), ('East Harlem', 'NoMad'), ('Flatiron District', 'Midtown'), ('Midtown East', 'Midtown'), ('Hudson Square', 'Lower Manhattan'), ('Hudson Square', \"Hell's Kitchen\"), ('Lower Manhattan', 'Hudson Square'), (\"Hell's Kitchen\", 'Midtown'), ('Downtown', 'Gulfton'), ('Downtown', 'Red River District'), ('Downtown', 'The Drag'), ('Downtown', 'Midtown'), ('Downtown', 'Bay Farm Island'), ('Downtown', 'West Berkeley'), ('Downtown', 'Sunnyside'), ('Downtown', 'Central'), ('Gulfton', 'Downtown'), ('Eagan Park', 'Jamestown Court'), ('Durham', 'Cary'), ('Durham', 'Morrisville'), ('Durham', 'Apex'), ('Farmington Woods', 'Whitebridge'), ('Farmington Woods', 'Edgehill Farms'), ('Whitebridge', 'Lake Wellingborough'), ('Whitebridge', 'Hazelwood'), ('Whitebridge', 'Westpark Place'), ('Whitebridge', 'Williamsburg Manor'), ('Whitebridge', 'Macgregor Downs'), ('Whitebridge', 'Edgehill Farms'), ('Whitebridge', 'Northwoods'), ('Whitebridge', 'Preston'), ('Whitebridge', 'Heritage Pines'), ('Whitebridge', 'Tanglewood'), ('Whitebridge', 'Waverly Place'), ('Whitebridge', 'Wayne Ridge'), ('Whitebridge', 'Burtrose'), ('Whitebridge', 'Savon Height'), ('Whitebridge', 'Kildaire Farms'), ('Whitebridge', 'Summerwinds'), ('Whitebridge', 'Stonewater'), ('Whitebridge', 'Chessington'), ('Whitebridge', 'Parkway'), ('Whitebridge', 'Arlington Park at Amberly'), ('Whitebridge', 'Farmington Woods'), ('Lake Wellingborough', 'Whitebridge'), ('Raleigh', 'Cary'), ('Raleigh', 'Morrisville'), ('Fayetteville Street', 'Umstead'), ('Fayetteville Street', 'Depot Historic District'), ('Fayetteville Street', 'Meredith Townes'), ('Hazelwood', 'Whitebridge'), ('Hazelwood', 'Weston'), ('Hazelwood', 'Lexington Park at Amberly'), ('Westpark Place', 'Whitebridge'), ('Westpark Place', 'Hazelwood'), ('Fairmont', 'Meredith Townes'), ('Meredith Townes', 'Leesville Hollow'), ('Meredith Townes', 'Harden Place'), ('Apex', 'Cary'), ('Apex', 'Eagle Rock'), ('Apex', 'Holly Springs'), ('Chapel Hill', 'Cary'), ('Chapel Hill', 'Morrisville'), ('Northwoods', 'Whitebridge'), ('Northwoods', 'Tanglewood'), ('Northwoods', 'Preston'), ('Edgehill Farms', 'Whitebridge'), ('Edgehill Farms', 'Preston'), ('Edgehill Farms', 'Burtrose'), ('Tanglewood', 'Preston'), ('Tanglewood', 'Whitebridge'), ('Tanglewood', 'Parkway'), ('Preston', 'Whitebridge'), ('Preston', 'Westpark Place'), ('Eastgate', 'Walnut Terrace'), ('East Elmhurst', 'Jackson Heights'), ('East Elmhurst', 'New York'), ('Jackson Heights', 'East Elmhurst'), ('Long Island City', 'Jamaica'), ('Heritage Pines', 'Whitebridge'), ('Heritage Pines', 'Edgehill Farms'), ('Waverly Place', 'Whitebridge'), ('Waverly Place', 'Macgregor Downs'), ('Wayne Ridge', 'Whitebridge'), ('East Austin', 'West University'), ('West University', 'South Congress'), ('West University', 'Congress Ave District'), ('South Congress', 'Arts District'), ('South Congress', 'The Drag'), ('South Congress', 'North Austin'), ('The Drag', 'Congress Ave District'), ('The Drag', 'South Congress'), ('The Drag', 'Convention Center District'), ('The Drag', 'North Austin'), ('Congress Ave District', 'Downtown'), ('Red River District', 'Downtown'), ('Convention Center District', 'West University'), ('North Austin', 'Coxville'), ('Georgian Acres', 'The Drag'), ('Coxville', 'The Drag'), ('Austin', 'Katy'), ('Katy', 'Houston'), ('Houston', 'Sugar Land'), ('Houston', 'Galveston'), ('Sharpstown', 'Midtown'), ('Sharpstown', 'Briar Meadow'), ('Sugar Land', 'Houston'), ('Galveston', 'Port Bolivar'), ('Galveston', 'Houston'), ('Port Bolivar', 'Galveston'), ('Washington Avenue', 'Midtown'), ('Briar Meadow', 'Midtown'), ('Latta', 'Jacksonville'), ('Jacksonville', 'Kissimmee'), ('Jacksonville', 'Ridgeland'), ('Kissimmee', 'Orlando'), ('Kissimmee', 'Daytona Beach'), ('Couples Glen', 'Isles of Buena Vista'), ('Couples Glen', 'Vista East'), ('Orlando', 'Kissimmee'), ('Sand Lake Commons', 'Sky Lake'), ('Sky Lake', 'Sand Lake Commons'), ('Daytona Beach', 'Jacksonville'), ('Ridgeland', 'Florence'), ('Florence', 'Cary'), ('Meredith', 'Cedar Hill'), ('Holly Springs', 'Cary'), ('Burtrose', 'Whitebridge'), ('Parkway', 'Whitebridge'), ('Mcvan', 'Capitol One'), ('Capitol One', 'University District'), ('Capitol One', 'Mcvan'), ('University District', 'Capitol One'), ('Seattle', 'Redmond'), ('Redmond', 'Bellevue'), ('Bellevue', 'Seattle'), ('San Francisco', 'Palo Alto'), ('San Francisco', 'Emeryville'), ('San Francisco', 'Berkeley'), ('San Francisco', 'Oakland'), ('Palo Alto', 'Sunnyvale'), ('Palo Alto', 'Menlo Park'), ('Sunnyvale', 'Newark'), ('Newark', 'Menlo Park'), ('Newark', 'San Francisco'), ('Menlo Park', 'Newark'), ('Menlo Park', 'Palo Alto'), ('Menlo Park', 'Berkeley'), ('Old City', 'Parkway Museums'), ('Old City', 'Hog Island'), ('Savon Height', 'Whitebridge'), ('Savon Height', 'Kilarney Woods'), ('Savon Height', 'Parkway'), ('Kilarney Woods', 'Kildaire Farms'), ('Kilarney Woods', 'Whitebridge'), ('Townes at Everett Crossing', 'Chessington'), ('Chessington', 'Whitebridge'), ('Huntington Woods', 'Weston'), ('Seaport', 'Gramercy-Flatiron'), ('Medical Centre', 'Tudor City'), ('Rose Hill', 'Soho'), ('Soho', 'Tribeca'), ('Tribeca', 'Financial District'), ('Financial District', 'Kips Bay'), ('Oakland', 'Emeryville'), ('Oakland', 'Unknown Location'), ('Oakland', 'San Francisco'), ('Oakland', 'Berkeley'), ('Emeryville', 'Berkeley'), ('Emeryville', 'San Francisco'), ('Emeryville', 'Oakland'), ('Berkeley', 'Oakland'), ('Berkeley', 'Emeryville'), ('Berkeley', 'San Jose'), ('Berkeley', 'San Francisco'), ('Berkeley', 'Menlo Park'), ('Berkeley', 'Mountain View'), ('Berkeley', 'El Cerrito'), ('Unknown Location', 'Morrisville'), ('Kenner', 'New Orleans'), ('Kenner', 'Metairie'), ('New Orleans', 'Metairie'), ('New Orleans', 'Kenner'), ('New Orleans', 'Chalmette'), ('New Orleans', 'Covington'), ('CBD', 'Lower Garden District'), ('CBD', 'Bywater'), ('CBD', 'Pontchartrain Beach'), ('CBD', 'St Thomas'), ('Lower Garden District', 'Lakeview'), ('Lakeview', 'Storyville'), ('Storyville', 'Faubourg Marigny'), ('Storyville', 'Marigny'), ('Metairie', 'Kenner'), ('Metairie', 'New Orleans'), ('Chalmette', 'Arabi'), ('Arabi', 'Metairie'), ('Marigny', 'Storyville'), ('Covington', 'Mandeville'), ('Mandeville', 'Metairie'), ('Summerwinds', 'Whitebridge'), ('Pontchartrain Beach', 'CBD'), ('St Thomas', 'CBD'), ('Banner Elk', 'Elk Park'), ('Banner Elk', 'Newland'), ('Banner Elk', 'Boone'), ('Elk Park', 'Banner Elk'), ('Newland', 'Boone'), ('Boone', 'Banner Elk'), ('Boone', 'Cary'), ('Stonewater', 'Lexington Park at Amberly'), ('Lexington Park at Amberly', 'Whitebridge'), ('Lexington Park at Amberly', 'Westpark Place'), ('Arlington Park at Amberly', 'Lexington Park at Amberly'), ('Arlington', 'Washington'), ('Washington', 'Arlington'), ('Kalorama Triangle', 'K Street'), ('Kalorama Triangle', 'Downtown'), ('Kalorama Triangle', 'Columbia Heights'), ('K Street', 'Kalorama Triangle'), ('West End', 'Northwest Rectangle'), ('Connecticut Avenue', 'Kalorama Triangle'), ('Columbia Heights', 'Kalorama Triangle'), ('Wake Forest', 'Cary'), ('SOMISSPO', 'French Quarter'), ('SOMISSPO', 'Tenderloin'), ('West Berkeley', 'North Berkeley Hills'), ('West Berkeley', 'Central'), ('West Berkeley', 'South'), ('West Berkeley', 'Southside'), ('North Berkeley Hills', 'Southside'), ('Southside', 'West Berkeley'), ('Southside', 'South Berkeley'), ('Southside', 'Central'), ('San Jose', 'Emeryville'), ('San Jose', 'Santa Clara'), ('Eagle Rock', 'Cary'), ('Winston Salem', 'Asheville'), ('Asheville', 'Topton'), ('Asheville', 'Mebane'), ('Topton', 'Hayesville'), ('Topton', 'Bryson City'), ('Hayesville', 'Topton'), ('Bryson City', 'Almond'), ('Bryson City', 'Asheville'), ('Almond', 'Bryson City'), ('Mebane', 'Cary'), ('Santa Clara', 'Berkeley'), ('Agnew', 'Cory'), ('Agnew', 'Renaissance'), ('Cory', 'Agnew'), ('Renaissance', 'Agnew'), ('Central', 'College Avenue'), ('Central', 'South'), ('Central', 'West Berkeley'), ('Central', 'Southside'), ('NOMA', 'Downtown'), ('Sunnyside', 'Ingleside'), ('Ingleside', 'Potrero Flats'), ('Tenderloin', 'SOMISSPO'), ('College Avenue', 'Central'), ('South', 'Downtown'), ('South', 'Southwest Berkeley'), ('South Berkeley', 'Southside'), ('Mountain View', 'Berkeley'), ('El Cerrito', 'Berkeley'), ('Krendle Woods', 'Whitebridge'), ('Wake Co.', 'Morrisville'), ('Fuquay-Varina', 'Cary')])"
      ]
     },
     "execution_count": 32,
     "metadata": {},
     "output_type": "execute_result"
    }
   ],
   "source": [
    "# displaying the edges\n",
    "#G.edges()"
   ]
  },
  {
   "cell_type": "markdown",
   "metadata": {},
   "source": [
    "### An edge attribute equal to the no. of trips between the two locations needs to be added. \n",
    "\n",
    "For that purpose the dataframe is grouped by the start and stop locations and the entries are counted."
   ]
  },
  {
   "cell_type": "code",
   "execution_count": 33,
   "metadata": {},
   "outputs": [
    {
     "data": {
      "text/html": [
       "<div>\n",
       "<style scoped>\n",
       "    .dataframe tbody tr th:only-of-type {\n",
       "        vertical-align: middle;\n",
       "    }\n",
       "\n",
       "    .dataframe tbody tr th {\n",
       "        vertical-align: top;\n",
       "    }\n",
       "\n",
       "    .dataframe thead th {\n",
       "        text-align: right;\n",
       "    }\n",
       "</style>\n",
       "<table border=\"1\" class=\"dataframe\">\n",
       "  <thead>\n",
       "    <tr style=\"text-align: right;\">\n",
       "      <th></th>\n",
       "      <th>START*</th>\n",
       "      <th>STOP*</th>\n",
       "      <th>MILES*</th>\n",
       "    </tr>\n",
       "  </thead>\n",
       "  <tbody>\n",
       "    <tr>\n",
       "      <th>0</th>\n",
       "      <td>Agnew</td>\n",
       "      <td>Cory</td>\n",
       "      <td>1</td>\n",
       "    </tr>\n",
       "    <tr>\n",
       "      <th>1</th>\n",
       "      <td>Agnew</td>\n",
       "      <td>Renaissance</td>\n",
       "      <td>2</td>\n",
       "    </tr>\n",
       "    <tr>\n",
       "      <th>2</th>\n",
       "      <td>Almond</td>\n",
       "      <td>Bryson City</td>\n",
       "      <td>1</td>\n",
       "    </tr>\n",
       "    <tr>\n",
       "      <th>3</th>\n",
       "      <td>Apex</td>\n",
       "      <td>Cary</td>\n",
       "      <td>13</td>\n",
       "    </tr>\n",
       "    <tr>\n",
       "      <th>4</th>\n",
       "      <td>Apex</td>\n",
       "      <td>Eagle Rock</td>\n",
       "      <td>1</td>\n",
       "    </tr>\n",
       "  </tbody>\n",
       "</table>\n",
       "</div>"
      ],
      "text/plain": [
       "   START*        STOP*  MILES*\n",
       "0   Agnew         Cory       1\n",
       "1   Agnew  Renaissance       2\n",
       "2  Almond  Bryson City       1\n",
       "3    Apex         Cary      13\n",
       "4    Apex   Eagle Rock       1"
      ]
     },
     "execution_count": 33,
     "metadata": {},
     "output_type": "execute_result"
    }
   ],
   "source": [
    "# making the edge attributes dataframe\n",
    "df_edge = df_diff_area.groupby(['START*', 'STOP*'], as_index=False)['MILES*'].count()\n",
    "\n",
    "df_edge.head()"
   ]
  },
  {
   "cell_type": "markdown",
   "metadata": {},
   "source": [
    "Another column 'trip_loc' is added which stores the start and stop locations in the form that it is stored in the network as edges, i.e., (start_location, stop_location)."
   ]
  },
  {
   "cell_type": "code",
   "execution_count": 34,
   "metadata": {},
   "outputs": [],
   "source": [
    "# adding the trip_loc column\n",
    "trip_loc = [tuple([df_edge.loc[i]['START*'], df_edge.loc[i]['STOP*']]) for i in range(len(df_edge))]\n",
    "\n",
    "df_edge['trip_loc'] = trip_loc"
   ]
  },
  {
   "cell_type": "code",
   "execution_count": 35,
   "metadata": {},
   "outputs": [
    {
     "data": {
      "text/html": [
       "<div>\n",
       "<style scoped>\n",
       "    .dataframe tbody tr th:only-of-type {\n",
       "        vertical-align: middle;\n",
       "    }\n",
       "\n",
       "    .dataframe tbody tr th {\n",
       "        vertical-align: top;\n",
       "    }\n",
       "\n",
       "    .dataframe thead th {\n",
       "        text-align: right;\n",
       "    }\n",
       "</style>\n",
       "<table border=\"1\" class=\"dataframe\">\n",
       "  <thead>\n",
       "    <tr style=\"text-align: right;\">\n",
       "      <th></th>\n",
       "      <th>START*</th>\n",
       "      <th>STOP*</th>\n",
       "      <th>MILES*</th>\n",
       "      <th>trip_loc</th>\n",
       "    </tr>\n",
       "  </thead>\n",
       "  <tbody>\n",
       "    <tr>\n",
       "      <th>0</th>\n",
       "      <td>Agnew</td>\n",
       "      <td>Cory</td>\n",
       "      <td>1</td>\n",
       "      <td>(Agnew, Cory)</td>\n",
       "    </tr>\n",
       "    <tr>\n",
       "      <th>1</th>\n",
       "      <td>Agnew</td>\n",
       "      <td>Renaissance</td>\n",
       "      <td>2</td>\n",
       "      <td>(Agnew, Renaissance)</td>\n",
       "    </tr>\n",
       "    <tr>\n",
       "      <th>2</th>\n",
       "      <td>Almond</td>\n",
       "      <td>Bryson City</td>\n",
       "      <td>1</td>\n",
       "      <td>(Almond, Bryson City)</td>\n",
       "    </tr>\n",
       "    <tr>\n",
       "      <th>3</th>\n",
       "      <td>Apex</td>\n",
       "      <td>Cary</td>\n",
       "      <td>13</td>\n",
       "      <td>(Apex, Cary)</td>\n",
       "    </tr>\n",
       "    <tr>\n",
       "      <th>4</th>\n",
       "      <td>Apex</td>\n",
       "      <td>Eagle Rock</td>\n",
       "      <td>1</td>\n",
       "      <td>(Apex, Eagle Rock)</td>\n",
       "    </tr>\n",
       "  </tbody>\n",
       "</table>\n",
       "</div>"
      ],
      "text/plain": [
       "   START*        STOP*  MILES*               trip_loc\n",
       "0   Agnew         Cory       1          (Agnew, Cory)\n",
       "1   Agnew  Renaissance       2   (Agnew, Renaissance)\n",
       "2  Almond  Bryson City       1  (Almond, Bryson City)\n",
       "3    Apex         Cary      13           (Apex, Cary)\n",
       "4    Apex   Eagle Rock       1     (Apex, Eagle Rock)"
      ]
     },
     "execution_count": 35,
     "metadata": {},
     "output_type": "execute_result"
    }
   ],
   "source": [
    "df_edge.head()"
   ]
  },
  {
   "cell_type": "markdown",
   "metadata": {},
   "source": [
    "Now the network is updated with the edge attributes."
   ]
  },
  {
   "cell_type": "code",
   "execution_count": 36,
   "metadata": {},
   "outputs": [],
   "source": [
    "# loop to iterate over the edges\n",
    "for i in range(len(df_edge)):\n",
    "    \n",
    "    edge = df_edge.iloc[i]['trip_loc']           # extracting the edge\n",
    "    d = {'Trips':df_edge.iloc[i]['MILES*']}      # dictionary to store the count of trips for that edge\n",
    "    G.edges()[edge].update(d)                    # adding the attribute\n",
    "        \n",
    "        "
   ]
  },
  {
   "cell_type": "markdown",
   "metadata": {},
   "source": [
    "Every edge stores the no. of trips made for that start and end locations/nodes. "
   ]
  },
  {
   "cell_type": "code",
   "execution_count": 37,
   "metadata": {},
   "outputs": [
    {
     "name": "stdout",
     "output_type": "stream",
     "text": [
      "{'Trips': 1}\n",
      "{'Trips': 14}\n",
      "{'Trips': 4}\n"
     ]
    }
   ],
   "source": [
    "print(G.edges()[('Fort Pierce', 'West Palm Beach')])\n",
    "print(G.edges()[('Cary', 'Apex')])\n",
    "print(G.edges()[('Whitebridge', 'Hazelwood')])"
   ]
  },
  {
   "cell_type": "markdown",
   "metadata": {},
   "source": [
    "One needs to define the location of the nodes on the graph. The spring_layout is used in this case which finds the position of the nodes using Fruchterman-Reingold force-directed algorithm. \n",
    "\n",
    "Other available layouts are random_layout, circular_layout, etc. "
   ]
  },
  {
   "cell_type": "code",
   "execution_count": 38,
   "metadata": {},
   "outputs": [],
   "source": [
    "# defining the position of the nodes\n",
    "pos = nx.spring_layout(G)\n",
    "\n",
    "# adding the position in the form of a dictionary to the nodes\n",
    "for node in G.nodes:\n",
    "    G.nodes[node]['pos'] = list(pos[node])"
   ]
  },
  {
   "cell_type": "markdown",
   "metadata": {},
   "source": [
    "The position is simply the x and y coordinates that the node will be plotted on in a graph."
   ]
  },
  {
   "cell_type": "code",
   "execution_count": 39,
   "metadata": {},
   "outputs": [
    {
     "name": "stdout",
     "output_type": "stream",
     "text": [
      "[-0.08981067670826734, -0.5564264468809463]\n",
      "[0.00653569783664845, 0.5618936901220456]\n",
      "[0.15193413882703968, -0.15136982741405522]\n"
     ]
    }
   ],
   "source": [
    "print(G.nodes['Fort Pierce']['pos'])\n",
    "print(G.nodes['Cary']['pos'])\n",
    "print(G.nodes['New York']['pos'])"
   ]
  },
  {
   "cell_type": "markdown",
   "metadata": {},
   "source": [
    "Now the network is ready for plotting."
   ]
  },
  {
   "cell_type": "markdown",
   "metadata": {},
   "source": [
    "# Plotting the network"
   ]
  },
  {
   "cell_type": "markdown",
   "metadata": {},
   "source": [
    "Plotly graph objects will be used for creating the plot. \n",
    "\n",
    "The first step is to make a trace which will add all the nodes of the network to the plot.\n",
    "\n",
    "The nodes also need to be colored according to the no. of unique locations that are travelled to or from them. Suppose if trips to 5 different locations are made from a location A, then node A will have a different color on the plot compared to a location B from where trips are made to 10 different locations. The adjacency() function of a network will be used here. "
   ]
  },
  {
   "cell_type": "code",
   "execution_count": 40,
   "metadata": {},
   "outputs": [],
   "source": [
    "# Make a node trace\n",
    "\n",
    "traceRecode = []                    # list to store all the traces\n",
    "\n",
    "# initialise a node trace\n",
    "node_trace = go.Scatter(x=[], y=[], hovertext=[], mode='markers', hoverinfo=\"text\", \n",
    "                        marker=dict(showscale=True, reversescale=True,\n",
    "                                    color=[], size=5, colorbar=dict(thickness=10, title='No. of unique locations travelled to or from',\n",
    "                                                                    xanchor='left', titleside='right'),\n",
    "                                    colorscale=\"rdylbu\"))\n",
    "\n",
    "# adding the coordinate position of the nodes\n",
    "for node in G.nodes():\n",
    "    x, y = G.nodes()[node]['pos']\n",
    "    hovertext = node\n",
    "    node_trace['x'] += tuple([x])\n",
    "    node_trace['y'] += tuple([y])\n",
    "    node_trace['hovertext'] += tuple([hovertext])          # add the hovertext (name of the location)\n",
    "\n",
    "# specify the color of the node\n",
    "for node, adjacencies in enumerate(G.adjacency()):\n",
    "    try:\n",
    "        node_trace['marker']['color']+=tuple([len(adjacencies[1])])\n",
    "    except:\n",
    "        pass\n",
    "    \n",
    "traceRecode.append(node_trace)                     # adding the node trace"
   ]
  },
  {
   "cell_type": "markdown",
   "metadata": {},
   "source": [
    "A try except block is used here to ensure that no exceptions arise for pairs of nodes that do not share an edge."
   ]
  },
  {
   "cell_type": "markdown",
   "metadata": {},
   "source": [
    "The edge traces are now added. \n",
    "\n",
    "The width of the edge will be equal to the no. of trips. So, if 10 trips are made between location A and B, the edge between them will be thicker compared to the edge between locations C and D which have only 5 trips."
   ]
  },
  {
   "cell_type": "code",
   "execution_count": 41,
   "metadata": {},
   "outputs": [],
   "source": [
    "# Make an edge trace\n",
    "\n",
    "for edge in G.edges:\n",
    "    x0, y0 = G.nodes()[edge[0]]['pos']\n",
    "    x1, y1 = G.nodes()[edge[1]]['pos']\n",
    "    weight = G.edges()[edge]['Trips']                 # specifying the parameter for the width of the edge\n",
    "    \n",
    "    trace = go.Scatter(x=tuple([x0, x1, None]), y=tuple([y0, y1, None]),    # defining the edge trace\n",
    "                       mode='lines',\n",
    "                       line=dict(width=weight,color='Blue'))\n",
    "    traceRecode.append(trace)                         # adding the edge trace"
   ]
  },
  {
   "cell_type": "markdown",
   "metadata": {},
   "source": [
    "All the necessary traces have been added. The plot is now created."
   ]
  },
  {
   "cell_type": "code",
   "execution_count": 42,
   "metadata": {},
   "outputs": [],
   "source": [
    "figure = {\n",
    "    \"data\": traceRecode,\n",
    "    \"layout\": go.Layout(title='Network of Trips', showlegend=False, hovermode='closest')}"
   ]
  },
  {
   "cell_type": "code",
   "execution_count": 43,
   "metadata": {},
   "outputs": [
    {
     "data": {
      "application/vnd.plotly.v1+json": {
       "config": {
        "plotlyServerURL": "https://plot.ly"
       },
       "data": [
        {
         "hoverinfo": "text",
         "hovertext": [
          "Fort Pierce",
          "West Palm Beach",
          "Palm Beach",
          "Cary",
          "Morrisville",
          "Jamaica",
          "New York",
          "Queens",
          "Elmhurst",
          "Midtown",
          "East Harlem",
          "NoMad",
          "Flatiron District",
          "Midtown East",
          "Hudson Square",
          "Lower Manhattan",
          "Hell's Kitchen",
          "Queens County",
          "Downtown",
          "Gulfton",
          "Eagan Park",
          "Jamestown Court",
          "Durham",
          "Farmington Woods",
          "Whitebridge",
          "Lake Wellingborough",
          "Raleigh",
          "Fayetteville Street",
          "Umstead",
          "Hazelwood",
          "Westpark Place",
          "Fairmont",
          "Meredith Townes",
          "Leesville Hollow",
          "Apex",
          "Chapel Hill",
          "Northwoods",
          "Williamsburg Manor",
          "Macgregor Downs",
          "Edgehill Farms",
          "Tanglewood",
          "Preston",
          "Eastgate",
          "Walnut Terrace",
          "East Elmhurst",
          "Jackson Heights",
          "Midtown West",
          "Long Island City",
          "Heritage Pines",
          "Waverly Place",
          "Wayne Ridge",
          "Depot Historic District",
          "East Austin",
          "West University",
          "South Congress",
          "Arts District",
          "The Drag",
          "Congress Ave District",
          "Red River District",
          "Convention Center District",
          "North Austin",
          "Georgian Acres",
          "Coxville",
          "Austin",
          "Katy",
          "Houston",
          "Alief",
          "Sharpstown",
          "Sugar Land",
          "Galveston",
          "Port Bolivar",
          "Washington Avenue",
          "Briar Meadow",
          "Greater Greenspoint",
          "Latta",
          "Jacksonville",
          "Kissimmee",
          "Couples Glen",
          "Isles of Buena Vista",
          "Orlando",
          "Vista East",
          "Sand Lake Commons",
          "Sky Lake",
          "Daytona Beach",
          "Ridgeland",
          "Florence",
          "Meredith",
          "Cedar Hill",
          "Holly Springs",
          "Harden Place",
          "Burtrose",
          "Parkway",
          "Mcvan",
          "Capitol One",
          "University District",
          "Seattle",
          "Redmond",
          "Bellevue",
          "San Francisco",
          "Palo Alto",
          "Sunnyvale",
          "Newark",
          "Menlo Park",
          "Old City",
          "Parkway Museums",
          "Hog Island",
          "Savon Height",
          "Kildaire Farms",
          "Kilarney Woods",
          "Townes at Everett Crossing",
          "Chessington",
          "Huntington Woods",
          "Weston",
          "Seaport",
          "Gramercy-Flatiron",
          "Medical Centre",
          "Tudor City",
          "Rose Hill",
          "Soho",
          "Tribeca",
          "Financial District",
          "Kips Bay",
          "Oakland",
          "Emeryville",
          "Berkeley",
          "Unknown Location",
          "Bay Farm Island",
          "Kenner",
          "New Orleans",
          "CBD",
          "Lower Garden District",
          "Lakeview",
          "Storyville",
          "Faubourg Marigny",
          "Metairie",
          "Bywater",
          "Chalmette",
          "Arabi",
          "Marigny",
          "Covington",
          "Mandeville",
          "Summerwinds",
          "Pontchartrain Beach",
          "St Thomas",
          "Banner Elk",
          "Elk Park",
          "Newland",
          "Boone",
          "Stonewater",
          "Lexington Park at Amberly",
          "Arlington Park at Amberly",
          "Arlington",
          "Washington",
          "Kalorama Triangle",
          "K Street",
          "West End",
          "Northwest Rectangle",
          "Connecticut Avenue",
          "Columbia Heights",
          "Wake Forest",
          "SOMISSPO",
          "French Quarter",
          "West Berkeley",
          "North Berkeley Hills",
          "Southside",
          "San Jose",
          "Eagle Rock",
          "Winston Salem",
          "Asheville",
          "Topton",
          "Hayesville",
          "Bryson City",
          "Almond",
          "Mebane",
          "Santa Clara",
          "Agnew",
          "Cory",
          "Renaissance",
          "Central",
          "NOMA",
          "Sunnyside",
          "Ingleside",
          "Potrero Flats",
          "Tenderloin",
          "College Avenue",
          "South",
          "Southwest Berkeley",
          "South Berkeley",
          "Mountain View",
          "El Cerrito",
          "Krendle Woods",
          "Wake Co.",
          "Fuquay-Varina"
         ],
         "marker": {
          "color": [
           1,
           1,
           0,
           12,
           3,
           1,
           4,
           0,
           1,
           9,
           1,
           0,
           1,
           1,
           2,
           1,
           1,
           0,
           8,
           1,
           1,
           0,
           3,
           2,
           21,
           1,
           2,
           3,
           0,
           3,
           2,
           1,
           2,
           0,
           3,
           2,
           3,
           0,
           0,
           3,
           3,
           2,
           1,
           0,
           2,
           1,
           0,
           1,
           2,
           2,
           1,
           0,
           1,
           2,
           3,
           0,
           4,
           1,
           1,
           1,
           1,
           1,
           1,
           1,
           1,
           2,
           0,
           2,
           1,
           2,
           1,
           1,
           1,
           0,
           1,
           2,
           2,
           2,
           0,
           1,
           0,
           1,
           1,
           1,
           1,
           1,
           1,
           0,
           1,
           0,
           1,
           1,
           1,
           2,
           1,
           1,
           1,
           1,
           4,
           2,
           1,
           2,
           3,
           2,
           0,
           0,
           3,
           0,
           2,
           1,
           1,
           1,
           0,
           1,
           0,
           1,
           0,
           1,
           1,
           1,
           1,
           0,
           4,
           3,
           7,
           1,
           0,
           2,
           4,
           4,
           1,
           1,
           2,
           0,
           2,
           0,
           1,
           1,
           1,
           1,
           1,
           1,
           1,
           1,
           3,
           1,
           1,
           2,
           1,
           2,
           1,
           1,
           1,
           3,
           1,
           1,
           0,
           1,
           1,
           1,
           2,
           0,
           4,
           1,
           3,
           2,
           1,
           1,
           2,
           2,
           1,
           2,
           1,
           1,
           1,
           2,
           1,
           1,
           4,
           1,
           1,
           1,
           0,
           1,
           1,
           2,
           0,
           1,
           1,
           1,
           1,
           1,
           1
          ],
          "colorbar": {
           "thickness": 10,
           "title": {
            "side": "right",
            "text": "No. of unique locations travelled to or from"
           },
           "xanchor": "left"
          },
          "colorscale": [
           [
            0,
            "rgb(165,0,38)"
           ],
           [
            0.1,
            "rgb(215,48,39)"
           ],
           [
            0.2,
            "rgb(244,109,67)"
           ],
           [
            0.3,
            "rgb(253,174,97)"
           ],
           [
            0.4,
            "rgb(254,224,144)"
           ],
           [
            0.5,
            "rgb(255,255,191)"
           ],
           [
            0.6,
            "rgb(224,243,248)"
           ],
           [
            0.7,
            "rgb(171,217,233)"
           ],
           [
            0.8,
            "rgb(116,173,209)"
           ],
           [
            0.9,
            "rgb(69,117,180)"
           ],
           [
            1,
            "rgb(49,54,149)"
           ]
          ],
          "reversescale": true,
          "showscale": true,
          "size": 5
         },
         "mode": "markers",
         "type": "scatter",
         "x": [
          -0.08981067670826734,
          -0.11499243958568889,
          -0.15912891195666076,
          0.00653569783664845,
          -0.05155337576046852,
          0.12320812507506151,
          0.15193413882703968,
          -0.6943968734446403,
          0.15803882568353286,
          -0.3339307070576863,
          0.39119676017224597,
          0.4068487788436807,
          -0.35535445485346345,
          -0.3726784531334068,
          -0.2940525003195566,
          -0.27170331838139444,
          -0.3308759945724195,
          0.9999999999999999,
          0.37523535893892773,
          0.41384451847307707,
          0.47987335516736856,
          0.6484854010156472,
          -0.006294990140891957,
          -0.672326983134384,
          -0.6355184946698897,
          -0.6743224747132271,
          -0.031225964610857616,
          -0.18850566763108087,
          0.49479132624465005,
          -0.5087013121108135,
          -0.571708532269586,
          -0.04521495824561943,
          -0.05826976793071641,
          -0.11344572747421838,
          0.04418103557731134,
          -0.018619617067536835,
          -0.6303002646450261,
          -0.9936320312829755,
          -0.47446885374105346,
          -0.6249962248204908,
          -0.6445562734527357,
          -0.6097253281859943,
          0.7656546939286556,
          0.9574426526345866,
          0.18747084038018255,
          0.2182981656262756,
          -0.8347958209770373,
          0.09767389312046558,
          -0.654352839565597,
          -0.5525563337442222,
          -0.6262458747579543,
          -0.8674512480363487,
          0.3379089467899003,
          0.3043971508597925,
          0.19270310519524497,
          0.1349866375151945,
          0.28396794357800365,
          0.41369328467061434,
          0.42788591905969225,
          0.31211770793194754,
          0.1860576356722349,
          0.2605770792026613,
          0.250779036487823,
          -0.4281333462080918,
          -0.40433550425243003,
          -0.3732863040165991,
          -0.8208351366503152,
          -0.36441214803730937,
          -0.3789204981426731,
          -0.361684470241078,
          -0.3654548187073246,
          -0.3287302390186808,
          -0.3759181235554326,
          -0.947814944303587,
          0.17162915457282368,
          0.13443111033827412,
          0.2334089869526381,
          -0.05058046473151391,
          0.875646469761618,
          0.26920982893597845,
          -0.9760046669556657,
          -0.217668724194539,
          -0.19424529774564986,
          0.18298362234470514,
          0.027252848964473508,
          0.007995403923307151,
          0.6669263227960512,
          0.9407050733164788,
          0.053562302103836786,
          -0.01925259706679653,
          -0.6563441435197541,
          -0.6761300732775591,
          -0.562683228061876,
          -0.5878636512797422,
          -0.6215643836147127,
          -0.5336369773232554,
          -0.554043859522779,
          -0.5742620852025779,
          0.09108257637435149,
          0.16063410934214448,
          0.17102630298095595,
          0.1296910878899934,
          0.12489833805469243,
          0.7473349073463132,
          0.7750211043841024,
          0.8757944123177239,
          -0.6779738083414828,
          -0.7802746231896529,
          -0.7050728922568569,
          -0.5084142647390143,
          -0.6348980136925776,
          -0.29369975641351054,
          -0.35639808630724534,
          0.057076871173903865,
          0.056203790376571104,
          0.7849753189450722,
          0.9575968837381842,
          0.36841946443257373,
          0.47106405004086577,
          0.5954425516422513,
          0.7272500915751805,
          0.8805764195170631,
          0.02293760603570412,
          0.06296737885084382,
          0.07729952643531772,
          -0.07780514594252302,
          0.6185677915887247,
          0.4132025725784307,
          0.393620771298509,
          0.4197067713405106,
          0.1677894728071682,
          0.2268846091412453,
          0.22962354737015284,
          0.28262255891920907,
          0.4215609254626437,
          0.8599676664867721,
          0.4471023033219302,
          0.4550865663637871,
          0.18394095226627913,
          0.33792714051423434,
          0.38243349598570825,
          -0.6109934751082702,
          0.334424878430943,
          0.3509935441280999,
          -0.08989122615934875,
          -0.12712275093872621,
          -0.05363971760901022,
          -0.04466710711642731,
          -0.6360599796505155,
          -0.5989751712236193,
          -0.5723080930916794,
          -0.8528169773476151,
          -0.8086442017948446,
          0.33808179177310443,
          0.3165494290652029,
          0.42573525285743896,
          0.5164414543211586,
          0.31313506763831295,
          0.3061961646502424,
          0.02385144654197455,
          -0.6099103133446572,
          -0.7208685162502674,
          0.6495577761181255,
          0.6722544332350213,
          0.6390807309960873,
          0.1051586301568019,
          0.022706765738808313,
          -0.07940958320806038,
          -0.04963978980323877,
          -0.15257988854626547,
          -0.1854407440298569,
          -0.10995182927895984,
          -0.15602133707393775,
          0.045378673122160165,
          0.11910112269228844,
          -0.7378730828981975,
          -0.7227400406965296,
          -0.7709645487770276,
          0.6424500640065746,
          0.4072351358316921,
          0.7998103973909387,
          0.9543630216274906,
          0.9275271391118343,
          -0.5723632135824303,
          0.6647688735137282,
          0.6298921751889827,
          0.8849616433314168,
          0.6354634206992088,
          0.09647659824460597,
          0.07430519338893916,
          -0.6318877515424707,
          -0.10106238334901295,
          0.04711738869673599
         ],
         "y": [
          -0.5564264468809463,
          -0.6908587130708451,
          -0.9602126748482641,
          0.5618936901220456,
          0.5906982789182788,
          -0.16221765605313743,
          -0.15136982741405522,
          -0.5506483019279751,
          -0.18616876485537423,
          -0.061513035713738215,
          -0.703911341669173,
          -0.7400884769431613,
          -0.10061505613659436,
          -0.08122806742922258,
          -0.044610380609646366,
          -0.07489871359535938,
          -0.02491226091978726,
          0.24836726275172594,
          -0.19585107994396775,
          -0.17200915111335868,
          0.6114056197800606,
          0.8472702833346408,
          0.5463250420327965,
          0.034651636852145895,
          0.05355667188693692,
          0.07542388763098604,
          0.5736259097163621,
          -0.2360768732649553,
          -0.8154392737919905,
          -0.37513003041674897,
          -0.16198790397928886,
          -0.5155334200706347,
          -0.6616752436592293,
          -0.8644697005086622,
          0.5384047263366235,
          0.5953727704338322,
          -0.004546320453612601,
          0.18226518225643595,
          0.8076300740383742,
          0.027512437374537645,
          0.019698499496178523,
          -0.05719676393023385,
          -0.013386928947961745,
          -0.0206853477030448,
          -0.13467804708684897,
          -0.11860850522747046,
          -0.45934920273038377,
          -0.1884523433308696,
          0.048191331185831986,
          0.42991437533202925,
          0.07878934151822604,
          0.48190607914315076,
          -0.4392047077762022,
          -0.39928437849492177,
          -0.5978278568260174,
          -0.896602010607209,
          -0.39554164155812066,
          -0.19767307535911371,
          -0.21319692854129899,
          -0.44896719954498704,
          -0.38410951249427094,
          -0.43674694669856345,
          -0.4179274046872948,
          -0.7057990421605056,
          -0.6639011423483849,
          -0.6312750045931593,
          0.6476970269857418,
          -0.036852740879992,
          -0.6766439288593462,
          -0.5792458471247766,
          -0.548408259738955,
          -0.1008386957039631,
          -0.05536380153161487,
          0.4082272787472832,
          0.5353857193860533,
          0.5663285114378721,
          0.46684944255585675,
          -0.3222903128760568,
          -0.41133171181790834,
          0.3983280155711668,
          -0.23345526171618958,
          -0.6751068776387363,
          -0.6750527012123818,
          0.5579104623103853,
          0.669326215476247,
          0.6193807558005415,
          0.29486173489413436,
          0.40863697864068904,
          0.5679069595263282,
          -0.8327466460008415,
          0.10655425837525127,
          0.09507990900014099,
          -0.5022204671419498,
          -0.4967686017208657,
          -0.5222534659232466,
          -0.6863155356817474,
          -0.7240153785548754,
          -0.7145539094061756,
          0.21481322785005708,
          0.05190673141557883,
          0.07474973951779565,
          0.14390457044247493,
          0.12375925669501651,
          0.29463036795975933,
          0.7120259758444962,
          -0.08776320413754238,
          -0.07430607950066163,
          -0.6262823052968136,
          -0.2867688118397396,
          0.10407938504399444,
          0.09726986464869468,
          -0.727545186978445,
          -0.9119393562318372,
          0.9300815009438165,
          0.9944139065889939,
          -0.14361684707402098,
          -0.18522161242831603,
          0.31386934319661336,
          0.3626793762648869,
          0.4276719695065761,
          0.5057051532819287,
          0.6032251083344231,
          0.37654083897519786,
          0.2773986693347045,
          0.22800586877246445,
          0.6331670702503354,
          -0.6933743524000439,
          0.5988563372231029,
          0.6186325304910114,
          -0.46149894413075426,
          -0.7305334696894542,
          -0.8418663379763508,
          -0.8124759117092945,
          -0.9430145104388807,
          0.6248187874555992,
          -0.5170656068255228,
          0.6686719138913689,
          0.6411823299586208,
          -0.7048927681260831,
          0.5888540846479634,
          0.6380830935898356,
          0.09478006311997292,
          -0.3617836190394759,
          -0.37708867287801606,
          0.6473738382995519,
          0.6852801160266644,
          0.6600590109980251,
          0.6072001475088125,
          -0.08338143408407235,
          -0.053683979406032534,
          -0.07746287713415992,
          -0.29923020850182713,
          -0.28276318984819504,
          -0.19129089820430067,
          -0.2093353387770269,
          0.72791377888386,
          0.8964628255956419,
          -0.22946208977224003,
          -0.17793757896667,
          0.6064890698772241,
          0.5558973642819145,
          0.6883775124386619,
          -0.1863455456744851,
          -0.13502036878389873,
          -0.16041437756341656,
          0.23387315809621517,
          0.5212791238210516,
          0.5053311592948502,
          0.5261974905195866,
          0.4725803254239762,
          0.4426912889997597,
          0.5175385065429913,
          0.5231559962403554,
          0.6072986339230855,
          0.18241547817228498,
          -0.17377639003835765,
          -0.1980886628426595,
          -0.16631189930699672,
          -0.20657397924490542,
          -0.23212516046040627,
          0.1909691043497301,
          0.2617030176876506,
          0.2758743169175661,
          0.5070896871613674,
          -0.22025851553326448,
          -0.24600281176296188,
          -0.29093288709487114,
          -0.11861168603167521,
          0.17002112082562654,
          0.16672387095799987,
          0.11489535246928222,
          0.6099537658176706,
          0.5885258299543082
         ]
        },
        {
         "line": {
          "color": "Blue",
          "width": 1
         },
         "mode": "lines",
         "type": "scatter",
         "x": [
          -0.08981067670826734,
          -0.11499243958568889,
          null
         ],
         "y": [
          -0.5564264468809463,
          -0.6908587130708451,
          null
         ]
        },
        {
         "line": {
          "color": "Blue",
          "width": 1
         },
         "mode": "lines",
         "type": "scatter",
         "x": [
          -0.11499243958568889,
          -0.15912891195666076,
          null
         ],
         "y": [
          -0.6908587130708451,
          -0.9602126748482641,
          null
         ]
        },
        {
         "line": {
          "color": "Blue",
          "width": 67
         },
         "mode": "lines",
         "type": "scatter",
         "x": [
          0.00653569783664845,
          -0.05155337576046852,
          null
         ],
         "y": [
          0.5618936901220456,
          0.5906982789182788,
          null
         ]
        },
        {
         "line": {
          "color": "Blue",
          "width": 36
         },
         "mode": "lines",
         "type": "scatter",
         "x": [
          0.00653569783664845,
          -0.006294990140891957,
          null
         ],
         "y": [
          0.5618936901220456,
          0.5463250420327965,
          null
         ]
        },
        {
         "line": {
          "color": "Blue",
          "width": 23
         },
         "mode": "lines",
         "type": "scatter",
         "x": [
          0.00653569783664845,
          -0.031225964610857616,
          null
         ],
         "y": [
          0.5618936901220456,
          0.5736259097163621,
          null
         ]
        },
        {
         "line": {
          "color": "Blue",
          "width": 14
         },
         "mode": "lines",
         "type": "scatter",
         "x": [
          0.00653569783664845,
          0.04418103557731134,
          null
         ],
         "y": [
          0.5618936901220456,
          0.5384047263366235,
          null
         ]
        },
        {
         "line": {
          "color": "Blue",
          "width": 1
         },
         "mode": "lines",
         "type": "scatter",
         "x": [
          0.00653569783664845,
          -0.018619617067536835,
          null
         ],
         "y": [
          0.5618936901220456,
          0.5953727704338322,
          null
         ]
        },
        {
         "line": {
          "color": "Blue",
          "width": 1
         },
         "mode": "lines",
         "type": "scatter",
         "x": [
          0.00653569783664845,
          0.17162915457282368,
          null
         ],
         "y": [
          0.5618936901220456,
          0.5353857193860533,
          null
         ]
        },
        {
         "line": {
          "color": "Blue",
          "width": 1
         },
         "mode": "lines",
         "type": "scatter",
         "x": [
          0.00653569783664845,
          0.053562302103836786,
          null
         ],
         "y": [
          0.5618936901220456,
          0.5679069595263282,
          null
         ]
        },
        {
         "line": {
          "color": "Blue",
          "width": 1
         },
         "mode": "lines",
         "type": "scatter",
         "x": [
          0.00653569783664845,
          0.02385144654197455,
          null
         ],
         "y": [
          0.5618936901220456,
          0.6064890698772241,
          null
         ]
        },
        {
         "line": {
          "color": "Blue",
          "width": 1
         },
         "mode": "lines",
         "type": "scatter",
         "x": [
          0.00653569783664845,
          -0.07940958320806038,
          null
         ],
         "y": [
          0.5618936901220456,
          0.5053311592948502,
          null
         ]
        },
        {
         "line": {
          "color": "Blue",
          "width": 1
         },
         "mode": "lines",
         "type": "scatter",
         "x": [
          0.00653569783664845,
          -0.07780514594252302,
          null
         ],
         "y": [
          0.5618936901220456,
          0.6331670702503354,
          null
         ]
        },
        {
         "line": {
          "color": "Blue",
          "width": 1
         },
         "mode": "lines",
         "type": "scatter",
         "x": [
          0.00653569783664845,
          -0.10106238334901295,
          null
         ],
         "y": [
          0.5618936901220456,
          0.6099537658176706,
          null
         ]
        },
        {
         "line": {
          "color": "Blue",
          "width": 1
         },
         "mode": "lines",
         "type": "scatter",
         "x": [
          0.00653569783664845,
          0.04711738869673599,
          null
         ],
         "y": [
          0.5618936901220456,
          0.5885258299543082,
          null
         ]
        },
        {
         "line": {
          "color": "Blue",
          "width": 75
         },
         "mode": "lines",
         "type": "scatter",
         "x": [
          -0.05155337576046852,
          0.00653569783664845,
          null
         ],
         "y": [
          0.5906982789182788,
          0.5618936901220456,
          null
         ]
        },
        {
         "line": {
          "color": "Blue",
          "width": 4
         },
         "mode": "lines",
         "type": "scatter",
         "x": [
          -0.05155337576046852,
          -0.031225964610857616,
          null
         ],
         "y": [
          0.5906982789182788,
          0.5736259097163621,
          null
         ]
        },
        {
         "line": {
          "color": "Blue",
          "width": 1
         },
         "mode": "lines",
         "type": "scatter",
         "x": [
          -0.05155337576046852,
          -0.08989122615934875,
          null
         ],
         "y": [
          0.5906982789182788,
          0.6473738382995519,
          null
         ]
        },
        {
         "line": {
          "color": "Blue",
          "width": 2
         },
         "mode": "lines",
         "type": "scatter",
         "x": [
          0.12320812507506151,
          0.15193413882703968,
          null
         ],
         "y": [
          -0.16221765605313743,
          -0.15136982741405522,
          null
         ]
        },
        {
         "line": {
          "color": "Blue",
          "width": 1
         },
         "mode": "lines",
         "type": "scatter",
         "x": [
          0.15193413882703968,
          -0.6943968734446403,
          null
         ],
         "y": [
          -0.15136982741405522,
          -0.5506483019279751,
          null
         ]
        },
        {
         "line": {
          "color": "Blue",
          "width": 1
         },
         "mode": "lines",
         "type": "scatter",
         "x": [
          0.15193413882703968,
          0.9999999999999999,
          null
         ],
         "y": [
          -0.15136982741405522,
          0.24836726275172594,
          null
         ]
        },
        {
         "line": {
          "color": "Blue",
          "width": 1
         },
         "mode": "lines",
         "type": "scatter",
         "x": [
          0.15193413882703968,
          0.09767389312046558,
          null
         ],
         "y": [
          -0.15136982741405522,
          -0.1884523433308696,
          null
         ]
        },
        {
         "line": {
          "color": "Blue",
          "width": 1
         },
         "mode": "lines",
         "type": "scatter",
         "x": [
          0.15193413882703968,
          0.12320812507506151,
          null
         ],
         "y": [
          -0.15136982741405522,
          -0.16221765605313743,
          null
         ]
        },
        {
         "line": {
          "color": "Blue",
          "width": 1
         },
         "mode": "lines",
         "type": "scatter",
         "x": [
          0.15803882568353286,
          0.15193413882703968,
          null
         ],
         "y": [
          -0.18616876485537423,
          -0.15136982741405522,
          null
         ]
        },
        {
         "line": {
          "color": "Blue",
          "width": 1
         },
         "mode": "lines",
         "type": "scatter",
         "x": [
          -0.3339307070576863,
          0.39119676017224597,
          null
         ],
         "y": [
          -0.061513035713738215,
          -0.703911341669173,
          null
         ]
        },
        {
         "line": {
          "color": "Blue",
          "width": 1
         },
         "mode": "lines",
         "type": "scatter",
         "x": [
          -0.3339307070576863,
          -0.3726784531334068,
          null
         ],
         "y": [
          -0.061513035713738215,
          -0.08122806742922258,
          null
         ]
        },
        {
         "line": {
          "color": "Blue",
          "width": 1
         },
         "mode": "lines",
         "type": "scatter",
         "x": [
          -0.3339307070576863,
          -0.2940525003195566,
          null
         ],
         "y": [
          -0.061513035713738215,
          -0.044610380609646366,
          null
         ]
        },
        {
         "line": {
          "color": "Blue",
          "width": 1
         },
         "mode": "lines",
         "type": "scatter",
         "x": [
          -0.3339307070576863,
          -0.8347958209770373,
          null
         ],
         "y": [
          -0.061513035713738215,
          -0.45934920273038377,
          null
         ]
        },
        {
         "line": {
          "color": "Blue",
          "width": 1
         },
         "mode": "lines",
         "type": "scatter",
         "x": [
          -0.3339307070576863,
          -0.8208351366503152,
          null
         ],
         "y": [
          -0.061513035713738215,
          0.6476970269857418,
          null
         ]
        },
        {
         "line": {
          "color": "Blue",
          "width": 4
         },
         "mode": "lines",
         "type": "scatter",
         "x": [
          -0.3339307070576863,
          -0.36441214803730937,
          null
         ],
         "y": [
          -0.061513035713738215,
          -0.036852740879992,
          null
         ]
        },
        {
         "line": {
          "color": "Blue",
          "width": 1
         },
         "mode": "lines",
         "type": "scatter",
         "x": [
          -0.3339307070576863,
          -0.3287302390186808,
          null
         ],
         "y": [
          -0.061513035713738215,
          -0.1008386957039631,
          null
         ]
        },
        {
         "line": {
          "color": "Blue",
          "width": 1
         },
         "mode": "lines",
         "type": "scatter",
         "x": [
          -0.3339307070576863,
          0.37523535893892773,
          null
         ],
         "y": [
          -0.061513035713738215,
          -0.19585107994396775,
          null
         ]
        },
        {
         "line": {
          "color": "Blue",
          "width": 1
         },
         "mode": "lines",
         "type": "scatter",
         "x": [
          -0.3339307070576863,
          -0.947814944303587,
          null
         ],
         "y": [
          -0.061513035713738215,
          0.4082272787472832,
          null
         ]
        },
        {
         "line": {
          "color": "Blue",
          "width": 1
         },
         "mode": "lines",
         "type": "scatter",
         "x": [
          0.39119676017224597,
          0.4068487788436807,
          null
         ],
         "y": [
          -0.703911341669173,
          -0.7400884769431613,
          null
         ]
        },
        {
         "line": {
          "color": "Blue",
          "width": 1
         },
         "mode": "lines",
         "type": "scatter",
         "x": [
          -0.35535445485346345,
          -0.3339307070576863,
          null
         ],
         "y": [
          -0.10061505613659436,
          -0.061513035713738215,
          null
         ]
        },
        {
         "line": {
          "color": "Blue",
          "width": 1
         },
         "mode": "lines",
         "type": "scatter",
         "x": [
          -0.3726784531334068,
          -0.3339307070576863,
          null
         ],
         "y": [
          -0.08122806742922258,
          -0.061513035713738215,
          null
         ]
        },
        {
         "line": {
          "color": "Blue",
          "width": 1
         },
         "mode": "lines",
         "type": "scatter",
         "x": [
          -0.2940525003195566,
          -0.27170331838139444,
          null
         ],
         "y": [
          -0.044610380609646366,
          -0.07489871359535938,
          null
         ]
        },
        {
         "line": {
          "color": "Blue",
          "width": 1
         },
         "mode": "lines",
         "type": "scatter",
         "x": [
          -0.2940525003195566,
          -0.3308759945724195,
          null
         ],
         "y": [
          -0.044610380609646366,
          -0.02491226091978726,
          null
         ]
        },
        {
         "line": {
          "color": "Blue",
          "width": 1
         },
         "mode": "lines",
         "type": "scatter",
         "x": [
          -0.27170331838139444,
          -0.2940525003195566,
          null
         ],
         "y": [
          -0.07489871359535938,
          -0.044610380609646366,
          null
         ]
        },
        {
         "line": {
          "color": "Blue",
          "width": 1
         },
         "mode": "lines",
         "type": "scatter",
         "x": [
          -0.3308759945724195,
          -0.3339307070576863,
          null
         ],
         "y": [
          -0.02491226091978726,
          -0.061513035713738215,
          null
         ]
        },
        {
         "line": {
          "color": "Blue",
          "width": 1
         },
         "mode": "lines",
         "type": "scatter",
         "x": [
          0.37523535893892773,
          0.41384451847307707,
          null
         ],
         "y": [
          -0.19585107994396775,
          -0.17200915111335868,
          null
         ]
        },
        {
         "line": {
          "color": "Blue",
          "width": 1
         },
         "mode": "lines",
         "type": "scatter",
         "x": [
          0.37523535893892773,
          0.42788591905969225,
          null
         ],
         "y": [
          -0.19585107994396775,
          -0.21319692854129899,
          null
         ]
        },
        {
         "line": {
          "color": "Blue",
          "width": 2
         },
         "mode": "lines",
         "type": "scatter",
         "x": [
          0.37523535893892773,
          0.28396794357800365,
          null
         ],
         "y": [
          -0.19585107994396775,
          -0.39554164155812066,
          null
         ]
        },
        {
         "line": {
          "color": "Blue",
          "width": 1
         },
         "mode": "lines",
         "type": "scatter",
         "x": [
          0.37523535893892773,
          -0.3339307070576863,
          null
         ],
         "y": [
          -0.19585107994396775,
          -0.061513035713738215,
          null
         ]
        },
        {
         "line": {
          "color": "Blue",
          "width": 1
         },
         "mode": "lines",
         "type": "scatter",
         "x": [
          0.37523535893892773,
          0.6185677915887247,
          null
         ],
         "y": [
          -0.19585107994396775,
          -0.6933743524000439,
          null
         ]
        },
        {
         "line": {
          "color": "Blue",
          "width": 1
         },
         "mode": "lines",
         "type": "scatter",
         "x": [
          0.37523535893892773,
          0.6495577761181255,
          null
         ],
         "y": [
          -0.19585107994396775,
          -0.1863455456744851,
          null
         ]
        },
        {
         "line": {
          "color": "Blue",
          "width": 1
         },
         "mode": "lines",
         "type": "scatter",
         "x": [
          0.37523535893892773,
          0.7998103973909387,
          null
         ],
         "y": [
          -0.19585107994396775,
          0.1909691043497301,
          null
         ]
        },
        {
         "line": {
          "color": "Blue",
          "width": 1
         },
         "mode": "lines",
         "type": "scatter",
         "x": [
          0.37523535893892773,
          0.6424500640065746,
          null
         ],
         "y": [
          -0.19585107994396775,
          -0.20657397924490542,
          null
         ]
        },
        {
         "line": {
          "color": "Blue",
          "width": 1
         },
         "mode": "lines",
         "type": "scatter",
         "x": [
          0.41384451847307707,
          0.37523535893892773,
          null
         ],
         "y": [
          -0.17200915111335868,
          -0.19585107994396775,
          null
         ]
        },
        {
         "line": {
          "color": "Blue",
          "width": 1
         },
         "mode": "lines",
         "type": "scatter",
         "x": [
          0.47987335516736856,
          0.6484854010156472,
          null
         ],
         "y": [
          0.6114056197800606,
          0.8472702833346408,
          null
         ]
        },
        {
         "line": {
          "color": "Blue",
          "width": 32
         },
         "mode": "lines",
         "type": "scatter",
         "x": [
          -0.006294990140891957,
          0.00653569783664845,
          null
         ],
         "y": [
          0.5463250420327965,
          0.5618936901220456,
          null
         ]
        },
        {
         "line": {
          "color": "Blue",
          "width": 4
         },
         "mode": "lines",
         "type": "scatter",
         "x": [
          -0.006294990140891957,
          -0.05155337576046852,
          null
         ],
         "y": [
          0.5463250420327965,
          0.5906982789182788,
          null
         ]
        },
        {
         "line": {
          "color": "Blue",
          "width": 1
         },
         "mode": "lines",
         "type": "scatter",
         "x": [
          -0.006294990140891957,
          0.04418103557731134,
          null
         ],
         "y": [
          0.5463250420327965,
          0.5384047263366235,
          null
         ]
        },
        {
         "line": {
          "color": "Blue",
          "width": 1
         },
         "mode": "lines",
         "type": "scatter",
         "x": [
          -0.672326983134384,
          -0.6355184946698897,
          null
         ],
         "y": [
          0.034651636852145895,
          0.05355667188693692,
          null
         ]
        },
        {
         "line": {
          "color": "Blue",
          "width": 1
         },
         "mode": "lines",
         "type": "scatter",
         "x": [
          -0.672326983134384,
          -0.6249962248204908,
          null
         ],
         "y": [
          0.034651636852145895,
          0.027512437374537645,
          null
         ]
        },
        {
         "line": {
          "color": "Blue",
          "width": 1
         },
         "mode": "lines",
         "type": "scatter",
         "x": [
          -0.6355184946698897,
          -0.6743224747132271,
          null
         ],
         "y": [
          0.05355667188693692,
          0.07542388763098604,
          null
         ]
        },
        {
         "line": {
          "color": "Blue",
          "width": 4
         },
         "mode": "lines",
         "type": "scatter",
         "x": [
          -0.6355184946698897,
          -0.5087013121108135,
          null
         ],
         "y": [
          0.05355667188693692,
          -0.37513003041674897,
          null
         ]
        },
        {
         "line": {
          "color": "Blue",
          "width": 14
         },
         "mode": "lines",
         "type": "scatter",
         "x": [
          -0.6355184946698897,
          -0.571708532269586,
          null
         ],
         "y": [
          0.05355667188693692,
          -0.16198790397928886,
          null
         ]
        },
        {
         "line": {
          "color": "Blue",
          "width": 1
         },
         "mode": "lines",
         "type": "scatter",
         "x": [
          -0.6355184946698897,
          -0.9936320312829755,
          null
         ],
         "y": [
          0.05355667188693692,
          0.18226518225643595,
          null
         ]
        },
        {
         "line": {
          "color": "Blue",
          "width": 1
         },
         "mode": "lines",
         "type": "scatter",
         "x": [
          -0.6355184946698897,
          -0.47446885374105346,
          null
         ],
         "y": [
          0.05355667188693692,
          0.8076300740383742,
          null
         ]
        },
        {
         "line": {
          "color": "Blue",
          "width": 8
         },
         "mode": "lines",
         "type": "scatter",
         "x": [
          -0.6355184946698897,
          -0.6249962248204908,
          null
         ],
         "y": [
          0.05355667188693692,
          0.027512437374537645,
          null
         ]
        },
        {
         "line": {
          "color": "Blue",
          "width": 2
         },
         "mode": "lines",
         "type": "scatter",
         "x": [
          -0.6355184946698897,
          -0.6303002646450261,
          null
         ],
         "y": [
          0.05355667188693692,
          -0.004546320453612601,
          null
         ]
        },
        {
         "line": {
          "color": "Blue",
          "width": 3
         },
         "mode": "lines",
         "type": "scatter",
         "x": [
          -0.6355184946698897,
          -0.6097253281859943,
          null
         ],
         "y": [
          0.05355667188693692,
          -0.05719676393023385,
          null
         ]
        },
        {
         "line": {
          "color": "Blue",
          "width": 2
         },
         "mode": "lines",
         "type": "scatter",
         "x": [
          -0.6355184946698897,
          -0.654352839565597,
          null
         ],
         "y": [
          0.05355667188693692,
          0.048191331185831986,
          null
         ]
        },
        {
         "line": {
          "color": "Blue",
          "width": 3
         },
         "mode": "lines",
         "type": "scatter",
         "x": [
          -0.6355184946698897,
          -0.6445562734527357,
          null
         ],
         "y": [
          0.05355667188693692,
          0.019698499496178523,
          null
         ]
        },
        {
         "line": {
          "color": "Blue",
          "width": 5
         },
         "mode": "lines",
         "type": "scatter",
         "x": [
          -0.6355184946698897,
          -0.5525563337442222,
          null
         ],
         "y": [
          0.05355667188693692,
          0.42991437533202925,
          null
         ]
        },
        {
         "line": {
          "color": "Blue",
          "width": 4
         },
         "mode": "lines",
         "type": "scatter",
         "x": [
          -0.6355184946698897,
          -0.6262458747579543,
          null
         ],
         "y": [
          0.05355667188693692,
          0.07878934151822604,
          null
         ]
        },
        {
         "line": {
          "color": "Blue",
          "width": 1
         },
         "mode": "lines",
         "type": "scatter",
         "x": [
          -0.6355184946698897,
          -0.6563441435197541,
          null
         ],
         "y": [
          0.05355667188693692,
          0.10655425837525127,
          null
         ]
        },
        {
         "line": {
          "color": "Blue",
          "width": 3
         },
         "mode": "lines",
         "type": "scatter",
         "x": [
          -0.6355184946698897,
          -0.6779738083414828,
          null
         ],
         "y": [
          0.05355667188693692,
          -0.07430607950066163,
          null
         ]
        },
        {
         "line": {
          "color": "Blue",
          "width": 1
         },
         "mode": "lines",
         "type": "scatter",
         "x": [
          -0.6355184946698897,
          -0.7802746231896529,
          null
         ],
         "y": [
          0.05355667188693692,
          -0.6262823052968136,
          null
         ]
        },
        {
         "line": {
          "color": "Blue",
          "width": 1
         },
         "mode": "lines",
         "type": "scatter",
         "x": [
          -0.6355184946698897,
          -0.6109934751082702,
          null
         ],
         "y": [
          0.05355667188693692,
          0.09478006311997292,
          null
         ]
        },
        {
         "line": {
          "color": "Blue",
          "width": 1
         },
         "mode": "lines",
         "type": "scatter",
         "x": [
          -0.6355184946698897,
          -0.6360599796505155,
          null
         ],
         "y": [
          0.05355667188693692,
          -0.08338143408407235,
          null
         ]
        },
        {
         "line": {
          "color": "Blue",
          "width": 1
         },
         "mode": "lines",
         "type": "scatter",
         "x": [
          -0.6355184946698897,
          -0.6348980136925776,
          null
         ],
         "y": [
          0.05355667188693692,
          0.09726986464869468,
          null
         ]
        },
        {
         "line": {
          "color": "Blue",
          "width": 3
         },
         "mode": "lines",
         "type": "scatter",
         "x": [
          -0.6355184946698897,
          -0.6761300732775591,
          null
         ],
         "y": [
          0.05355667188693692,
          0.09507990900014099,
          null
         ]
        },
        {
         "line": {
          "color": "Blue",
          "width": 1
         },
         "mode": "lines",
         "type": "scatter",
         "x": [
          -0.6355184946698897,
          -0.5723080930916794,
          null
         ],
         "y": [
          0.05355667188693692,
          -0.07746287713415992,
          null
         ]
        },
        {
         "line": {
          "color": "Blue",
          "width": 1
         },
         "mode": "lines",
         "type": "scatter",
         "x": [
          -0.6355184946698897,
          -0.672326983134384,
          null
         ],
         "y": [
          0.05355667188693692,
          0.034651636852145895,
          null
         ]
        },
        {
         "line": {
          "color": "Blue",
          "width": 1
         },
         "mode": "lines",
         "type": "scatter",
         "x": [
          -0.6743224747132271,
          -0.6355184946698897,
          null
         ],
         "y": [
          0.07542388763098604,
          0.05355667188693692,
          null
         ]
        },
        {
         "line": {
          "color": "Blue",
          "width": 21
         },
         "mode": "lines",
         "type": "scatter",
         "x": [
          -0.031225964610857616,
          0.00653569783664845,
          null
         ],
         "y": [
          0.5736259097163621,
          0.5618936901220456,
          null
         ]
        },
        {
         "line": {
          "color": "Blue",
          "width": 5
         },
         "mode": "lines",
         "type": "scatter",
         "x": [
          -0.031225964610857616,
          -0.05155337576046852,
          null
         ],
         "y": [
          0.5736259097163621,
          0.5906982789182788,
          null
         ]
        },
        {
         "line": {
          "color": "Blue",
          "width": 1
         },
         "mode": "lines",
         "type": "scatter",
         "x": [
          -0.18850566763108087,
          0.49479132624465005,
          null
         ],
         "y": [
          -0.2360768732649553,
          -0.8154392737919905,
          null
         ]
        },
        {
         "line": {
          "color": "Blue",
          "width": 1
         },
         "mode": "lines",
         "type": "scatter",
         "x": [
          -0.18850566763108087,
          -0.8674512480363487,
          null
         ],
         "y": [
          -0.2360768732649553,
          0.48190607914315076,
          null
         ]
        },
        {
         "line": {
          "color": "Blue",
          "width": 1
         },
         "mode": "lines",
         "type": "scatter",
         "x": [
          -0.18850566763108087,
          -0.05826976793071641,
          null
         ],
         "y": [
          -0.2360768732649553,
          -0.6616752436592293,
          null
         ]
        },
        {
         "line": {
          "color": "Blue",
          "width": 5
         },
         "mode": "lines",
         "type": "scatter",
         "x": [
          -0.5087013121108135,
          -0.6355184946698897,
          null
         ],
         "y": [
          -0.37513003041674897,
          0.05355667188693692,
          null
         ]
        },
        {
         "line": {
          "color": "Blue",
          "width": 1
         },
         "mode": "lines",
         "type": "scatter",
         "x": [
          -0.5087013121108135,
          -0.35639808630724534,
          null
         ],
         "y": [
          -0.37513003041674897,
          -0.9119393562318372,
          null
         ]
        },
        {
         "line": {
          "color": "Blue",
          "width": 1
         },
         "mode": "lines",
         "type": "scatter",
         "x": [
          -0.5087013121108135,
          -0.5989751712236193,
          null
         ],
         "y": [
          -0.37513003041674897,
          -0.053683979406032534,
          null
         ]
        },
        {
         "line": {
          "color": "Blue",
          "width": 16
         },
         "mode": "lines",
         "type": "scatter",
         "x": [
          -0.571708532269586,
          -0.6355184946698897,
          null
         ],
         "y": [
          -0.16198790397928886,
          0.05355667188693692,
          null
         ]
        },
        {
         "line": {
          "color": "Blue",
          "width": 1
         },
         "mode": "lines",
         "type": "scatter",
         "x": [
          -0.571708532269586,
          -0.5087013121108135,
          null
         ],
         "y": [
          -0.16198790397928886,
          -0.37513003041674897,
          null
         ]
        },
        {
         "line": {
          "color": "Blue",
          "width": 1
         },
         "mode": "lines",
         "type": "scatter",
         "x": [
          -0.04521495824561943,
          -0.05826976793071641,
          null
         ],
         "y": [
          -0.5155334200706347,
          -0.6616752436592293,
          null
         ]
        },
        {
         "line": {
          "color": "Blue",
          "width": 2
         },
         "mode": "lines",
         "type": "scatter",
         "x": [
          -0.05826976793071641,
          -0.11344572747421838,
          null
         ],
         "y": [
          -0.6616752436592293,
          -0.8644697005086622,
          null
         ]
        },
        {
         "line": {
          "color": "Blue",
          "width": 1
         },
         "mode": "lines",
         "type": "scatter",
         "x": [
          -0.05826976793071641,
          -0.01925259706679653,
          null
         ],
         "y": [
          -0.6616752436592293,
          -0.8327466460008415,
          null
         ]
        },
        {
         "line": {
          "color": "Blue",
          "width": 13
         },
         "mode": "lines",
         "type": "scatter",
         "x": [
          0.04418103557731134,
          0.00653569783664845,
          null
         ],
         "y": [
          0.5384047263366235,
          0.5618936901220456,
          null
         ]
        },
        {
         "line": {
          "color": "Blue",
          "width": 1
         },
         "mode": "lines",
         "type": "scatter",
         "x": [
          0.04418103557731134,
          0.022706765738808313,
          null
         ],
         "y": [
          0.5384047263366235,
          0.5212791238210516,
          null
         ]
        },
        {
         "line": {
          "color": "Blue",
          "width": 1
         },
         "mode": "lines",
         "type": "scatter",
         "x": [
          0.04418103557731134,
          0.053562302103836786,
          null
         ],
         "y": [
          0.5384047263366235,
          0.5679069595263282,
          null
         ]
        },
        {
         "line": {
          "color": "Blue",
          "width": 1
         },
         "mode": "lines",
         "type": "scatter",
         "x": [
          -0.018619617067536835,
          0.00653569783664845,
          null
         ],
         "y": [
          0.5953727704338322,
          0.5618936901220456,
          null
         ]
        },
        {
         "line": {
          "color": "Blue",
          "width": 1
         },
         "mode": "lines",
         "type": "scatter",
         "x": [
          -0.018619617067536835,
          -0.05155337576046852,
          null
         ],
         "y": [
          0.5953727704338322,
          0.5906982789182788,
          null
         ]
        },
        {
         "line": {
          "color": "Blue",
          "width": 1
         },
         "mode": "lines",
         "type": "scatter",
         "x": [
          -0.6303002646450261,
          -0.6355184946698897,
          null
         ],
         "y": [
          -0.004546320453612601,
          0.05355667188693692,
          null
         ]
        },
        {
         "line": {
          "color": "Blue",
          "width": 1
         },
         "mode": "lines",
         "type": "scatter",
         "x": [
          -0.6303002646450261,
          -0.6445562734527357,
          null
         ],
         "y": [
          -0.004546320453612601,
          0.019698499496178523,
          null
         ]
        },
        {
         "line": {
          "color": "Blue",
          "width": 1
         },
         "mode": "lines",
         "type": "scatter",
         "x": [
          -0.6303002646450261,
          -0.6097253281859943,
          null
         ],
         "y": [
          -0.004546320453612601,
          -0.05719676393023385,
          null
         ]
        },
        {
         "line": {
          "color": "Blue",
          "width": 6
         },
         "mode": "lines",
         "type": "scatter",
         "x": [
          -0.6249962248204908,
          -0.6355184946698897,
          null
         ],
         "y": [
          0.027512437374537645,
          0.05355667188693692,
          null
         ]
        },
        {
         "line": {
          "color": "Blue",
          "width": 1
         },
         "mode": "lines",
         "type": "scatter",
         "x": [
          -0.6249962248204908,
          -0.6097253281859943,
          null
         ],
         "y": [
          0.027512437374537645,
          -0.05719676393023385,
          null
         ]
        },
        {
         "line": {
          "color": "Blue",
          "width": 1
         },
         "mode": "lines",
         "type": "scatter",
         "x": [
          -0.6249962248204908,
          -0.6563441435197541,
          null
         ],
         "y": [
          0.027512437374537645,
          0.10655425837525127,
          null
         ]
        },
        {
         "line": {
          "color": "Blue",
          "width": 1
         },
         "mode": "lines",
         "type": "scatter",
         "x": [
          -0.6445562734527357,
          -0.6097253281859943,
          null
         ],
         "y": [
          0.019698499496178523,
          -0.05719676393023385,
          null
         ]
        },
        {
         "line": {
          "color": "Blue",
          "width": 2
         },
         "mode": "lines",
         "type": "scatter",
         "x": [
          -0.6445562734527357,
          -0.6355184946698897,
          null
         ],
         "y": [
          0.019698499496178523,
          0.05355667188693692,
          null
         ]
        },
        {
         "line": {
          "color": "Blue",
          "width": 1
         },
         "mode": "lines",
         "type": "scatter",
         "x": [
          -0.6445562734527357,
          -0.6761300732775591,
          null
         ],
         "y": [
          0.019698499496178523,
          0.09507990900014099,
          null
         ]
        },
        {
         "line": {
          "color": "Blue",
          "width": 5
         },
         "mode": "lines",
         "type": "scatter",
         "x": [
          -0.6097253281859943,
          -0.6355184946698897,
          null
         ],
         "y": [
          -0.05719676393023385,
          0.05355667188693692,
          null
         ]
        },
        {
         "line": {
          "color": "Blue",
          "width": 1
         },
         "mode": "lines",
         "type": "scatter",
         "x": [
          -0.6097253281859943,
          -0.571708532269586,
          null
         ],
         "y": [
          -0.05719676393023385,
          -0.16198790397928886,
          null
         ]
        },
        {
         "line": {
          "color": "Blue",
          "width": 1
         },
         "mode": "lines",
         "type": "scatter",
         "x": [
          0.7656546939286556,
          0.9574426526345866,
          null
         ],
         "y": [
          -0.013386928947961745,
          -0.0206853477030448,
          null
         ]
        },
        {
         "line": {
          "color": "Blue",
          "width": 1
         },
         "mode": "lines",
         "type": "scatter",
         "x": [
          0.18747084038018255,
          0.2182981656262756,
          null
         ],
         "y": [
          -0.13467804708684897,
          -0.11860850522747046,
          null
         ]
        },
        {
         "line": {
          "color": "Blue",
          "width": 1
         },
         "mode": "lines",
         "type": "scatter",
         "x": [
          0.18747084038018255,
          0.15193413882703968,
          null
         ],
         "y": [
          -0.13467804708684897,
          -0.15136982741405522,
          null
         ]
        },
        {
         "line": {
          "color": "Blue",
          "width": 1
         },
         "mode": "lines",
         "type": "scatter",
         "x": [
          0.2182981656262756,
          0.18747084038018255,
          null
         ],
         "y": [
          -0.11860850522747046,
          -0.13467804708684897,
          null
         ]
        },
        {
         "line": {
          "color": "Blue",
          "width": 1
         },
         "mode": "lines",
         "type": "scatter",
         "x": [
          0.09767389312046558,
          0.12320812507506151,
          null
         ],
         "y": [
          -0.1884523433308696,
          -0.16221765605313743,
          null
         ]
        },
        {
         "line": {
          "color": "Blue",
          "width": 1
         },
         "mode": "lines",
         "type": "scatter",
         "x": [
          -0.654352839565597,
          -0.6355184946698897,
          null
         ],
         "y": [
          0.048191331185831986,
          0.05355667188693692,
          null
         ]
        },
        {
         "line": {
          "color": "Blue",
          "width": 1
         },
         "mode": "lines",
         "type": "scatter",
         "x": [
          -0.654352839565597,
          -0.6249962248204908,
          null
         ],
         "y": [
          0.048191331185831986,
          0.027512437374537645,
          null
         ]
        },
        {
         "line": {
          "color": "Blue",
          "width": 3
         },
         "mode": "lines",
         "type": "scatter",
         "x": [
          -0.5525563337442222,
          -0.6355184946698897,
          null
         ],
         "y": [
          0.42991437533202925,
          0.05355667188693692,
          null
         ]
        },
        {
         "line": {
          "color": "Blue",
          "width": 1
         },
         "mode": "lines",
         "type": "scatter",
         "x": [
          -0.5525563337442222,
          -0.47446885374105346,
          null
         ],
         "y": [
          0.42991437533202925,
          0.8076300740383742,
          null
         ]
        },
        {
         "line": {
          "color": "Blue",
          "width": 4
         },
         "mode": "lines",
         "type": "scatter",
         "x": [
          -0.6262458747579543,
          -0.6355184946698897,
          null
         ],
         "y": [
          0.07878934151822604,
          0.05355667188693692,
          null
         ]
        },
        {
         "line": {
          "color": "Blue",
          "width": 1
         },
         "mode": "lines",
         "type": "scatter",
         "x": [
          0.3379089467899003,
          0.3043971508597925,
          null
         ],
         "y": [
          -0.4392047077762022,
          -0.39928437849492177,
          null
         ]
        },
        {
         "line": {
          "color": "Blue",
          "width": 1
         },
         "mode": "lines",
         "type": "scatter",
         "x": [
          0.3043971508597925,
          0.19270310519524497,
          null
         ],
         "y": [
          -0.39928437849492177,
          -0.5978278568260174,
          null
         ]
        },
        {
         "line": {
          "color": "Blue",
          "width": 1
         },
         "mode": "lines",
         "type": "scatter",
         "x": [
          0.3043971508597925,
          0.41369328467061434,
          null
         ],
         "y": [
          -0.39928437849492177,
          -0.19767307535911371,
          null
         ]
        },
        {
         "line": {
          "color": "Blue",
          "width": 1
         },
         "mode": "lines",
         "type": "scatter",
         "x": [
          0.19270310519524497,
          0.1349866375151945,
          null
         ],
         "y": [
          -0.5978278568260174,
          -0.896602010607209,
          null
         ]
        },
        {
         "line": {
          "color": "Blue",
          "width": 3
         },
         "mode": "lines",
         "type": "scatter",
         "x": [
          0.19270310519524497,
          0.28396794357800365,
          null
         ],
         "y": [
          -0.5978278568260174,
          -0.39554164155812066,
          null
         ]
        },
        {
         "line": {
          "color": "Blue",
          "width": 1
         },
         "mode": "lines",
         "type": "scatter",
         "x": [
          0.19270310519524497,
          0.1860576356722349,
          null
         ],
         "y": [
          -0.5978278568260174,
          -0.38410951249427094,
          null
         ]
        },
        {
         "line": {
          "color": "Blue",
          "width": 2
         },
         "mode": "lines",
         "type": "scatter",
         "x": [
          0.28396794357800365,
          0.41369328467061434,
          null
         ],
         "y": [
          -0.39554164155812066,
          -0.19767307535911371,
          null
         ]
        },
        {
         "line": {
          "color": "Blue",
          "width": 2
         },
         "mode": "lines",
         "type": "scatter",
         "x": [
          0.28396794357800365,
          0.19270310519524497,
          null
         ],
         "y": [
          -0.39554164155812066,
          -0.5978278568260174,
          null
         ]
        },
        {
         "line": {
          "color": "Blue",
          "width": 2
         },
         "mode": "lines",
         "type": "scatter",
         "x": [
          0.28396794357800365,
          0.31211770793194754,
          null
         ],
         "y": [
          -0.39554164155812066,
          -0.44896719954498704,
          null
         ]
        },
        {
         "line": {
          "color": "Blue",
          "width": 1
         },
         "mode": "lines",
         "type": "scatter",
         "x": [
          0.28396794357800365,
          0.1860576356722349,
          null
         ],
         "y": [
          -0.39554164155812066,
          -0.38410951249427094,
          null
         ]
        },
        {
         "line": {
          "color": "Blue",
          "width": 1
         },
         "mode": "lines",
         "type": "scatter",
         "x": [
          0.41369328467061434,
          0.37523535893892773,
          null
         ],
         "y": [
          -0.19767307535911371,
          -0.19585107994396775,
          null
         ]
        },
        {
         "line": {
          "color": "Blue",
          "width": 1
         },
         "mode": "lines",
         "type": "scatter",
         "x": [
          0.42788591905969225,
          0.37523535893892773,
          null
         ],
         "y": [
          -0.21319692854129899,
          -0.19585107994396775,
          null
         ]
        },
        {
         "line": {
          "color": "Blue",
          "width": 1
         },
         "mode": "lines",
         "type": "scatter",
         "x": [
          0.31211770793194754,
          0.3043971508597925,
          null
         ],
         "y": [
          -0.44896719954498704,
          -0.39928437849492177,
          null
         ]
        },
        {
         "line": {
          "color": "Blue",
          "width": 1
         },
         "mode": "lines",
         "type": "scatter",
         "x": [
          0.1860576356722349,
          0.250779036487823,
          null
         ],
         "y": [
          -0.38410951249427094,
          -0.4179274046872948,
          null
         ]
        },
        {
         "line": {
          "color": "Blue",
          "width": 1
         },
         "mode": "lines",
         "type": "scatter",
         "x": [
          0.2605770792026613,
          0.28396794357800365,
          null
         ],
         "y": [
          -0.43674694669856345,
          -0.39554164155812066,
          null
         ]
        },
        {
         "line": {
          "color": "Blue",
          "width": 1
         },
         "mode": "lines",
         "type": "scatter",
         "x": [
          0.250779036487823,
          0.28396794357800365,
          null
         ],
         "y": [
          -0.4179274046872948,
          -0.39554164155812066,
          null
         ]
        },
        {
         "line": {
          "color": "Blue",
          "width": 1
         },
         "mode": "lines",
         "type": "scatter",
         "x": [
          -0.4281333462080918,
          -0.40433550425243003,
          null
         ],
         "y": [
          -0.7057990421605056,
          -0.6639011423483849,
          null
         ]
        },
        {
         "line": {
          "color": "Blue",
          "width": 1
         },
         "mode": "lines",
         "type": "scatter",
         "x": [
          -0.40433550425243003,
          -0.3732863040165991,
          null
         ],
         "y": [
          -0.6639011423483849,
          -0.6312750045931593,
          null
         ]
        },
        {
         "line": {
          "color": "Blue",
          "width": 1
         },
         "mode": "lines",
         "type": "scatter",
         "x": [
          -0.3732863040165991,
          -0.3789204981426731,
          null
         ],
         "y": [
          -0.6312750045931593,
          -0.6766439288593462,
          null
         ]
        },
        {
         "line": {
          "color": "Blue",
          "width": 1
         },
         "mode": "lines",
         "type": "scatter",
         "x": [
          -0.3732863040165991,
          -0.361684470241078,
          null
         ],
         "y": [
          -0.6312750045931593,
          -0.5792458471247766,
          null
         ]
        },
        {
         "line": {
          "color": "Blue",
          "width": 3
         },
         "mode": "lines",
         "type": "scatter",
         "x": [
          -0.36441214803730937,
          -0.3339307070576863,
          null
         ],
         "y": [
          -0.036852740879992,
          -0.061513035713738215,
          null
         ]
        },
        {
         "line": {
          "color": "Blue",
          "width": 1
         },
         "mode": "lines",
         "type": "scatter",
         "x": [
          -0.36441214803730937,
          -0.3759181235554326,
          null
         ],
         "y": [
          -0.036852740879992,
          -0.05536380153161487,
          null
         ]
        },
        {
         "line": {
          "color": "Blue",
          "width": 1
         },
         "mode": "lines",
         "type": "scatter",
         "x": [
          -0.3789204981426731,
          -0.3732863040165991,
          null
         ],
         "y": [
          -0.6766439288593462,
          -0.6312750045931593,
          null
         ]
        },
        {
         "line": {
          "color": "Blue",
          "width": 1
         },
         "mode": "lines",
         "type": "scatter",
         "x": [
          -0.361684470241078,
          -0.3654548187073246,
          null
         ],
         "y": [
          -0.5792458471247766,
          -0.548408259738955,
          null
         ]
        },
        {
         "line": {
          "color": "Blue",
          "width": 1
         },
         "mode": "lines",
         "type": "scatter",
         "x": [
          -0.361684470241078,
          -0.3732863040165991,
          null
         ],
         "y": [
          -0.5792458471247766,
          -0.6312750045931593,
          null
         ]
        },
        {
         "line": {
          "color": "Blue",
          "width": 1
         },
         "mode": "lines",
         "type": "scatter",
         "x": [
          -0.3654548187073246,
          -0.361684470241078,
          null
         ],
         "y": [
          -0.548408259738955,
          -0.5792458471247766,
          null
         ]
        },
        {
         "line": {
          "color": "Blue",
          "width": 1
         },
         "mode": "lines",
         "type": "scatter",
         "x": [
          -0.3287302390186808,
          -0.3339307070576863,
          null
         ],
         "y": [
          -0.1008386957039631,
          -0.061513035713738215,
          null
         ]
        },
        {
         "line": {
          "color": "Blue",
          "width": 1
         },
         "mode": "lines",
         "type": "scatter",
         "x": [
          -0.3759181235554326,
          -0.3339307070576863,
          null
         ],
         "y": [
          -0.05536380153161487,
          -0.061513035713738215,
          null
         ]
        },
        {
         "line": {
          "color": "Blue",
          "width": 1
         },
         "mode": "lines",
         "type": "scatter",
         "x": [
          0.17162915457282368,
          0.13443111033827412,
          null
         ],
         "y": [
          0.5353857193860533,
          0.5663285114378721,
          null
         ]
        },
        {
         "line": {
          "color": "Blue",
          "width": 1
         },
         "mode": "lines",
         "type": "scatter",
         "x": [
          0.13443111033827412,
          0.2334089869526381,
          null
         ],
         "y": [
          0.5663285114378721,
          0.46684944255585675,
          null
         ]
        },
        {
         "line": {
          "color": "Blue",
          "width": 1
         },
         "mode": "lines",
         "type": "scatter",
         "x": [
          0.13443111033827412,
          0.027252848964473508,
          null
         ],
         "y": [
          0.5663285114378721,
          0.669326215476247,
          null
         ]
        },
        {
         "line": {
          "color": "Blue",
          "width": 6
         },
         "mode": "lines",
         "type": "scatter",
         "x": [
          0.2334089869526381,
          0.26920982893597845,
          null
         ],
         "y": [
          0.46684944255585675,
          0.3983280155711668,
          null
         ]
        },
        {
         "line": {
          "color": "Blue",
          "width": 1
         },
         "mode": "lines",
         "type": "scatter",
         "x": [
          0.2334089869526381,
          0.18298362234470514,
          null
         ],
         "y": [
          0.46684944255585675,
          0.5579104623103853,
          null
         ]
        },
        {
         "line": {
          "color": "Blue",
          "width": 1
         },
         "mode": "lines",
         "type": "scatter",
         "x": [
          -0.05058046473151391,
          0.875646469761618,
          null
         ],
         "y": [
          -0.3222903128760568,
          -0.41133171181790834,
          null
         ]
        },
        {
         "line": {
          "color": "Blue",
          "width": 1
         },
         "mode": "lines",
         "type": "scatter",
         "x": [
          -0.05058046473151391,
          -0.9760046669556657,
          null
         ],
         "y": [
          -0.3222903128760568,
          -0.23345526171618958,
          null
         ]
        },
        {
         "line": {
          "color": "Blue",
          "width": 7
         },
         "mode": "lines",
         "type": "scatter",
         "x": [
          0.26920982893597845,
          0.2334089869526381,
          null
         ],
         "y": [
          0.3983280155711668,
          0.46684944255585675,
          null
         ]
        },
        {
         "line": {
          "color": "Blue",
          "width": 1
         },
         "mode": "lines",
         "type": "scatter",
         "x": [
          -0.217668724194539,
          -0.19424529774564986,
          null
         ],
         "y": [
          -0.6751068776387363,
          -0.6750527012123818,
          null
         ]
        },
        {
         "line": {
          "color": "Blue",
          "width": 1
         },
         "mode": "lines",
         "type": "scatter",
         "x": [
          -0.19424529774564986,
          -0.217668724194539,
          null
         ],
         "y": [
          -0.6750527012123818,
          -0.6751068776387363,
          null
         ]
        },
        {
         "line": {
          "color": "Blue",
          "width": 1
         },
         "mode": "lines",
         "type": "scatter",
         "x": [
          0.18298362234470514,
          0.13443111033827412,
          null
         ],
         "y": [
          0.5579104623103853,
          0.5663285114378721,
          null
         ]
        },
        {
         "line": {
          "color": "Blue",
          "width": 1
         },
         "mode": "lines",
         "type": "scatter",
         "x": [
          0.027252848964473508,
          0.007995403923307151,
          null
         ],
         "y": [
          0.669326215476247,
          0.6193807558005415,
          null
         ]
        },
        {
         "line": {
          "color": "Blue",
          "width": 1
         },
         "mode": "lines",
         "type": "scatter",
         "x": [
          0.007995403923307151,
          0.00653569783664845,
          null
         ],
         "y": [
          0.6193807558005415,
          0.5618936901220456,
          null
         ]
        },
        {
         "line": {
          "color": "Blue",
          "width": 1
         },
         "mode": "lines",
         "type": "scatter",
         "x": [
          0.6669263227960512,
          0.9407050733164788,
          null
         ],
         "y": [
          0.29486173489413436,
          0.40863697864068904,
          null
         ]
        },
        {
         "line": {
          "color": "Blue",
          "width": 2
         },
         "mode": "lines",
         "type": "scatter",
         "x": [
          0.053562302103836786,
          0.00653569783664845,
          null
         ],
         "y": [
          0.5679069595263282,
          0.5618936901220456,
          null
         ]
        },
        {
         "line": {
          "color": "Blue",
          "width": 1
         },
         "mode": "lines",
         "type": "scatter",
         "x": [
          -0.6563441435197541,
          -0.6355184946698897,
          null
         ],
         "y": [
          0.10655425837525127,
          0.05355667188693692,
          null
         ]
        },
        {
         "line": {
          "color": "Blue",
          "width": 5
         },
         "mode": "lines",
         "type": "scatter",
         "x": [
          -0.6761300732775591,
          -0.6355184946698897,
          null
         ],
         "y": [
          0.09507990900014099,
          0.05355667188693692,
          null
         ]
        },
        {
         "line": {
          "color": "Blue",
          "width": 1
         },
         "mode": "lines",
         "type": "scatter",
         "x": [
          -0.562683228061876,
          -0.5878636512797422,
          null
         ],
         "y": [
          -0.5022204671419498,
          -0.4967686017208657,
          null
         ]
        },
        {
         "line": {
          "color": "Blue",
          "width": 1
         },
         "mode": "lines",
         "type": "scatter",
         "x": [
          -0.5878636512797422,
          -0.6215643836147127,
          null
         ],
         "y": [
          -0.4967686017208657,
          -0.5222534659232466,
          null
         ]
        },
        {
         "line": {
          "color": "Blue",
          "width": 1
         },
         "mode": "lines",
         "type": "scatter",
         "x": [
          -0.5878636512797422,
          -0.562683228061876,
          null
         ],
         "y": [
          -0.4967686017208657,
          -0.5022204671419498,
          null
         ]
        },
        {
         "line": {
          "color": "Blue",
          "width": 1
         },
         "mode": "lines",
         "type": "scatter",
         "x": [
          -0.6215643836147127,
          -0.5878636512797422,
          null
         ],
         "y": [
          -0.5222534659232466,
          -0.4967686017208657,
          null
         ]
        },
        {
         "line": {
          "color": "Blue",
          "width": 1
         },
         "mode": "lines",
         "type": "scatter",
         "x": [
          -0.5336369773232554,
          -0.554043859522779,
          null
         ],
         "y": [
          -0.6863155356817474,
          -0.7240153785548754,
          null
         ]
        },
        {
         "line": {
          "color": "Blue",
          "width": 1
         },
         "mode": "lines",
         "type": "scatter",
         "x": [
          -0.554043859522779,
          -0.5742620852025779,
          null
         ],
         "y": [
          -0.7240153785548754,
          -0.7145539094061756,
          null
         ]
        },
        {
         "line": {
          "color": "Blue",
          "width": 1
         },
         "mode": "lines",
         "type": "scatter",
         "x": [
          -0.5742620852025779,
          -0.5336369773232554,
          null
         ],
         "y": [
          -0.7145539094061756,
          -0.6863155356817474,
          null
         ]
        },
        {
         "line": {
          "color": "Blue",
          "width": 1
         },
         "mode": "lines",
         "type": "scatter",
         "x": [
          0.09108257637435149,
          0.16063410934214448,
          null
         ],
         "y": [
          0.21481322785005708,
          0.05190673141557883,
          null
         ]
        },
        {
         "line": {
          "color": "Blue",
          "width": 1
         },
         "mode": "lines",
         "type": "scatter",
         "x": [
          0.09108257637435149,
          0.06296737885084382,
          null
         ],
         "y": [
          0.21481322785005708,
          0.2773986693347045,
          null
         ]
        },
        {
         "line": {
          "color": "Blue",
          "width": 4
         },
         "mode": "lines",
         "type": "scatter",
         "x": [
          0.09108257637435149,
          0.07729952643531772,
          null
         ],
         "y": [
          0.21481322785005708,
          0.22800586877246445,
          null
         ]
        },
        {
         "line": {
          "color": "Blue",
          "width": 2
         },
         "mode": "lines",
         "type": "scatter",
         "x": [
          0.09108257637435149,
          0.02293760603570412,
          null
         ],
         "y": [
          0.21481322785005708,
          0.37654083897519786,
          null
         ]
        },
        {
         "line": {
          "color": "Blue",
          "width": 1
         },
         "mode": "lines",
         "type": "scatter",
         "x": [
          0.16063410934214448,
          0.17102630298095595,
          null
         ],
         "y": [
          0.05190673141557883,
          0.07474973951779565,
          null
         ]
        },
        {
         "line": {
          "color": "Blue",
          "width": 1
         },
         "mode": "lines",
         "type": "scatter",
         "x": [
          0.16063410934214448,
          0.12489833805469243,
          null
         ],
         "y": [
          0.05190673141557883,
          0.12375925669501651,
          null
         ]
        },
        {
         "line": {
          "color": "Blue",
          "width": 1
         },
         "mode": "lines",
         "type": "scatter",
         "x": [
          0.17102630298095595,
          0.1296910878899934,
          null
         ],
         "y": [
          0.07474973951779565,
          0.14390457044247493,
          null
         ]
        },
        {
         "line": {
          "color": "Blue",
          "width": 1
         },
         "mode": "lines",
         "type": "scatter",
         "x": [
          0.1296910878899934,
          0.12489833805469243,
          null
         ],
         "y": [
          0.14390457044247493,
          0.12375925669501651,
          null
         ]
        },
        {
         "line": {
          "color": "Blue",
          "width": 1
         },
         "mode": "lines",
         "type": "scatter",
         "x": [
          0.1296910878899934,
          0.09108257637435149,
          null
         ],
         "y": [
          0.14390457044247493,
          0.21481322785005708,
          null
         ]
        },
        {
         "line": {
          "color": "Blue",
          "width": 1
         },
         "mode": "lines",
         "type": "scatter",
         "x": [
          0.12489833805469243,
          0.1296910878899934,
          null
         ],
         "y": [
          0.12375925669501651,
          0.14390457044247493,
          null
         ]
        },
        {
         "line": {
          "color": "Blue",
          "width": 1
         },
         "mode": "lines",
         "type": "scatter",
         "x": [
          0.12489833805469243,
          0.16063410934214448,
          null
         ],
         "y": [
          0.12375925669501651,
          0.05190673141557883,
          null
         ]
        },
        {
         "line": {
          "color": "Blue",
          "width": 1
         },
         "mode": "lines",
         "type": "scatter",
         "x": [
          0.12489833805469243,
          0.07729952643531772,
          null
         ],
         "y": [
          0.12375925669501651,
          0.22800586877246445,
          null
         ]
        },
        {
         "line": {
          "color": "Blue",
          "width": 1
         },
         "mode": "lines",
         "type": "scatter",
         "x": [
          0.7473349073463132,
          0.7750211043841024,
          null
         ],
         "y": [
          0.29463036795975933,
          0.7120259758444962,
          null
         ]
        },
        {
         "line": {
          "color": "Blue",
          "width": 1
         },
         "mode": "lines",
         "type": "scatter",
         "x": [
          0.7473349073463132,
          0.8757944123177239,
          null
         ],
         "y": [
          0.29463036795975933,
          -0.08776320413754238,
          null
         ]
        },
        {
         "line": {
          "color": "Blue",
          "width": 2
         },
         "mode": "lines",
         "type": "scatter",
         "x": [
          -0.6779738083414828,
          -0.6355184946698897,
          null
         ],
         "y": [
          -0.07430607950066163,
          0.05355667188693692,
          null
         ]
        },
        {
         "line": {
          "color": "Blue",
          "width": 1
         },
         "mode": "lines",
         "type": "scatter",
         "x": [
          -0.6779738083414828,
          -0.7050728922568569,
          null
         ],
         "y": [
          -0.07430607950066163,
          -0.2867688118397396,
          null
         ]
        },
        {
         "line": {
          "color": "Blue",
          "width": 1
         },
         "mode": "lines",
         "type": "scatter",
         "x": [
          -0.6779738083414828,
          -0.6761300732775591,
          null
         ],
         "y": [
          -0.07430607950066163,
          0.09507990900014099,
          null
         ]
        },
        {
         "line": {
          "color": "Blue",
          "width": 1
         },
         "mode": "lines",
         "type": "scatter",
         "x": [
          -0.7050728922568569,
          -0.7802746231896529,
          null
         ],
         "y": [
          -0.2867688118397396,
          -0.6262823052968136,
          null
         ]
        },
        {
         "line": {
          "color": "Blue",
          "width": 1
         },
         "mode": "lines",
         "type": "scatter",
         "x": [
          -0.7050728922568569,
          -0.6355184946698897,
          null
         ],
         "y": [
          -0.2867688118397396,
          0.05355667188693692,
          null
         ]
        },
        {
         "line": {
          "color": "Blue",
          "width": 1
         },
         "mode": "lines",
         "type": "scatter",
         "x": [
          -0.5084142647390143,
          -0.6348980136925776,
          null
         ],
         "y": [
          0.10407938504399444,
          0.09726986464869468,
          null
         ]
        },
        {
         "line": {
          "color": "Blue",
          "width": 1
         },
         "mode": "lines",
         "type": "scatter",
         "x": [
          -0.6348980136925776,
          -0.6355184946698897,
          null
         ],
         "y": [
          0.09726986464869468,
          0.05355667188693692,
          null
         ]
        },
        {
         "line": {
          "color": "Blue",
          "width": 2
         },
         "mode": "lines",
         "type": "scatter",
         "x": [
          -0.29369975641351054,
          -0.35639808630724534,
          null
         ],
         "y": [
          -0.727545186978445,
          -0.9119393562318372,
          null
         ]
        },
        {
         "line": {
          "color": "Blue",
          "width": 1
         },
         "mode": "lines",
         "type": "scatter",
         "x": [
          0.057076871173903865,
          0.056203790376571104,
          null
         ],
         "y": [
          0.9300815009438165,
          0.9944139065889939,
          null
         ]
        },
        {
         "line": {
          "color": "Blue",
          "width": 1
         },
         "mode": "lines",
         "type": "scatter",
         "x": [
          0.7849753189450722,
          0.9575968837381842,
          null
         ],
         "y": [
          -0.14361684707402098,
          -0.18522161242831603,
          null
         ]
        },
        {
         "line": {
          "color": "Blue",
          "width": 1
         },
         "mode": "lines",
         "type": "scatter",
         "x": [
          0.36841946443257373,
          0.47106405004086577,
          null
         ],
         "y": [
          0.31386934319661336,
          0.3626793762648869,
          null
         ]
        },
        {
         "line": {
          "color": "Blue",
          "width": 1
         },
         "mode": "lines",
         "type": "scatter",
         "x": [
          0.47106405004086577,
          0.5954425516422513,
          null
         ],
         "y": [
          0.3626793762648869,
          0.4276719695065761,
          null
         ]
        },
        {
         "line": {
          "color": "Blue",
          "width": 1
         },
         "mode": "lines",
         "type": "scatter",
         "x": [
          0.5954425516422513,
          0.7272500915751805,
          null
         ],
         "y": [
          0.4276719695065761,
          0.5057051532819287,
          null
         ]
        },
        {
         "line": {
          "color": "Blue",
          "width": 1
         },
         "mode": "lines",
         "type": "scatter",
         "x": [
          0.7272500915751805,
          0.8805764195170631,
          null
         ],
         "y": [
          0.5057051532819287,
          0.6032251083344231,
          null
         ]
        },
        {
         "line": {
          "color": "Blue",
          "width": 2
         },
         "mode": "lines",
         "type": "scatter",
         "x": [
          0.02293760603570412,
          0.06296737885084382,
          null
         ],
         "y": [
          0.37654083897519786,
          0.2773986693347045,
          null
         ]
        },
        {
         "line": {
          "color": "Blue",
          "width": 1
         },
         "mode": "lines",
         "type": "scatter",
         "x": [
          0.02293760603570412,
          -0.07780514594252302,
          null
         ],
         "y": [
          0.37654083897519786,
          0.6331670702503354,
          null
         ]
        },
        {
         "line": {
          "color": "Blue",
          "width": 2
         },
         "mode": "lines",
         "type": "scatter",
         "x": [
          0.02293760603570412,
          0.09108257637435149,
          null
         ],
         "y": [
          0.37654083897519786,
          0.21481322785005708,
          null
         ]
        },
        {
         "line": {
          "color": "Blue",
          "width": 2
         },
         "mode": "lines",
         "type": "scatter",
         "x": [
          0.02293760603570412,
          0.07729952643531772,
          null
         ],
         "y": [
          0.37654083897519786,
          0.22800586877246445,
          null
         ]
        },
        {
         "line": {
          "color": "Blue",
          "width": 6
         },
         "mode": "lines",
         "type": "scatter",
         "x": [
          0.06296737885084382,
          0.07729952643531772,
          null
         ],
         "y": [
          0.2773986693347045,
          0.22800586877246445,
          null
         ]
        },
        {
         "line": {
          "color": "Blue",
          "width": 1
         },
         "mode": "lines",
         "type": "scatter",
         "x": [
          0.06296737885084382,
          0.09108257637435149,
          null
         ],
         "y": [
          0.2773986693347045,
          0.21481322785005708,
          null
         ]
        },
        {
         "line": {
          "color": "Blue",
          "width": 3
         },
         "mode": "lines",
         "type": "scatter",
         "x": [
          0.06296737885084382,
          0.02293760603570412,
          null
         ],
         "y": [
          0.2773986693347045,
          0.37654083897519786,
          null
         ]
        },
        {
         "line": {
          "color": "Blue",
          "width": 3
         },
         "mode": "lines",
         "type": "scatter",
         "x": [
          0.07729952643531772,
          0.02293760603570412,
          null
         ],
         "y": [
          0.22800586877246445,
          0.37654083897519786,
          null
         ]
        },
        {
         "line": {
          "color": "Blue",
          "width": 5
         },
         "mode": "lines",
         "type": "scatter",
         "x": [
          0.07729952643531772,
          0.06296737885084382,
          null
         ],
         "y": [
          0.22800586877246445,
          0.2773986693347045,
          null
         ]
        },
        {
         "line": {
          "color": "Blue",
          "width": 1
         },
         "mode": "lines",
         "type": "scatter",
         "x": [
          0.07729952643531772,
          0.1051586301568019,
          null
         ],
         "y": [
          0.22800586877246445,
          0.23387315809621517,
          null
         ]
        },
        {
         "line": {
          "color": "Blue",
          "width": 4
         },
         "mode": "lines",
         "type": "scatter",
         "x": [
          0.07729952643531772,
          0.09108257637435149,
          null
         ],
         "y": [
          0.22800586877246445,
          0.21481322785005708,
          null
         ]
        },
        {
         "line": {
          "color": "Blue",
          "width": 1
         },
         "mode": "lines",
         "type": "scatter",
         "x": [
          0.07729952643531772,
          0.12489833805469243,
          null
         ],
         "y": [
          0.22800586877246445,
          0.12375925669501651,
          null
         ]
        },
        {
         "line": {
          "color": "Blue",
          "width": 1
         },
         "mode": "lines",
         "type": "scatter",
         "x": [
          0.07729952643531772,
          0.09647659824460597,
          null
         ],
         "y": [
          0.22800586877246445,
          0.17002112082562654,
          null
         ]
        },
        {
         "line": {
          "color": "Blue",
          "width": 1
         },
         "mode": "lines",
         "type": "scatter",
         "x": [
          0.07729952643531772,
          0.07430519338893916,
          null
         ],
         "y": [
          0.22800586877246445,
          0.16672387095799987,
          null
         ]
        },
        {
         "line": {
          "color": "Blue",
          "width": 1
         },
         "mode": "lines",
         "type": "scatter",
         "x": [
          -0.07780514594252302,
          -0.05155337576046852,
          null
         ],
         "y": [
          0.6331670702503354,
          0.5906982789182788,
          null
         ]
        },
        {
         "line": {
          "color": "Blue",
          "width": 8
         },
         "mode": "lines",
         "type": "scatter",
         "x": [
          0.4132025725784307,
          0.393620771298509,
          null
         ],
         "y": [
          0.5988563372231029,
          0.6186325304910114,
          null
         ]
        },
        {
         "line": {
          "color": "Blue",
          "width": 1
         },
         "mode": "lines",
         "type": "scatter",
         "x": [
          0.4132025725784307,
          0.4215609254626437,
          null
         ],
         "y": [
          0.5988563372231029,
          0.6248187874555992,
          null
         ]
        },
        {
         "line": {
          "color": "Blue",
          "width": 2
         },
         "mode": "lines",
         "type": "scatter",
         "x": [
          0.393620771298509,
          0.4215609254626437,
          null
         ],
         "y": [
          0.6186325304910114,
          0.6248187874555992,
          null
         ]
        },
        {
         "line": {
          "color": "Blue",
          "width": 6
         },
         "mode": "lines",
         "type": "scatter",
         "x": [
          0.393620771298509,
          0.4132025725784307,
          null
         ],
         "y": [
          0.6186325304910114,
          0.5988563372231029,
          null
         ]
        },
        {
         "line": {
          "color": "Blue",
          "width": 1
         },
         "mode": "lines",
         "type": "scatter",
         "x": [
          0.393620771298509,
          0.4471023033219302,
          null
         ],
         "y": [
          0.6186325304910114,
          0.6686719138913689,
          null
         ]
        },
        {
         "line": {
          "color": "Blue",
          "width": 1
         },
         "mode": "lines",
         "type": "scatter",
         "x": [
          0.393620771298509,
          0.33792714051423434,
          null
         ],
         "y": [
          0.6186325304910114,
          0.5888540846479634,
          null
         ]
        },
        {
         "line": {
          "color": "Blue",
          "width": 1
         },
         "mode": "lines",
         "type": "scatter",
         "x": [
          0.4197067713405106,
          0.1677894728071682,
          null
         ],
         "y": [
          -0.46149894413075426,
          -0.7305334696894542,
          null
         ]
        },
        {
         "line": {
          "color": "Blue",
          "width": 1
         },
         "mode": "lines",
         "type": "scatter",
         "x": [
          0.4197067713405106,
          0.8599676664867721,
          null
         ],
         "y": [
          -0.46149894413075426,
          -0.5170656068255228,
          null
         ]
        },
        {
         "line": {
          "color": "Blue",
          "width": 1
         },
         "mode": "lines",
         "type": "scatter",
         "x": [
          0.4197067713405106,
          0.334424878430943,
          null
         ],
         "y": [
          -0.46149894413075426,
          -0.3617836190394759,
          null
         ]
        },
        {
         "line": {
          "color": "Blue",
          "width": 1
         },
         "mode": "lines",
         "type": "scatter",
         "x": [
          0.4197067713405106,
          0.3509935441280999,
          null
         ],
         "y": [
          -0.46149894413075426,
          -0.37708867287801606,
          null
         ]
        },
        {
         "line": {
          "color": "Blue",
          "width": 1
         },
         "mode": "lines",
         "type": "scatter",
         "x": [
          0.1677894728071682,
          0.2268846091412453,
          null
         ],
         "y": [
          -0.7305334696894542,
          -0.8418663379763508,
          null
         ]
        },
        {
         "line": {
          "color": "Blue",
          "width": 1
         },
         "mode": "lines",
         "type": "scatter",
         "x": [
          0.2268846091412453,
          0.22962354737015284,
          null
         ],
         "y": [
          -0.8418663379763508,
          -0.8124759117092945,
          null
         ]
        },
        {
         "line": {
          "color": "Blue",
          "width": 1
         },
         "mode": "lines",
         "type": "scatter",
         "x": [
          0.22962354737015284,
          0.28262255891920907,
          null
         ],
         "y": [
          -0.8124759117092945,
          -0.9430145104388807,
          null
         ]
        },
        {
         "line": {
          "color": "Blue",
          "width": 1
         },
         "mode": "lines",
         "type": "scatter",
         "x": [
          0.22962354737015284,
          0.18394095226627913,
          null
         ],
         "y": [
          -0.8124759117092945,
          -0.7048927681260831,
          null
         ]
        },
        {
         "line": {
          "color": "Blue",
          "width": 2
         },
         "mode": "lines",
         "type": "scatter",
         "x": [
          0.4215609254626437,
          0.4132025725784307,
          null
         ],
         "y": [
          0.6248187874555992,
          0.5988563372231029,
          null
         ]
        },
        {
         "line": {
          "color": "Blue",
          "width": 2
         },
         "mode": "lines",
         "type": "scatter",
         "x": [
          0.4215609254626437,
          0.393620771298509,
          null
         ],
         "y": [
          0.6248187874555992,
          0.6186325304910114,
          null
         ]
        },
        {
         "line": {
          "color": "Blue",
          "width": 1
         },
         "mode": "lines",
         "type": "scatter",
         "x": [
          0.4471023033219302,
          0.4550865663637871,
          null
         ],
         "y": [
          0.6686719138913689,
          0.6411823299586208,
          null
         ]
        },
        {
         "line": {
          "color": "Blue",
          "width": 1
         },
         "mode": "lines",
         "type": "scatter",
         "x": [
          0.4550865663637871,
          0.4215609254626437,
          null
         ],
         "y": [
          0.6411823299586208,
          0.6248187874555992,
          null
         ]
        },
        {
         "line": {
          "color": "Blue",
          "width": 1
         },
         "mode": "lines",
         "type": "scatter",
         "x": [
          0.18394095226627913,
          0.22962354737015284,
          null
         ],
         "y": [
          -0.7048927681260831,
          -0.8124759117092945,
          null
         ]
        },
        {
         "line": {
          "color": "Blue",
          "width": 1
         },
         "mode": "lines",
         "type": "scatter",
         "x": [
          0.33792714051423434,
          0.38243349598570825,
          null
         ],
         "y": [
          0.5888540846479634,
          0.6380830935898356,
          null
         ]
        },
        {
         "line": {
          "color": "Blue",
          "width": 1
         },
         "mode": "lines",
         "type": "scatter",
         "x": [
          0.38243349598570825,
          0.4215609254626437,
          null
         ],
         "y": [
          0.6380830935898356,
          0.6248187874555992,
          null
         ]
        },
        {
         "line": {
          "color": "Blue",
          "width": 1
         },
         "mode": "lines",
         "type": "scatter",
         "x": [
          -0.6109934751082702,
          -0.6355184946698897,
          null
         ],
         "y": [
          0.09478006311997292,
          0.05355667188693692,
          null
         ]
        },
        {
         "line": {
          "color": "Blue",
          "width": 1
         },
         "mode": "lines",
         "type": "scatter",
         "x": [
          0.334424878430943,
          0.4197067713405106,
          null
         ],
         "y": [
          -0.3617836190394759,
          -0.46149894413075426,
          null
         ]
        },
        {
         "line": {
          "color": "Blue",
          "width": 1
         },
         "mode": "lines",
         "type": "scatter",
         "x": [
          0.3509935441280999,
          0.4197067713405106,
          null
         ],
         "y": [
          -0.37708867287801606,
          -0.46149894413075426,
          null
         ]
        },
        {
         "line": {
          "color": "Blue",
          "width": 1
         },
         "mode": "lines",
         "type": "scatter",
         "x": [
          -0.08989122615934875,
          -0.12712275093872621,
          null
         ],
         "y": [
          0.6473738382995519,
          0.6852801160266644,
          null
         ]
        },
        {
         "line": {
          "color": "Blue",
          "width": 1
         },
         "mode": "lines",
         "type": "scatter",
         "x": [
          -0.08989122615934875,
          -0.05363971760901022,
          null
         ],
         "y": [
          0.6473738382995519,
          0.6600590109980251,
          null
         ]
        },
        {
         "line": {
          "color": "Blue",
          "width": 1
         },
         "mode": "lines",
         "type": "scatter",
         "x": [
          -0.08989122615934875,
          -0.04466710711642731,
          null
         ],
         "y": [
          0.6473738382995519,
          0.6072001475088125,
          null
         ]
        },
        {
         "line": {
          "color": "Blue",
          "width": 1
         },
         "mode": "lines",
         "type": "scatter",
         "x": [
          -0.12712275093872621,
          -0.08989122615934875,
          null
         ],
         "y": [
          0.6852801160266644,
          0.6473738382995519,
          null
         ]
        },
        {
         "line": {
          "color": "Blue",
          "width": 1
         },
         "mode": "lines",
         "type": "scatter",
         "x": [
          -0.05363971760901022,
          -0.04466710711642731,
          null
         ],
         "y": [
          0.6600590109980251,
          0.6072001475088125,
          null
         ]
        },
        {
         "line": {
          "color": "Blue",
          "width": 1
         },
         "mode": "lines",
         "type": "scatter",
         "x": [
          -0.04466710711642731,
          -0.08989122615934875,
          null
         ],
         "y": [
          0.6072001475088125,
          0.6473738382995519,
          null
         ]
        },
        {
         "line": {
          "color": "Blue",
          "width": 1
         },
         "mode": "lines",
         "type": "scatter",
         "x": [
          -0.04466710711642731,
          0.00653569783664845,
          null
         ],
         "y": [
          0.6072001475088125,
          0.5618936901220456,
          null
         ]
        },
        {
         "line": {
          "color": "Blue",
          "width": 1
         },
         "mode": "lines",
         "type": "scatter",
         "x": [
          -0.6360599796505155,
          -0.5989751712236193,
          null
         ],
         "y": [
          -0.08338143408407235,
          -0.053683979406032534,
          null
         ]
        },
        {
         "line": {
          "color": "Blue",
          "width": 1
         },
         "mode": "lines",
         "type": "scatter",
         "x": [
          -0.5989751712236193,
          -0.6355184946698897,
          null
         ],
         "y": [
          -0.053683979406032534,
          0.05355667188693692,
          null
         ]
        },
        {
         "line": {
          "color": "Blue",
          "width": 1
         },
         "mode": "lines",
         "type": "scatter",
         "x": [
          -0.5989751712236193,
          -0.571708532269586,
          null
         ],
         "y": [
          -0.053683979406032534,
          -0.16198790397928886,
          null
         ]
        },
        {
         "line": {
          "color": "Blue",
          "width": 1
         },
         "mode": "lines",
         "type": "scatter",
         "x": [
          -0.5723080930916794,
          -0.5989751712236193,
          null
         ],
         "y": [
          -0.07746287713415992,
          -0.053683979406032534,
          null
         ]
        },
        {
         "line": {
          "color": "Blue",
          "width": 1
         },
         "mode": "lines",
         "type": "scatter",
         "x": [
          -0.8528169773476151,
          -0.8086442017948446,
          null
         ],
         "y": [
          -0.29923020850182713,
          -0.28276318984819504,
          null
         ]
        },
        {
         "line": {
          "color": "Blue",
          "width": 1
         },
         "mode": "lines",
         "type": "scatter",
         "x": [
          -0.8086442017948446,
          -0.8528169773476151,
          null
         ],
         "y": [
          -0.28276318984819504,
          -0.29923020850182713,
          null
         ]
        },
        {
         "line": {
          "color": "Blue",
          "width": 1
         },
         "mode": "lines",
         "type": "scatter",
         "x": [
          0.33808179177310443,
          0.3165494290652029,
          null
         ],
         "y": [
          -0.19129089820430067,
          -0.2093353387770269,
          null
         ]
        },
        {
         "line": {
          "color": "Blue",
          "width": 1
         },
         "mode": "lines",
         "type": "scatter",
         "x": [
          0.33808179177310443,
          0.37523535893892773,
          null
         ],
         "y": [
          -0.19129089820430067,
          -0.19585107994396775,
          null
         ]
        },
        {
         "line": {
          "color": "Blue",
          "width": 1
         },
         "mode": "lines",
         "type": "scatter",
         "x": [
          0.33808179177310443,
          0.3061961646502424,
          null
         ],
         "y": [
          -0.19129089820430067,
          -0.17793757896667,
          null
         ]
        },
        {
         "line": {
          "color": "Blue",
          "width": 2
         },
         "mode": "lines",
         "type": "scatter",
         "x": [
          0.3165494290652029,
          0.33808179177310443,
          null
         ],
         "y": [
          -0.2093353387770269,
          -0.19129089820430067,
          null
         ]
        },
        {
         "line": {
          "color": "Blue",
          "width": 1
         },
         "mode": "lines",
         "type": "scatter",
         "x": [
          0.42573525285743896,
          0.5164414543211586,
          null
         ],
         "y": [
          0.72791377888386,
          0.8964628255956419,
          null
         ]
        },
        {
         "line": {
          "color": "Blue",
          "width": 1
         },
         "mode": "lines",
         "type": "scatter",
         "x": [
          0.31313506763831295,
          0.33808179177310443,
          null
         ],
         "y": [
          -0.22946208977224003,
          -0.19129089820430067,
          null
         ]
        },
        {
         "line": {
          "color": "Blue",
          "width": 1
         },
         "mode": "lines",
         "type": "scatter",
         "x": [
          0.3061961646502424,
          0.33808179177310443,
          null
         ],
         "y": [
          -0.17793757896667,
          -0.19129089820430067,
          null
         ]
        },
        {
         "line": {
          "color": "Blue",
          "width": 1
         },
         "mode": "lines",
         "type": "scatter",
         "x": [
          0.02385144654197455,
          0.00653569783664845,
          null
         ],
         "y": [
          0.6064890698772241,
          0.5618936901220456,
          null
         ]
        },
        {
         "line": {
          "color": "Blue",
          "width": 1
         },
         "mode": "lines",
         "type": "scatter",
         "x": [
          -0.6099103133446572,
          -0.7208685162502674,
          null
         ],
         "y": [
          0.5558973642819145,
          0.6883775124386619,
          null
         ]
        },
        {
         "line": {
          "color": "Blue",
          "width": 1
         },
         "mode": "lines",
         "type": "scatter",
         "x": [
          -0.6099103133446572,
          -0.5723632135824303,
          null
         ],
         "y": [
          0.5558973642819145,
          0.5070896871613674,
          null
         ]
        },
        {
         "line": {
          "color": "Blue",
          "width": 1
         },
         "mode": "lines",
         "type": "scatter",
         "x": [
          0.6495577761181255,
          0.6722544332350213,
          null
         ],
         "y": [
          -0.1863455456744851,
          -0.13502036878389873,
          null
         ]
        },
        {
         "line": {
          "color": "Blue",
          "width": 2
         },
         "mode": "lines",
         "type": "scatter",
         "x": [
          0.6495577761181255,
          0.6424500640065746,
          null
         ],
         "y": [
          -0.1863455456744851,
          -0.20657397924490542,
          null
         ]
        },
        {
         "line": {
          "color": "Blue",
          "width": 1
         },
         "mode": "lines",
         "type": "scatter",
         "x": [
          0.6495577761181255,
          0.6298921751889827,
          null
         ],
         "y": [
          -0.1863455456744851,
          -0.24600281176296188,
          null
         ]
        },
        {
         "line": {
          "color": "Blue",
          "width": 1
         },
         "mode": "lines",
         "type": "scatter",
         "x": [
          0.6495577761181255,
          0.6390807309960873,
          null
         ],
         "y": [
          -0.1863455456744851,
          -0.16041437756341656,
          null
         ]
        },
        {
         "line": {
          "color": "Blue",
          "width": 1
         },
         "mode": "lines",
         "type": "scatter",
         "x": [
          0.6722544332350213,
          0.6390807309960873,
          null
         ],
         "y": [
          -0.13502036878389873,
          -0.16041437756341656,
          null
         ]
        },
        {
         "line": {
          "color": "Blue",
          "width": 1
         },
         "mode": "lines",
         "type": "scatter",
         "x": [
          0.6390807309960873,
          0.6495577761181255,
          null
         ],
         "y": [
          -0.16041437756341656,
          -0.1863455456744851,
          null
         ]
        },
        {
         "line": {
          "color": "Blue",
          "width": 1
         },
         "mode": "lines",
         "type": "scatter",
         "x": [
          0.6390807309960873,
          0.6354634206992088,
          null
         ],
         "y": [
          -0.16041437756341656,
          -0.11861168603167521,
          null
         ]
        },
        {
         "line": {
          "color": "Blue",
          "width": 2
         },
         "mode": "lines",
         "type": "scatter",
         "x": [
          0.6390807309960873,
          0.6424500640065746,
          null
         ],
         "y": [
          -0.16041437756341656,
          -0.20657397924490542,
          null
         ]
        },
        {
         "line": {
          "color": "Blue",
          "width": 1
         },
         "mode": "lines",
         "type": "scatter",
         "x": [
          0.1051586301568019,
          0.06296737885084382,
          null
         ],
         "y": [
          0.23387315809621517,
          0.2773986693347045,
          null
         ]
        },
        {
         "line": {
          "color": "Blue",
          "width": 1
         },
         "mode": "lines",
         "type": "scatter",
         "x": [
          0.1051586301568019,
          0.11910112269228844,
          null
         ],
         "y": [
          0.23387315809621517,
          0.18241547817228498,
          null
         ]
        },
        {
         "line": {
          "color": "Blue",
          "width": 1
         },
         "mode": "lines",
         "type": "scatter",
         "x": [
          0.022706765738808313,
          0.00653569783664845,
          null
         ],
         "y": [
          0.5212791238210516,
          0.5618936901220456,
          null
         ]
        },
        {
         "line": {
          "color": "Blue",
          "width": 1
         },
         "mode": "lines",
         "type": "scatter",
         "x": [
          -0.07940958320806038,
          -0.04963978980323877,
          null
         ],
         "y": [
          0.5053311592948502,
          0.5261974905195866,
          null
         ]
        },
        {
         "line": {
          "color": "Blue",
          "width": 1
         },
         "mode": "lines",
         "type": "scatter",
         "x": [
          -0.04963978980323877,
          -0.15257988854626547,
          null
         ],
         "y": [
          0.5261974905195866,
          0.4725803254239762,
          null
         ]
        },
        {
         "line": {
          "color": "Blue",
          "width": 1
         },
         "mode": "lines",
         "type": "scatter",
         "x": [
          -0.04963978980323877,
          0.045378673122160165,
          null
         ],
         "y": [
          0.5261974905195866,
          0.6072986339230855,
          null
         ]
        },
        {
         "line": {
          "color": "Blue",
          "width": 1
         },
         "mode": "lines",
         "type": "scatter",
         "x": [
          -0.15257988854626547,
          -0.1854407440298569,
          null
         ],
         "y": [
          0.4725803254239762,
          0.4426912889997597,
          null
         ]
        },
        {
         "line": {
          "color": "Blue",
          "width": 1
         },
         "mode": "lines",
         "type": "scatter",
         "x": [
          -0.15257988854626547,
          -0.10995182927895984,
          null
         ],
         "y": [
          0.4725803254239762,
          0.5175385065429913,
          null
         ]
        },
        {
         "line": {
          "color": "Blue",
          "width": 1
         },
         "mode": "lines",
         "type": "scatter",
         "x": [
          -0.1854407440298569,
          -0.15257988854626547,
          null
         ],
         "y": [
          0.4426912889997597,
          0.4725803254239762,
          null
         ]
        },
        {
         "line": {
          "color": "Blue",
          "width": 1
         },
         "mode": "lines",
         "type": "scatter",
         "x": [
          -0.10995182927895984,
          -0.15602133707393775,
          null
         ],
         "y": [
          0.5175385065429913,
          0.5231559962403554,
          null
         ]
        },
        {
         "line": {
          "color": "Blue",
          "width": 1
         },
         "mode": "lines",
         "type": "scatter",
         "x": [
          -0.10995182927895984,
          -0.04963978980323877,
          null
         ],
         "y": [
          0.5175385065429913,
          0.5261974905195866,
          null
         ]
        },
        {
         "line": {
          "color": "Blue",
          "width": 1
         },
         "mode": "lines",
         "type": "scatter",
         "x": [
          -0.15602133707393775,
          -0.10995182927895984,
          null
         ],
         "y": [
          0.5231559962403554,
          0.5175385065429913,
          null
         ]
        },
        {
         "line": {
          "color": "Blue",
          "width": 1
         },
         "mode": "lines",
         "type": "scatter",
         "x": [
          0.045378673122160165,
          0.00653569783664845,
          null
         ],
         "y": [
          0.6072986339230855,
          0.5618936901220456,
          null
         ]
        },
        {
         "line": {
          "color": "Blue",
          "width": 1
         },
         "mode": "lines",
         "type": "scatter",
         "x": [
          0.11910112269228844,
          0.07729952643531772,
          null
         ],
         "y": [
          0.18241547817228498,
          0.22800586877246445,
          null
         ]
        },
        {
         "line": {
          "color": "Blue",
          "width": 1
         },
         "mode": "lines",
         "type": "scatter",
         "x": [
          -0.7378730828981975,
          -0.7227400406965296,
          null
         ],
         "y": [
          -0.17377639003835765,
          -0.1980886628426595,
          null
         ]
        },
        {
         "line": {
          "color": "Blue",
          "width": 2
         },
         "mode": "lines",
         "type": "scatter",
         "x": [
          -0.7378730828981975,
          -0.7709645487770276,
          null
         ],
         "y": [
          -0.17377639003835765,
          -0.16631189930699672,
          null
         ]
        },
        {
         "line": {
          "color": "Blue",
          "width": 1
         },
         "mode": "lines",
         "type": "scatter",
         "x": [
          -0.7227400406965296,
          -0.7378730828981975,
          null
         ],
         "y": [
          -0.1980886628426595,
          -0.17377639003835765,
          null
         ]
        },
        {
         "line": {
          "color": "Blue",
          "width": 2
         },
         "mode": "lines",
         "type": "scatter",
         "x": [
          -0.7709645487770276,
          -0.7378730828981975,
          null
         ],
         "y": [
          -0.16631189930699672,
          -0.17377639003835765,
          null
         ]
        },
        {
         "line": {
          "color": "Blue",
          "width": 1
         },
         "mode": "lines",
         "type": "scatter",
         "x": [
          0.6424500640065746,
          0.6647688735137282,
          null
         ],
         "y": [
          -0.20657397924490542,
          -0.22025851553326448,
          null
         ]
        },
        {
         "line": {
          "color": "Blue",
          "width": 1
         },
         "mode": "lines",
         "type": "scatter",
         "x": [
          0.6424500640065746,
          0.6298921751889827,
          null
         ],
         "y": [
          -0.20657397924490542,
          -0.24600281176296188,
          null
         ]
        },
        {
         "line": {
          "color": "Blue",
          "width": 1
         },
         "mode": "lines",
         "type": "scatter",
         "x": [
          0.6424500640065746,
          0.6495577761181255,
          null
         ],
         "y": [
          -0.20657397924490542,
          -0.1863455456744851,
          null
         ]
        },
        {
         "line": {
          "color": "Blue",
          "width": 2
         },
         "mode": "lines",
         "type": "scatter",
         "x": [
          0.6424500640065746,
          0.6390807309960873,
          null
         ],
         "y": [
          -0.20657397924490542,
          -0.16041437756341656,
          null
         ]
        },
        {
         "line": {
          "color": "Blue",
          "width": 1
         },
         "mode": "lines",
         "type": "scatter",
         "x": [
          0.4072351358316921,
          0.37523535893892773,
          null
         ],
         "y": [
          -0.23212516046040627,
          -0.19585107994396775,
          null
         ]
        },
        {
         "line": {
          "color": "Blue",
          "width": 1
         },
         "mode": "lines",
         "type": "scatter",
         "x": [
          0.7998103973909387,
          0.9543630216274906,
          null
         ],
         "y": [
          0.1909691043497301,
          0.2617030176876506,
          null
         ]
        },
        {
         "line": {
          "color": "Blue",
          "width": 1
         },
         "mode": "lines",
         "type": "scatter",
         "x": [
          0.9543630216274906,
          0.9275271391118343,
          null
         ],
         "y": [
          0.2617030176876506,
          0.2758743169175661,
          null
         ]
        },
        {
         "line": {
          "color": "Blue",
          "width": 1
         },
         "mode": "lines",
         "type": "scatter",
         "x": [
          -0.5723632135824303,
          -0.6099103133446572,
          null
         ],
         "y": [
          0.5070896871613674,
          0.5558973642819145,
          null
         ]
        },
        {
         "line": {
          "color": "Blue",
          "width": 1
         },
         "mode": "lines",
         "type": "scatter",
         "x": [
          0.6647688735137282,
          0.6424500640065746,
          null
         ],
         "y": [
          -0.22025851553326448,
          -0.20657397924490542,
          null
         ]
        },
        {
         "line": {
          "color": "Blue",
          "width": 1
         },
         "mode": "lines",
         "type": "scatter",
         "x": [
          0.6298921751889827,
          0.37523535893892773,
          null
         ],
         "y": [
          -0.24600281176296188,
          -0.19585107994396775,
          null
         ]
        },
        {
         "line": {
          "color": "Blue",
          "width": 1
         },
         "mode": "lines",
         "type": "scatter",
         "x": [
          0.6298921751889827,
          0.8849616433314168,
          null
         ],
         "y": [
          -0.24600281176296188,
          -0.29093288709487114,
          null
         ]
        },
        {
         "line": {
          "color": "Blue",
          "width": 1
         },
         "mode": "lines",
         "type": "scatter",
         "x": [
          0.6354634206992088,
          0.6390807309960873,
          null
         ],
         "y": [
          -0.11861168603167521,
          -0.16041437756341656,
          null
         ]
        },
        {
         "line": {
          "color": "Blue",
          "width": 1
         },
         "mode": "lines",
         "type": "scatter",
         "x": [
          0.09647659824460597,
          0.07729952643531772,
          null
         ],
         "y": [
          0.17002112082562654,
          0.22800586877246445,
          null
         ]
        },
        {
         "line": {
          "color": "Blue",
          "width": 1
         },
         "mode": "lines",
         "type": "scatter",
         "x": [
          0.07430519338893916,
          0.07729952643531772,
          null
         ],
         "y": [
          0.16672387095799987,
          0.22800586877246445,
          null
         ]
        },
        {
         "line": {
          "color": "Blue",
          "width": 1
         },
         "mode": "lines",
         "type": "scatter",
         "x": [
          -0.6318877515424707,
          -0.6355184946698897,
          null
         ],
         "y": [
          0.11489535246928222,
          0.05355667188693692,
          null
         ]
        },
        {
         "line": {
          "color": "Blue",
          "width": 1
         },
         "mode": "lines",
         "type": "scatter",
         "x": [
          -0.10106238334901295,
          -0.05155337576046852,
          null
         ],
         "y": [
          0.6099537658176706,
          0.5906982789182788,
          null
         ]
        },
        {
         "line": {
          "color": "Blue",
          "width": 1
         },
         "mode": "lines",
         "type": "scatter",
         "x": [
          0.04711738869673599,
          0.00653569783664845,
          null
         ],
         "y": [
          0.5885258299543082,
          0.5618936901220456,
          null
         ]
        }
       ],
       "layout": {
        "hovermode": "closest",
        "showlegend": false,
        "template": {
         "data": {
          "bar": [
           {
            "error_x": {
             "color": "#2a3f5f"
            },
            "error_y": {
             "color": "#2a3f5f"
            },
            "marker": {
             "line": {
              "color": "#E5ECF6",
              "width": 0.5
             }
            },
            "type": "bar"
           }
          ],
          "barpolar": [
           {
            "marker": {
             "line": {
              "color": "#E5ECF6",
              "width": 0.5
             }
            },
            "type": "barpolar"
           }
          ],
          "carpet": [
           {
            "aaxis": {
             "endlinecolor": "#2a3f5f",
             "gridcolor": "white",
             "linecolor": "white",
             "minorgridcolor": "white",
             "startlinecolor": "#2a3f5f"
            },
            "baxis": {
             "endlinecolor": "#2a3f5f",
             "gridcolor": "white",
             "linecolor": "white",
             "minorgridcolor": "white",
             "startlinecolor": "#2a3f5f"
            },
            "type": "carpet"
           }
          ],
          "choropleth": [
           {
            "colorbar": {
             "outlinewidth": 0,
             "ticks": ""
            },
            "type": "choropleth"
           }
          ],
          "contour": [
           {
            "colorbar": {
             "outlinewidth": 0,
             "ticks": ""
            },
            "colorscale": [
             [
              0,
              "#0d0887"
             ],
             [
              0.1111111111111111,
              "#46039f"
             ],
             [
              0.2222222222222222,
              "#7201a8"
             ],
             [
              0.3333333333333333,
              "#9c179e"
             ],
             [
              0.4444444444444444,
              "#bd3786"
             ],
             [
              0.5555555555555556,
              "#d8576b"
             ],
             [
              0.6666666666666666,
              "#ed7953"
             ],
             [
              0.7777777777777778,
              "#fb9f3a"
             ],
             [
              0.8888888888888888,
              "#fdca26"
             ],
             [
              1,
              "#f0f921"
             ]
            ],
            "type": "contour"
           }
          ],
          "contourcarpet": [
           {
            "colorbar": {
             "outlinewidth": 0,
             "ticks": ""
            },
            "type": "contourcarpet"
           }
          ],
          "heatmap": [
           {
            "colorbar": {
             "outlinewidth": 0,
             "ticks": ""
            },
            "colorscale": [
             [
              0,
              "#0d0887"
             ],
             [
              0.1111111111111111,
              "#46039f"
             ],
             [
              0.2222222222222222,
              "#7201a8"
             ],
             [
              0.3333333333333333,
              "#9c179e"
             ],
             [
              0.4444444444444444,
              "#bd3786"
             ],
             [
              0.5555555555555556,
              "#d8576b"
             ],
             [
              0.6666666666666666,
              "#ed7953"
             ],
             [
              0.7777777777777778,
              "#fb9f3a"
             ],
             [
              0.8888888888888888,
              "#fdca26"
             ],
             [
              1,
              "#f0f921"
             ]
            ],
            "type": "heatmap"
           }
          ],
          "heatmapgl": [
           {
            "colorbar": {
             "outlinewidth": 0,
             "ticks": ""
            },
            "colorscale": [
             [
              0,
              "#0d0887"
             ],
             [
              0.1111111111111111,
              "#46039f"
             ],
             [
              0.2222222222222222,
              "#7201a8"
             ],
             [
              0.3333333333333333,
              "#9c179e"
             ],
             [
              0.4444444444444444,
              "#bd3786"
             ],
             [
              0.5555555555555556,
              "#d8576b"
             ],
             [
              0.6666666666666666,
              "#ed7953"
             ],
             [
              0.7777777777777778,
              "#fb9f3a"
             ],
             [
              0.8888888888888888,
              "#fdca26"
             ],
             [
              1,
              "#f0f921"
             ]
            ],
            "type": "heatmapgl"
           }
          ],
          "histogram": [
           {
            "marker": {
             "colorbar": {
              "outlinewidth": 0,
              "ticks": ""
             }
            },
            "type": "histogram"
           }
          ],
          "histogram2d": [
           {
            "colorbar": {
             "outlinewidth": 0,
             "ticks": ""
            },
            "colorscale": [
             [
              0,
              "#0d0887"
             ],
             [
              0.1111111111111111,
              "#46039f"
             ],
             [
              0.2222222222222222,
              "#7201a8"
             ],
             [
              0.3333333333333333,
              "#9c179e"
             ],
             [
              0.4444444444444444,
              "#bd3786"
             ],
             [
              0.5555555555555556,
              "#d8576b"
             ],
             [
              0.6666666666666666,
              "#ed7953"
             ],
             [
              0.7777777777777778,
              "#fb9f3a"
             ],
             [
              0.8888888888888888,
              "#fdca26"
             ],
             [
              1,
              "#f0f921"
             ]
            ],
            "type": "histogram2d"
           }
          ],
          "histogram2dcontour": [
           {
            "colorbar": {
             "outlinewidth": 0,
             "ticks": ""
            },
            "colorscale": [
             [
              0,
              "#0d0887"
             ],
             [
              0.1111111111111111,
              "#46039f"
             ],
             [
              0.2222222222222222,
              "#7201a8"
             ],
             [
              0.3333333333333333,
              "#9c179e"
             ],
             [
              0.4444444444444444,
              "#bd3786"
             ],
             [
              0.5555555555555556,
              "#d8576b"
             ],
             [
              0.6666666666666666,
              "#ed7953"
             ],
             [
              0.7777777777777778,
              "#fb9f3a"
             ],
             [
              0.8888888888888888,
              "#fdca26"
             ],
             [
              1,
              "#f0f921"
             ]
            ],
            "type": "histogram2dcontour"
           }
          ],
          "mesh3d": [
           {
            "colorbar": {
             "outlinewidth": 0,
             "ticks": ""
            },
            "type": "mesh3d"
           }
          ],
          "parcoords": [
           {
            "line": {
             "colorbar": {
              "outlinewidth": 0,
              "ticks": ""
             }
            },
            "type": "parcoords"
           }
          ],
          "pie": [
           {
            "automargin": true,
            "type": "pie"
           }
          ],
          "scatter": [
           {
            "marker": {
             "colorbar": {
              "outlinewidth": 0,
              "ticks": ""
             }
            },
            "type": "scatter"
           }
          ],
          "scatter3d": [
           {
            "line": {
             "colorbar": {
              "outlinewidth": 0,
              "ticks": ""
             }
            },
            "marker": {
             "colorbar": {
              "outlinewidth": 0,
              "ticks": ""
             }
            },
            "type": "scatter3d"
           }
          ],
          "scattercarpet": [
           {
            "marker": {
             "colorbar": {
              "outlinewidth": 0,
              "ticks": ""
             }
            },
            "type": "scattercarpet"
           }
          ],
          "scattergeo": [
           {
            "marker": {
             "colorbar": {
              "outlinewidth": 0,
              "ticks": ""
             }
            },
            "type": "scattergeo"
           }
          ],
          "scattergl": [
           {
            "marker": {
             "colorbar": {
              "outlinewidth": 0,
              "ticks": ""
             }
            },
            "type": "scattergl"
           }
          ],
          "scattermapbox": [
           {
            "marker": {
             "colorbar": {
              "outlinewidth": 0,
              "ticks": ""
             }
            },
            "type": "scattermapbox"
           }
          ],
          "scatterpolar": [
           {
            "marker": {
             "colorbar": {
              "outlinewidth": 0,
              "ticks": ""
             }
            },
            "type": "scatterpolar"
           }
          ],
          "scatterpolargl": [
           {
            "marker": {
             "colorbar": {
              "outlinewidth": 0,
              "ticks": ""
             }
            },
            "type": "scatterpolargl"
           }
          ],
          "scatterternary": [
           {
            "marker": {
             "colorbar": {
              "outlinewidth": 0,
              "ticks": ""
             }
            },
            "type": "scatterternary"
           }
          ],
          "surface": [
           {
            "colorbar": {
             "outlinewidth": 0,
             "ticks": ""
            },
            "colorscale": [
             [
              0,
              "#0d0887"
             ],
             [
              0.1111111111111111,
              "#46039f"
             ],
             [
              0.2222222222222222,
              "#7201a8"
             ],
             [
              0.3333333333333333,
              "#9c179e"
             ],
             [
              0.4444444444444444,
              "#bd3786"
             ],
             [
              0.5555555555555556,
              "#d8576b"
             ],
             [
              0.6666666666666666,
              "#ed7953"
             ],
             [
              0.7777777777777778,
              "#fb9f3a"
             ],
             [
              0.8888888888888888,
              "#fdca26"
             ],
             [
              1,
              "#f0f921"
             ]
            ],
            "type": "surface"
           }
          ],
          "table": [
           {
            "cells": {
             "fill": {
              "color": "#EBF0F8"
             },
             "line": {
              "color": "white"
             }
            },
            "header": {
             "fill": {
              "color": "#C8D4E3"
             },
             "line": {
              "color": "white"
             }
            },
            "type": "table"
           }
          ]
         },
         "layout": {
          "annotationdefaults": {
           "arrowcolor": "#2a3f5f",
           "arrowhead": 0,
           "arrowwidth": 1
          },
          "coloraxis": {
           "colorbar": {
            "outlinewidth": 0,
            "ticks": ""
           }
          },
          "colorscale": {
           "diverging": [
            [
             0,
             "#8e0152"
            ],
            [
             0.1,
             "#c51b7d"
            ],
            [
             0.2,
             "#de77ae"
            ],
            [
             0.3,
             "#f1b6da"
            ],
            [
             0.4,
             "#fde0ef"
            ],
            [
             0.5,
             "#f7f7f7"
            ],
            [
             0.6,
             "#e6f5d0"
            ],
            [
             0.7,
             "#b8e186"
            ],
            [
             0.8,
             "#7fbc41"
            ],
            [
             0.9,
             "#4d9221"
            ],
            [
             1,
             "#276419"
            ]
           ],
           "sequential": [
            [
             0,
             "#0d0887"
            ],
            [
             0.1111111111111111,
             "#46039f"
            ],
            [
             0.2222222222222222,
             "#7201a8"
            ],
            [
             0.3333333333333333,
             "#9c179e"
            ],
            [
             0.4444444444444444,
             "#bd3786"
            ],
            [
             0.5555555555555556,
             "#d8576b"
            ],
            [
             0.6666666666666666,
             "#ed7953"
            ],
            [
             0.7777777777777778,
             "#fb9f3a"
            ],
            [
             0.8888888888888888,
             "#fdca26"
            ],
            [
             1,
             "#f0f921"
            ]
           ],
           "sequentialminus": [
            [
             0,
             "#0d0887"
            ],
            [
             0.1111111111111111,
             "#46039f"
            ],
            [
             0.2222222222222222,
             "#7201a8"
            ],
            [
             0.3333333333333333,
             "#9c179e"
            ],
            [
             0.4444444444444444,
             "#bd3786"
            ],
            [
             0.5555555555555556,
             "#d8576b"
            ],
            [
             0.6666666666666666,
             "#ed7953"
            ],
            [
             0.7777777777777778,
             "#fb9f3a"
            ],
            [
             0.8888888888888888,
             "#fdca26"
            ],
            [
             1,
             "#f0f921"
            ]
           ]
          },
          "colorway": [
           "#636efa",
           "#EF553B",
           "#00cc96",
           "#ab63fa",
           "#FFA15A",
           "#19d3f3",
           "#FF6692",
           "#B6E880",
           "#FF97FF",
           "#FECB52"
          ],
          "font": {
           "color": "#2a3f5f"
          },
          "geo": {
           "bgcolor": "white",
           "lakecolor": "white",
           "landcolor": "#E5ECF6",
           "showlakes": true,
           "showland": true,
           "subunitcolor": "white"
          },
          "hoverlabel": {
           "align": "left"
          },
          "hovermode": "closest",
          "mapbox": {
           "style": "light"
          },
          "paper_bgcolor": "white",
          "plot_bgcolor": "#E5ECF6",
          "polar": {
           "angularaxis": {
            "gridcolor": "white",
            "linecolor": "white",
            "ticks": ""
           },
           "bgcolor": "#E5ECF6",
           "radialaxis": {
            "gridcolor": "white",
            "linecolor": "white",
            "ticks": ""
           }
          },
          "scene": {
           "xaxis": {
            "backgroundcolor": "#E5ECF6",
            "gridcolor": "white",
            "gridwidth": 2,
            "linecolor": "white",
            "showbackground": true,
            "ticks": "",
            "zerolinecolor": "white"
           },
           "yaxis": {
            "backgroundcolor": "#E5ECF6",
            "gridcolor": "white",
            "gridwidth": 2,
            "linecolor": "white",
            "showbackground": true,
            "ticks": "",
            "zerolinecolor": "white"
           },
           "zaxis": {
            "backgroundcolor": "#E5ECF6",
            "gridcolor": "white",
            "gridwidth": 2,
            "linecolor": "white",
            "showbackground": true,
            "ticks": "",
            "zerolinecolor": "white"
           }
          },
          "shapedefaults": {
           "line": {
            "color": "#2a3f5f"
           }
          },
          "ternary": {
           "aaxis": {
            "gridcolor": "white",
            "linecolor": "white",
            "ticks": ""
           },
           "baxis": {
            "gridcolor": "white",
            "linecolor": "white",
            "ticks": ""
           },
           "bgcolor": "#E5ECF6",
           "caxis": {
            "gridcolor": "white",
            "linecolor": "white",
            "ticks": ""
           }
          },
          "title": {
           "x": 0.05
          },
          "xaxis": {
           "automargin": true,
           "gridcolor": "white",
           "linecolor": "white",
           "ticks": "",
           "title": {
            "standoff": 15
           },
           "zerolinecolor": "white",
           "zerolinewidth": 2
          },
          "yaxis": {
           "automargin": true,
           "gridcolor": "white",
           "linecolor": "white",
           "ticks": "",
           "title": {
            "standoff": 15
           },
           "zerolinecolor": "white",
           "zerolinewidth": 2
          }
         }
        },
        "title": {
         "text": "Network of Trips"
        }
       }
      },
      "text/html": [
       "<div>\n",
       "        \n",
       "        \n",
       "            <div id=\"ae0be508-2b07-4487-be75-c9990460d6cc\" class=\"plotly-graph-div\" style=\"height:525px; width:100%;\"></div>\n",
       "            <script type=\"text/javascript\">\n",
       "                require([\"plotly\"], function(Plotly) {\n",
       "                    window.PLOTLYENV=window.PLOTLYENV || {};\n",
       "                    \n",
       "                if (document.getElementById(\"ae0be508-2b07-4487-be75-c9990460d6cc\")) {\n",
       "                    Plotly.newPlot(\n",
       "                        'ae0be508-2b07-4487-be75-c9990460d6cc',\n",
       "                        [{\"hoverinfo\": \"text\", \"hovertext\": [\"Fort Pierce\", \"West Palm Beach\", \"Palm Beach\", \"Cary\", \"Morrisville\", \"Jamaica\", \"New York\", \"Queens\", \"Elmhurst\", \"Midtown\", \"East Harlem\", \"NoMad\", \"Flatiron District\", \"Midtown East\", \"Hudson Square\", \"Lower Manhattan\", \"Hell's Kitchen\", \"Queens County\", \"Downtown\", \"Gulfton\", \"Eagan Park\", \"Jamestown Court\", \"Durham\", \"Farmington Woods\", \"Whitebridge\", \"Lake Wellingborough\", \"Raleigh\", \"Fayetteville Street\", \"Umstead\", \"Hazelwood\", \"Westpark Place\", \"Fairmont\", \"Meredith Townes\", \"Leesville Hollow\", \"Apex\", \"Chapel Hill\", \"Northwoods\", \"Williamsburg Manor\", \"Macgregor Downs\", \"Edgehill Farms\", \"Tanglewood\", \"Preston\", \"Eastgate\", \"Walnut Terrace\", \"East Elmhurst\", \"Jackson Heights\", \"Midtown West\", \"Long Island City\", \"Heritage Pines\", \"Waverly Place\", \"Wayne Ridge\", \"Depot Historic District\", \"East Austin\", \"West University\", \"South Congress\", \"Arts District\", \"The Drag\", \"Congress Ave District\", \"Red River District\", \"Convention Center District\", \"North Austin\", \"Georgian Acres\", \"Coxville\", \"Austin\", \"Katy\", \"Houston\", \"Alief\", \"Sharpstown\", \"Sugar Land\", \"Galveston\", \"Port Bolivar\", \"Washington Avenue\", \"Briar Meadow\", \"Greater Greenspoint\", \"Latta\", \"Jacksonville\", \"Kissimmee\", \"Couples Glen\", \"Isles of Buena Vista\", \"Orlando\", \"Vista East\", \"Sand Lake Commons\", \"Sky Lake\", \"Daytona Beach\", \"Ridgeland\", \"Florence\", \"Meredith\", \"Cedar Hill\", \"Holly Springs\", \"Harden Place\", \"Burtrose\", \"Parkway\", \"Mcvan\", \"Capitol One\", \"University District\", \"Seattle\", \"Redmond\", \"Bellevue\", \"San Francisco\", \"Palo Alto\", \"Sunnyvale\", \"Newark\", \"Menlo Park\", \"Old City\", \"Parkway Museums\", \"Hog Island\", \"Savon Height\", \"Kildaire Farms\", \"Kilarney Woods\", \"Townes at Everett Crossing\", \"Chessington\", \"Huntington Woods\", \"Weston\", \"Seaport\", \"Gramercy-Flatiron\", \"Medical Centre\", \"Tudor City\", \"Rose Hill\", \"Soho\", \"Tribeca\", \"Financial District\", \"Kips Bay\", \"Oakland\", \"Emeryville\", \"Berkeley\", \"Unknown Location\", \"Bay Farm Island\", \"Kenner\", \"New Orleans\", \"CBD\", \"Lower Garden District\", \"Lakeview\", \"Storyville\", \"Faubourg Marigny\", \"Metairie\", \"Bywater\", \"Chalmette\", \"Arabi\", \"Marigny\", \"Covington\", \"Mandeville\", \"Summerwinds\", \"Pontchartrain Beach\", \"St Thomas\", \"Banner Elk\", \"Elk Park\", \"Newland\", \"Boone\", \"Stonewater\", \"Lexington Park at Amberly\", \"Arlington Park at Amberly\", \"Arlington\", \"Washington\", \"Kalorama Triangle\", \"K Street\", \"West End\", \"Northwest Rectangle\", \"Connecticut Avenue\", \"Columbia Heights\", \"Wake Forest\", \"SOMISSPO\", \"French Quarter\", \"West Berkeley\", \"North Berkeley Hills\", \"Southside\", \"San Jose\", \"Eagle Rock\", \"Winston Salem\", \"Asheville\", \"Topton\", \"Hayesville\", \"Bryson City\", \"Almond\", \"Mebane\", \"Santa Clara\", \"Agnew\", \"Cory\", \"Renaissance\", \"Central\", \"NOMA\", \"Sunnyside\", \"Ingleside\", \"Potrero Flats\", \"Tenderloin\", \"College Avenue\", \"South\", \"Southwest Berkeley\", \"South Berkeley\", \"Mountain View\", \"El Cerrito\", \"Krendle Woods\", \"Wake Co.\", \"Fuquay-Varina\"], \"marker\": {\"color\": [1, 1, 0, 12, 3, 1, 4, 0, 1, 9, 1, 0, 1, 1, 2, 1, 1, 0, 8, 1, 1, 0, 3, 2, 21, 1, 2, 3, 0, 3, 2, 1, 2, 0, 3, 2, 3, 0, 0, 3, 3, 2, 1, 0, 2, 1, 0, 1, 2, 2, 1, 0, 1, 2, 3, 0, 4, 1, 1, 1, 1, 1, 1, 1, 1, 2, 0, 2, 1, 2, 1, 1, 1, 0, 1, 2, 2, 2, 0, 1, 0, 1, 1, 1, 1, 1, 1, 0, 1, 0, 1, 1, 1, 2, 1, 1, 1, 1, 4, 2, 1, 2, 3, 2, 0, 0, 3, 0, 2, 1, 1, 1, 0, 1, 0, 1, 0, 1, 1, 1, 1, 0, 4, 3, 7, 1, 0, 2, 4, 4, 1, 1, 2, 0, 2, 0, 1, 1, 1, 1, 1, 1, 1, 1, 3, 1, 1, 2, 1, 2, 1, 1, 1, 3, 1, 1, 0, 1, 1, 1, 2, 0, 4, 1, 3, 2, 1, 1, 2, 2, 1, 2, 1, 1, 1, 2, 1, 1, 4, 1, 1, 1, 0, 1, 1, 2, 0, 1, 1, 1, 1, 1, 1], \"colorbar\": {\"thickness\": 10, \"title\": {\"side\": \"right\", \"text\": \"No. of unique locations travelled to or from\"}, \"xanchor\": \"left\"}, \"colorscale\": [[0.0, \"rgb(165,0,38)\"], [0.1, \"rgb(215,48,39)\"], [0.2, \"rgb(244,109,67)\"], [0.3, \"rgb(253,174,97)\"], [0.4, \"rgb(254,224,144)\"], [0.5, \"rgb(255,255,191)\"], [0.6, \"rgb(224,243,248)\"], [0.7, \"rgb(171,217,233)\"], [0.8, \"rgb(116,173,209)\"], [0.9, \"rgb(69,117,180)\"], [1.0, \"rgb(49,54,149)\"]], \"reversescale\": true, \"showscale\": true, \"size\": 5}, \"mode\": \"markers\", \"type\": \"scatter\", \"x\": [-0.08981067670826734, -0.11499243958568889, -0.15912891195666076, 0.00653569783664845, -0.05155337576046852, 0.12320812507506151, 0.15193413882703968, -0.6943968734446403, 0.15803882568353286, -0.3339307070576863, 0.39119676017224597, 0.4068487788436807, -0.35535445485346345, -0.3726784531334068, -0.2940525003195566, -0.27170331838139444, -0.3308759945724195, 0.9999999999999999, 0.37523535893892773, 0.41384451847307707, 0.47987335516736856, 0.6484854010156472, -0.006294990140891957, -0.672326983134384, -0.6355184946698897, -0.6743224747132271, -0.031225964610857616, -0.18850566763108087, 0.49479132624465005, -0.5087013121108135, -0.571708532269586, -0.04521495824561943, -0.05826976793071641, -0.11344572747421838, 0.04418103557731134, -0.018619617067536835, -0.6303002646450261, -0.9936320312829755, -0.47446885374105346, -0.6249962248204908, -0.6445562734527357, -0.6097253281859943, 0.7656546939286556, 0.9574426526345866, 0.18747084038018255, 0.2182981656262756, -0.8347958209770373, 0.09767389312046558, -0.654352839565597, -0.5525563337442222, -0.6262458747579543, -0.8674512480363487, 0.3379089467899003, 0.3043971508597925, 0.19270310519524497, 0.1349866375151945, 0.28396794357800365, 0.41369328467061434, 0.42788591905969225, 0.31211770793194754, 0.1860576356722349, 0.2605770792026613, 0.250779036487823, -0.4281333462080918, -0.40433550425243003, -0.3732863040165991, -0.8208351366503152, -0.36441214803730937, -0.3789204981426731, -0.361684470241078, -0.3654548187073246, -0.3287302390186808, -0.3759181235554326, -0.947814944303587, 0.17162915457282368, 0.13443111033827412, 0.2334089869526381, -0.05058046473151391, 0.875646469761618, 0.26920982893597845, -0.9760046669556657, -0.217668724194539, -0.19424529774564986, 0.18298362234470514, 0.027252848964473508, 0.007995403923307151, 0.6669263227960512, 0.9407050733164788, 0.053562302103836786, -0.01925259706679653, -0.6563441435197541, -0.6761300732775591, -0.562683228061876, -0.5878636512797422, -0.6215643836147127, -0.5336369773232554, -0.554043859522779, -0.5742620852025779, 0.09108257637435149, 0.16063410934214448, 0.17102630298095595, 0.1296910878899934, 0.12489833805469243, 0.7473349073463132, 0.7750211043841024, 0.8757944123177239, -0.6779738083414828, -0.7802746231896529, -0.7050728922568569, -0.5084142647390143, -0.6348980136925776, -0.29369975641351054, -0.35639808630724534, 0.057076871173903865, 0.056203790376571104, 0.7849753189450722, 0.9575968837381842, 0.36841946443257373, 0.47106405004086577, 0.5954425516422513, 0.7272500915751805, 0.8805764195170631, 0.02293760603570412, 0.06296737885084382, 0.07729952643531772, -0.07780514594252302, 0.6185677915887247, 0.4132025725784307, 0.393620771298509, 0.4197067713405106, 0.1677894728071682, 0.2268846091412453, 0.22962354737015284, 0.28262255891920907, 0.4215609254626437, 0.8599676664867721, 0.4471023033219302, 0.4550865663637871, 0.18394095226627913, 0.33792714051423434, 0.38243349598570825, -0.6109934751082702, 0.334424878430943, 0.3509935441280999, -0.08989122615934875, -0.12712275093872621, -0.05363971760901022, -0.04466710711642731, -0.6360599796505155, -0.5989751712236193, -0.5723080930916794, -0.8528169773476151, -0.8086442017948446, 0.33808179177310443, 0.3165494290652029, 0.42573525285743896, 0.5164414543211586, 0.31313506763831295, 0.3061961646502424, 0.02385144654197455, -0.6099103133446572, -0.7208685162502674, 0.6495577761181255, 0.6722544332350213, 0.6390807309960873, 0.1051586301568019, 0.022706765738808313, -0.07940958320806038, -0.04963978980323877, -0.15257988854626547, -0.1854407440298569, -0.10995182927895984, -0.15602133707393775, 0.045378673122160165, 0.11910112269228844, -0.7378730828981975, -0.7227400406965296, -0.7709645487770276, 0.6424500640065746, 0.4072351358316921, 0.7998103973909387, 0.9543630216274906, 0.9275271391118343, -0.5723632135824303, 0.6647688735137282, 0.6298921751889827, 0.8849616433314168, 0.6354634206992088, 0.09647659824460597, 0.07430519338893916, -0.6318877515424707, -0.10106238334901295, 0.04711738869673599], \"y\": [-0.5564264468809463, -0.6908587130708451, -0.9602126748482641, 0.5618936901220456, 0.5906982789182788, -0.16221765605313743, -0.15136982741405522, -0.5506483019279751, -0.18616876485537423, -0.061513035713738215, -0.703911341669173, -0.7400884769431613, -0.10061505613659436, -0.08122806742922258, -0.044610380609646366, -0.07489871359535938, -0.02491226091978726, 0.24836726275172594, -0.19585107994396775, -0.17200915111335868, 0.6114056197800606, 0.8472702833346408, 0.5463250420327965, 0.034651636852145895, 0.05355667188693692, 0.07542388763098604, 0.5736259097163621, -0.2360768732649553, -0.8154392737919905, -0.37513003041674897, -0.16198790397928886, -0.5155334200706347, -0.6616752436592293, -0.8644697005086622, 0.5384047263366235, 0.5953727704338322, -0.004546320453612601, 0.18226518225643595, 0.8076300740383742, 0.027512437374537645, 0.019698499496178523, -0.05719676393023385, -0.013386928947961745, -0.0206853477030448, -0.13467804708684897, -0.11860850522747046, -0.45934920273038377, -0.1884523433308696, 0.048191331185831986, 0.42991437533202925, 0.07878934151822604, 0.48190607914315076, -0.4392047077762022, -0.39928437849492177, -0.5978278568260174, -0.896602010607209, -0.39554164155812066, -0.19767307535911371, -0.21319692854129899, -0.44896719954498704, -0.38410951249427094, -0.43674694669856345, -0.4179274046872948, -0.7057990421605056, -0.6639011423483849, -0.6312750045931593, 0.6476970269857418, -0.036852740879992, -0.6766439288593462, -0.5792458471247766, -0.548408259738955, -0.1008386957039631, -0.05536380153161487, 0.4082272787472832, 0.5353857193860533, 0.5663285114378721, 0.46684944255585675, -0.3222903128760568, -0.41133171181790834, 0.3983280155711668, -0.23345526171618958, -0.6751068776387363, -0.6750527012123818, 0.5579104623103853, 0.669326215476247, 0.6193807558005415, 0.29486173489413436, 0.40863697864068904, 0.5679069595263282, -0.8327466460008415, 0.10655425837525127, 0.09507990900014099, -0.5022204671419498, -0.4967686017208657, -0.5222534659232466, -0.6863155356817474, -0.7240153785548754, -0.7145539094061756, 0.21481322785005708, 0.05190673141557883, 0.07474973951779565, 0.14390457044247493, 0.12375925669501651, 0.29463036795975933, 0.7120259758444962, -0.08776320413754238, -0.07430607950066163, -0.6262823052968136, -0.2867688118397396, 0.10407938504399444, 0.09726986464869468, -0.727545186978445, -0.9119393562318372, 0.9300815009438165, 0.9944139065889939, -0.14361684707402098, -0.18522161242831603, 0.31386934319661336, 0.3626793762648869, 0.4276719695065761, 0.5057051532819287, 0.6032251083344231, 0.37654083897519786, 0.2773986693347045, 0.22800586877246445, 0.6331670702503354, -0.6933743524000439, 0.5988563372231029, 0.6186325304910114, -0.46149894413075426, -0.7305334696894542, -0.8418663379763508, -0.8124759117092945, -0.9430145104388807, 0.6248187874555992, -0.5170656068255228, 0.6686719138913689, 0.6411823299586208, -0.7048927681260831, 0.5888540846479634, 0.6380830935898356, 0.09478006311997292, -0.3617836190394759, -0.37708867287801606, 0.6473738382995519, 0.6852801160266644, 0.6600590109980251, 0.6072001475088125, -0.08338143408407235, -0.053683979406032534, -0.07746287713415992, -0.29923020850182713, -0.28276318984819504, -0.19129089820430067, -0.2093353387770269, 0.72791377888386, 0.8964628255956419, -0.22946208977224003, -0.17793757896667, 0.6064890698772241, 0.5558973642819145, 0.6883775124386619, -0.1863455456744851, -0.13502036878389873, -0.16041437756341656, 0.23387315809621517, 0.5212791238210516, 0.5053311592948502, 0.5261974905195866, 0.4725803254239762, 0.4426912889997597, 0.5175385065429913, 0.5231559962403554, 0.6072986339230855, 0.18241547817228498, -0.17377639003835765, -0.1980886628426595, -0.16631189930699672, -0.20657397924490542, -0.23212516046040627, 0.1909691043497301, 0.2617030176876506, 0.2758743169175661, 0.5070896871613674, -0.22025851553326448, -0.24600281176296188, -0.29093288709487114, -0.11861168603167521, 0.17002112082562654, 0.16672387095799987, 0.11489535246928222, 0.6099537658176706, 0.5885258299543082]}, {\"line\": {\"color\": \"Blue\", \"width\": 1}, \"mode\": \"lines\", \"type\": \"scatter\", \"x\": [-0.08981067670826734, -0.11499243958568889, null], \"y\": [-0.5564264468809463, -0.6908587130708451, null]}, {\"line\": {\"color\": \"Blue\", \"width\": 1}, \"mode\": \"lines\", \"type\": \"scatter\", \"x\": [-0.11499243958568889, -0.15912891195666076, null], \"y\": [-0.6908587130708451, -0.9602126748482641, null]}, {\"line\": {\"color\": \"Blue\", \"width\": 67}, \"mode\": \"lines\", \"type\": \"scatter\", \"x\": [0.00653569783664845, -0.05155337576046852, null], \"y\": [0.5618936901220456, 0.5906982789182788, null]}, {\"line\": {\"color\": \"Blue\", \"width\": 36}, \"mode\": \"lines\", \"type\": \"scatter\", \"x\": [0.00653569783664845, -0.006294990140891957, null], \"y\": [0.5618936901220456, 0.5463250420327965, null]}, {\"line\": {\"color\": \"Blue\", \"width\": 23}, \"mode\": \"lines\", \"type\": \"scatter\", \"x\": [0.00653569783664845, -0.031225964610857616, null], \"y\": [0.5618936901220456, 0.5736259097163621, null]}, {\"line\": {\"color\": \"Blue\", \"width\": 14}, \"mode\": \"lines\", \"type\": \"scatter\", \"x\": [0.00653569783664845, 0.04418103557731134, null], \"y\": [0.5618936901220456, 0.5384047263366235, null]}, {\"line\": {\"color\": \"Blue\", \"width\": 1}, \"mode\": \"lines\", \"type\": \"scatter\", \"x\": [0.00653569783664845, -0.018619617067536835, null], \"y\": [0.5618936901220456, 0.5953727704338322, null]}, {\"line\": {\"color\": \"Blue\", \"width\": 1}, \"mode\": \"lines\", \"type\": \"scatter\", \"x\": [0.00653569783664845, 0.17162915457282368, null], \"y\": [0.5618936901220456, 0.5353857193860533, null]}, {\"line\": {\"color\": \"Blue\", \"width\": 1}, \"mode\": \"lines\", \"type\": \"scatter\", \"x\": [0.00653569783664845, 0.053562302103836786, null], \"y\": [0.5618936901220456, 0.5679069595263282, null]}, {\"line\": {\"color\": \"Blue\", \"width\": 1}, \"mode\": \"lines\", \"type\": \"scatter\", \"x\": [0.00653569783664845, 0.02385144654197455, null], \"y\": [0.5618936901220456, 0.6064890698772241, null]}, {\"line\": {\"color\": \"Blue\", \"width\": 1}, \"mode\": \"lines\", \"type\": \"scatter\", \"x\": [0.00653569783664845, -0.07940958320806038, null], \"y\": [0.5618936901220456, 0.5053311592948502, null]}, {\"line\": {\"color\": \"Blue\", \"width\": 1}, \"mode\": \"lines\", \"type\": \"scatter\", \"x\": [0.00653569783664845, -0.07780514594252302, null], \"y\": [0.5618936901220456, 0.6331670702503354, null]}, {\"line\": {\"color\": \"Blue\", \"width\": 1}, \"mode\": \"lines\", \"type\": \"scatter\", \"x\": [0.00653569783664845, -0.10106238334901295, null], \"y\": [0.5618936901220456, 0.6099537658176706, null]}, {\"line\": {\"color\": \"Blue\", \"width\": 1}, \"mode\": \"lines\", \"type\": \"scatter\", \"x\": [0.00653569783664845, 0.04711738869673599, null], \"y\": [0.5618936901220456, 0.5885258299543082, null]}, {\"line\": {\"color\": \"Blue\", \"width\": 75}, \"mode\": \"lines\", \"type\": \"scatter\", \"x\": [-0.05155337576046852, 0.00653569783664845, null], \"y\": [0.5906982789182788, 0.5618936901220456, null]}, {\"line\": {\"color\": \"Blue\", \"width\": 4}, \"mode\": \"lines\", \"type\": \"scatter\", \"x\": [-0.05155337576046852, -0.031225964610857616, null], \"y\": [0.5906982789182788, 0.5736259097163621, null]}, {\"line\": {\"color\": \"Blue\", \"width\": 1}, \"mode\": \"lines\", \"type\": \"scatter\", \"x\": [-0.05155337576046852, -0.08989122615934875, null], \"y\": [0.5906982789182788, 0.6473738382995519, null]}, {\"line\": {\"color\": \"Blue\", \"width\": 2}, \"mode\": \"lines\", \"type\": \"scatter\", \"x\": [0.12320812507506151, 0.15193413882703968, null], \"y\": [-0.16221765605313743, -0.15136982741405522, null]}, {\"line\": {\"color\": \"Blue\", \"width\": 1}, \"mode\": \"lines\", \"type\": \"scatter\", \"x\": [0.15193413882703968, -0.6943968734446403, null], \"y\": [-0.15136982741405522, -0.5506483019279751, null]}, {\"line\": {\"color\": \"Blue\", \"width\": 1}, \"mode\": \"lines\", \"type\": \"scatter\", \"x\": [0.15193413882703968, 0.9999999999999999, null], \"y\": [-0.15136982741405522, 0.24836726275172594, null]}, {\"line\": {\"color\": \"Blue\", \"width\": 1}, \"mode\": \"lines\", \"type\": \"scatter\", \"x\": [0.15193413882703968, 0.09767389312046558, null], \"y\": [-0.15136982741405522, -0.1884523433308696, null]}, {\"line\": {\"color\": \"Blue\", \"width\": 1}, \"mode\": \"lines\", \"type\": \"scatter\", \"x\": [0.15193413882703968, 0.12320812507506151, null], \"y\": [-0.15136982741405522, -0.16221765605313743, null]}, {\"line\": {\"color\": \"Blue\", \"width\": 1}, \"mode\": \"lines\", \"type\": \"scatter\", \"x\": [0.15803882568353286, 0.15193413882703968, null], \"y\": [-0.18616876485537423, -0.15136982741405522, null]}, {\"line\": {\"color\": \"Blue\", \"width\": 1}, \"mode\": \"lines\", \"type\": \"scatter\", \"x\": [-0.3339307070576863, 0.39119676017224597, null], \"y\": [-0.061513035713738215, -0.703911341669173, null]}, {\"line\": {\"color\": \"Blue\", \"width\": 1}, \"mode\": \"lines\", \"type\": \"scatter\", \"x\": [-0.3339307070576863, -0.3726784531334068, null], \"y\": [-0.061513035713738215, -0.08122806742922258, null]}, {\"line\": {\"color\": \"Blue\", \"width\": 1}, \"mode\": \"lines\", \"type\": \"scatter\", \"x\": [-0.3339307070576863, -0.2940525003195566, null], \"y\": [-0.061513035713738215, -0.044610380609646366, null]}, {\"line\": {\"color\": \"Blue\", \"width\": 1}, \"mode\": \"lines\", \"type\": \"scatter\", \"x\": [-0.3339307070576863, -0.8347958209770373, null], \"y\": [-0.061513035713738215, -0.45934920273038377, null]}, {\"line\": {\"color\": \"Blue\", \"width\": 1}, \"mode\": \"lines\", \"type\": \"scatter\", \"x\": [-0.3339307070576863, -0.8208351366503152, null], \"y\": [-0.061513035713738215, 0.6476970269857418, null]}, {\"line\": {\"color\": \"Blue\", \"width\": 4}, \"mode\": \"lines\", \"type\": \"scatter\", \"x\": [-0.3339307070576863, -0.36441214803730937, null], \"y\": [-0.061513035713738215, -0.036852740879992, null]}, {\"line\": {\"color\": \"Blue\", \"width\": 1}, \"mode\": \"lines\", \"type\": \"scatter\", \"x\": [-0.3339307070576863, -0.3287302390186808, null], \"y\": [-0.061513035713738215, -0.1008386957039631, null]}, {\"line\": {\"color\": \"Blue\", \"width\": 1}, \"mode\": \"lines\", \"type\": \"scatter\", \"x\": [-0.3339307070576863, 0.37523535893892773, null], \"y\": [-0.061513035713738215, -0.19585107994396775, null]}, {\"line\": {\"color\": \"Blue\", \"width\": 1}, \"mode\": \"lines\", \"type\": \"scatter\", \"x\": [-0.3339307070576863, -0.947814944303587, null], \"y\": [-0.061513035713738215, 0.4082272787472832, null]}, {\"line\": {\"color\": \"Blue\", \"width\": 1}, \"mode\": \"lines\", \"type\": \"scatter\", \"x\": [0.39119676017224597, 0.4068487788436807, null], \"y\": [-0.703911341669173, -0.7400884769431613, null]}, {\"line\": {\"color\": \"Blue\", \"width\": 1}, \"mode\": \"lines\", \"type\": \"scatter\", \"x\": [-0.35535445485346345, -0.3339307070576863, null], \"y\": [-0.10061505613659436, -0.061513035713738215, null]}, {\"line\": {\"color\": \"Blue\", \"width\": 1}, \"mode\": \"lines\", \"type\": \"scatter\", \"x\": [-0.3726784531334068, -0.3339307070576863, null], \"y\": [-0.08122806742922258, -0.061513035713738215, null]}, {\"line\": {\"color\": \"Blue\", \"width\": 1}, \"mode\": \"lines\", \"type\": \"scatter\", \"x\": [-0.2940525003195566, -0.27170331838139444, null], \"y\": [-0.044610380609646366, -0.07489871359535938, null]}, {\"line\": {\"color\": \"Blue\", \"width\": 1}, \"mode\": \"lines\", \"type\": \"scatter\", \"x\": [-0.2940525003195566, -0.3308759945724195, null], \"y\": [-0.044610380609646366, -0.02491226091978726, null]}, {\"line\": {\"color\": \"Blue\", \"width\": 1}, \"mode\": \"lines\", \"type\": \"scatter\", \"x\": [-0.27170331838139444, -0.2940525003195566, null], \"y\": [-0.07489871359535938, -0.044610380609646366, null]}, {\"line\": {\"color\": \"Blue\", \"width\": 1}, \"mode\": \"lines\", \"type\": \"scatter\", \"x\": [-0.3308759945724195, -0.3339307070576863, null], \"y\": [-0.02491226091978726, -0.061513035713738215, null]}, {\"line\": {\"color\": \"Blue\", \"width\": 1}, \"mode\": \"lines\", \"type\": \"scatter\", \"x\": [0.37523535893892773, 0.41384451847307707, null], \"y\": [-0.19585107994396775, -0.17200915111335868, null]}, {\"line\": {\"color\": \"Blue\", \"width\": 1}, \"mode\": \"lines\", \"type\": \"scatter\", \"x\": [0.37523535893892773, 0.42788591905969225, null], \"y\": [-0.19585107994396775, -0.21319692854129899, null]}, {\"line\": {\"color\": \"Blue\", \"width\": 2}, \"mode\": \"lines\", \"type\": \"scatter\", \"x\": [0.37523535893892773, 0.28396794357800365, null], \"y\": [-0.19585107994396775, -0.39554164155812066, null]}, {\"line\": {\"color\": \"Blue\", \"width\": 1}, \"mode\": \"lines\", \"type\": \"scatter\", \"x\": [0.37523535893892773, -0.3339307070576863, null], \"y\": [-0.19585107994396775, -0.061513035713738215, null]}, {\"line\": {\"color\": \"Blue\", \"width\": 1}, \"mode\": \"lines\", \"type\": \"scatter\", \"x\": [0.37523535893892773, 0.6185677915887247, null], \"y\": [-0.19585107994396775, -0.6933743524000439, null]}, {\"line\": {\"color\": \"Blue\", \"width\": 1}, \"mode\": \"lines\", \"type\": \"scatter\", \"x\": [0.37523535893892773, 0.6495577761181255, null], \"y\": [-0.19585107994396775, -0.1863455456744851, null]}, {\"line\": {\"color\": \"Blue\", \"width\": 1}, \"mode\": \"lines\", \"type\": \"scatter\", \"x\": [0.37523535893892773, 0.7998103973909387, null], \"y\": [-0.19585107994396775, 0.1909691043497301, null]}, {\"line\": {\"color\": \"Blue\", \"width\": 1}, \"mode\": \"lines\", \"type\": \"scatter\", \"x\": [0.37523535893892773, 0.6424500640065746, null], \"y\": [-0.19585107994396775, -0.20657397924490542, null]}, {\"line\": {\"color\": \"Blue\", \"width\": 1}, \"mode\": \"lines\", \"type\": \"scatter\", \"x\": [0.41384451847307707, 0.37523535893892773, null], \"y\": [-0.17200915111335868, -0.19585107994396775, null]}, {\"line\": {\"color\": \"Blue\", \"width\": 1}, \"mode\": \"lines\", \"type\": \"scatter\", \"x\": [0.47987335516736856, 0.6484854010156472, null], \"y\": [0.6114056197800606, 0.8472702833346408, null]}, {\"line\": {\"color\": \"Blue\", \"width\": 32}, \"mode\": \"lines\", \"type\": \"scatter\", \"x\": [-0.006294990140891957, 0.00653569783664845, null], \"y\": [0.5463250420327965, 0.5618936901220456, null]}, {\"line\": {\"color\": \"Blue\", \"width\": 4}, \"mode\": \"lines\", \"type\": \"scatter\", \"x\": [-0.006294990140891957, -0.05155337576046852, null], \"y\": [0.5463250420327965, 0.5906982789182788, null]}, {\"line\": {\"color\": \"Blue\", \"width\": 1}, \"mode\": \"lines\", \"type\": \"scatter\", \"x\": [-0.006294990140891957, 0.04418103557731134, null], \"y\": [0.5463250420327965, 0.5384047263366235, null]}, {\"line\": {\"color\": \"Blue\", \"width\": 1}, \"mode\": \"lines\", \"type\": \"scatter\", \"x\": [-0.672326983134384, -0.6355184946698897, null], \"y\": [0.034651636852145895, 0.05355667188693692, null]}, {\"line\": {\"color\": \"Blue\", \"width\": 1}, \"mode\": \"lines\", \"type\": \"scatter\", \"x\": [-0.672326983134384, -0.6249962248204908, null], \"y\": [0.034651636852145895, 0.027512437374537645, null]}, {\"line\": {\"color\": \"Blue\", \"width\": 1}, \"mode\": \"lines\", \"type\": \"scatter\", \"x\": [-0.6355184946698897, -0.6743224747132271, null], \"y\": [0.05355667188693692, 0.07542388763098604, null]}, {\"line\": {\"color\": \"Blue\", \"width\": 4}, \"mode\": \"lines\", \"type\": \"scatter\", \"x\": [-0.6355184946698897, -0.5087013121108135, null], \"y\": [0.05355667188693692, -0.37513003041674897, null]}, {\"line\": {\"color\": \"Blue\", \"width\": 14}, \"mode\": \"lines\", \"type\": \"scatter\", \"x\": [-0.6355184946698897, -0.571708532269586, null], \"y\": [0.05355667188693692, -0.16198790397928886, null]}, {\"line\": {\"color\": \"Blue\", \"width\": 1}, \"mode\": \"lines\", \"type\": \"scatter\", \"x\": [-0.6355184946698897, -0.9936320312829755, null], \"y\": [0.05355667188693692, 0.18226518225643595, null]}, {\"line\": {\"color\": \"Blue\", \"width\": 1}, \"mode\": \"lines\", \"type\": \"scatter\", \"x\": [-0.6355184946698897, -0.47446885374105346, null], \"y\": [0.05355667188693692, 0.8076300740383742, null]}, {\"line\": {\"color\": \"Blue\", \"width\": 8}, \"mode\": \"lines\", \"type\": \"scatter\", \"x\": [-0.6355184946698897, -0.6249962248204908, null], \"y\": [0.05355667188693692, 0.027512437374537645, null]}, {\"line\": {\"color\": \"Blue\", \"width\": 2}, \"mode\": \"lines\", \"type\": \"scatter\", \"x\": [-0.6355184946698897, -0.6303002646450261, null], \"y\": [0.05355667188693692, -0.004546320453612601, null]}, {\"line\": {\"color\": \"Blue\", \"width\": 3}, \"mode\": \"lines\", \"type\": \"scatter\", \"x\": [-0.6355184946698897, -0.6097253281859943, null], \"y\": [0.05355667188693692, -0.05719676393023385, null]}, {\"line\": {\"color\": \"Blue\", \"width\": 2}, \"mode\": \"lines\", \"type\": \"scatter\", \"x\": [-0.6355184946698897, -0.654352839565597, null], \"y\": [0.05355667188693692, 0.048191331185831986, null]}, {\"line\": {\"color\": \"Blue\", \"width\": 3}, \"mode\": \"lines\", \"type\": \"scatter\", \"x\": [-0.6355184946698897, -0.6445562734527357, null], \"y\": [0.05355667188693692, 0.019698499496178523, null]}, {\"line\": {\"color\": \"Blue\", \"width\": 5}, \"mode\": \"lines\", \"type\": \"scatter\", \"x\": [-0.6355184946698897, -0.5525563337442222, null], \"y\": [0.05355667188693692, 0.42991437533202925, null]}, {\"line\": {\"color\": \"Blue\", \"width\": 4}, \"mode\": \"lines\", \"type\": \"scatter\", \"x\": [-0.6355184946698897, -0.6262458747579543, null], \"y\": [0.05355667188693692, 0.07878934151822604, null]}, {\"line\": {\"color\": \"Blue\", \"width\": 1}, \"mode\": \"lines\", \"type\": \"scatter\", \"x\": [-0.6355184946698897, -0.6563441435197541, null], \"y\": [0.05355667188693692, 0.10655425837525127, null]}, {\"line\": {\"color\": \"Blue\", \"width\": 3}, \"mode\": \"lines\", \"type\": \"scatter\", \"x\": [-0.6355184946698897, -0.6779738083414828, null], \"y\": [0.05355667188693692, -0.07430607950066163, null]}, {\"line\": {\"color\": \"Blue\", \"width\": 1}, \"mode\": \"lines\", \"type\": \"scatter\", \"x\": [-0.6355184946698897, -0.7802746231896529, null], \"y\": [0.05355667188693692, -0.6262823052968136, null]}, {\"line\": {\"color\": \"Blue\", \"width\": 1}, \"mode\": \"lines\", \"type\": \"scatter\", \"x\": [-0.6355184946698897, -0.6109934751082702, null], \"y\": [0.05355667188693692, 0.09478006311997292, null]}, {\"line\": {\"color\": \"Blue\", \"width\": 1}, \"mode\": \"lines\", \"type\": \"scatter\", \"x\": [-0.6355184946698897, -0.6360599796505155, null], \"y\": [0.05355667188693692, -0.08338143408407235, null]}, {\"line\": {\"color\": \"Blue\", \"width\": 1}, \"mode\": \"lines\", \"type\": \"scatter\", \"x\": [-0.6355184946698897, -0.6348980136925776, null], \"y\": [0.05355667188693692, 0.09726986464869468, null]}, {\"line\": {\"color\": \"Blue\", \"width\": 3}, \"mode\": \"lines\", \"type\": \"scatter\", \"x\": [-0.6355184946698897, -0.6761300732775591, null], \"y\": [0.05355667188693692, 0.09507990900014099, null]}, {\"line\": {\"color\": \"Blue\", \"width\": 1}, \"mode\": \"lines\", \"type\": \"scatter\", \"x\": [-0.6355184946698897, -0.5723080930916794, null], \"y\": [0.05355667188693692, -0.07746287713415992, null]}, {\"line\": {\"color\": \"Blue\", \"width\": 1}, \"mode\": \"lines\", \"type\": \"scatter\", \"x\": [-0.6355184946698897, -0.672326983134384, null], \"y\": [0.05355667188693692, 0.034651636852145895, null]}, {\"line\": {\"color\": \"Blue\", \"width\": 1}, \"mode\": \"lines\", \"type\": \"scatter\", \"x\": [-0.6743224747132271, -0.6355184946698897, null], \"y\": [0.07542388763098604, 0.05355667188693692, null]}, {\"line\": {\"color\": \"Blue\", \"width\": 21}, \"mode\": \"lines\", \"type\": \"scatter\", \"x\": [-0.031225964610857616, 0.00653569783664845, null], \"y\": [0.5736259097163621, 0.5618936901220456, null]}, {\"line\": {\"color\": \"Blue\", \"width\": 5}, \"mode\": \"lines\", \"type\": \"scatter\", \"x\": [-0.031225964610857616, -0.05155337576046852, null], \"y\": [0.5736259097163621, 0.5906982789182788, null]}, {\"line\": {\"color\": \"Blue\", \"width\": 1}, \"mode\": \"lines\", \"type\": \"scatter\", \"x\": [-0.18850566763108087, 0.49479132624465005, null], \"y\": [-0.2360768732649553, -0.8154392737919905, null]}, {\"line\": {\"color\": \"Blue\", \"width\": 1}, \"mode\": \"lines\", \"type\": \"scatter\", \"x\": [-0.18850566763108087, -0.8674512480363487, null], \"y\": [-0.2360768732649553, 0.48190607914315076, null]}, {\"line\": {\"color\": \"Blue\", \"width\": 1}, \"mode\": \"lines\", \"type\": \"scatter\", \"x\": [-0.18850566763108087, -0.05826976793071641, null], \"y\": [-0.2360768732649553, -0.6616752436592293, null]}, {\"line\": {\"color\": \"Blue\", \"width\": 5}, \"mode\": \"lines\", \"type\": \"scatter\", \"x\": [-0.5087013121108135, -0.6355184946698897, null], \"y\": [-0.37513003041674897, 0.05355667188693692, null]}, {\"line\": {\"color\": \"Blue\", \"width\": 1}, \"mode\": \"lines\", \"type\": \"scatter\", \"x\": [-0.5087013121108135, -0.35639808630724534, null], \"y\": [-0.37513003041674897, -0.9119393562318372, null]}, {\"line\": {\"color\": \"Blue\", \"width\": 1}, \"mode\": \"lines\", \"type\": \"scatter\", \"x\": [-0.5087013121108135, -0.5989751712236193, null], \"y\": [-0.37513003041674897, -0.053683979406032534, null]}, {\"line\": {\"color\": \"Blue\", \"width\": 16}, \"mode\": \"lines\", \"type\": \"scatter\", \"x\": [-0.571708532269586, -0.6355184946698897, null], \"y\": [-0.16198790397928886, 0.05355667188693692, null]}, {\"line\": {\"color\": \"Blue\", \"width\": 1}, \"mode\": \"lines\", \"type\": \"scatter\", \"x\": [-0.571708532269586, -0.5087013121108135, null], \"y\": [-0.16198790397928886, -0.37513003041674897, null]}, {\"line\": {\"color\": \"Blue\", \"width\": 1}, \"mode\": \"lines\", \"type\": \"scatter\", \"x\": [-0.04521495824561943, -0.05826976793071641, null], \"y\": [-0.5155334200706347, -0.6616752436592293, null]}, {\"line\": {\"color\": \"Blue\", \"width\": 2}, \"mode\": \"lines\", \"type\": \"scatter\", \"x\": [-0.05826976793071641, -0.11344572747421838, null], \"y\": [-0.6616752436592293, -0.8644697005086622, null]}, {\"line\": {\"color\": \"Blue\", \"width\": 1}, \"mode\": \"lines\", \"type\": \"scatter\", \"x\": [-0.05826976793071641, -0.01925259706679653, null], \"y\": [-0.6616752436592293, -0.8327466460008415, null]}, {\"line\": {\"color\": \"Blue\", \"width\": 13}, \"mode\": \"lines\", \"type\": \"scatter\", \"x\": [0.04418103557731134, 0.00653569783664845, null], \"y\": [0.5384047263366235, 0.5618936901220456, null]}, {\"line\": {\"color\": \"Blue\", \"width\": 1}, \"mode\": \"lines\", \"type\": \"scatter\", \"x\": [0.04418103557731134, 0.022706765738808313, null], \"y\": [0.5384047263366235, 0.5212791238210516, null]}, {\"line\": {\"color\": \"Blue\", \"width\": 1}, \"mode\": \"lines\", \"type\": \"scatter\", \"x\": [0.04418103557731134, 0.053562302103836786, null], \"y\": [0.5384047263366235, 0.5679069595263282, null]}, {\"line\": {\"color\": \"Blue\", \"width\": 1}, \"mode\": \"lines\", \"type\": \"scatter\", \"x\": [-0.018619617067536835, 0.00653569783664845, null], \"y\": [0.5953727704338322, 0.5618936901220456, null]}, {\"line\": {\"color\": \"Blue\", \"width\": 1}, \"mode\": \"lines\", \"type\": \"scatter\", \"x\": [-0.018619617067536835, -0.05155337576046852, null], \"y\": [0.5953727704338322, 0.5906982789182788, null]}, {\"line\": {\"color\": \"Blue\", \"width\": 1}, \"mode\": \"lines\", \"type\": \"scatter\", \"x\": [-0.6303002646450261, -0.6355184946698897, null], \"y\": [-0.004546320453612601, 0.05355667188693692, null]}, {\"line\": {\"color\": \"Blue\", \"width\": 1}, \"mode\": \"lines\", \"type\": \"scatter\", \"x\": [-0.6303002646450261, -0.6445562734527357, null], \"y\": [-0.004546320453612601, 0.019698499496178523, null]}, {\"line\": {\"color\": \"Blue\", \"width\": 1}, \"mode\": \"lines\", \"type\": \"scatter\", \"x\": [-0.6303002646450261, -0.6097253281859943, null], \"y\": [-0.004546320453612601, -0.05719676393023385, null]}, {\"line\": {\"color\": \"Blue\", \"width\": 6}, \"mode\": \"lines\", \"type\": \"scatter\", \"x\": [-0.6249962248204908, -0.6355184946698897, null], \"y\": [0.027512437374537645, 0.05355667188693692, null]}, {\"line\": {\"color\": \"Blue\", \"width\": 1}, \"mode\": \"lines\", \"type\": \"scatter\", \"x\": [-0.6249962248204908, -0.6097253281859943, null], \"y\": [0.027512437374537645, -0.05719676393023385, null]}, {\"line\": {\"color\": \"Blue\", \"width\": 1}, \"mode\": \"lines\", \"type\": \"scatter\", \"x\": [-0.6249962248204908, -0.6563441435197541, null], \"y\": [0.027512437374537645, 0.10655425837525127, null]}, {\"line\": {\"color\": \"Blue\", \"width\": 1}, \"mode\": \"lines\", \"type\": \"scatter\", \"x\": [-0.6445562734527357, -0.6097253281859943, null], \"y\": [0.019698499496178523, -0.05719676393023385, null]}, {\"line\": {\"color\": \"Blue\", \"width\": 2}, \"mode\": \"lines\", \"type\": \"scatter\", \"x\": [-0.6445562734527357, -0.6355184946698897, null], \"y\": [0.019698499496178523, 0.05355667188693692, null]}, {\"line\": {\"color\": \"Blue\", \"width\": 1}, \"mode\": \"lines\", \"type\": \"scatter\", \"x\": [-0.6445562734527357, -0.6761300732775591, null], \"y\": [0.019698499496178523, 0.09507990900014099, null]}, {\"line\": {\"color\": \"Blue\", \"width\": 5}, \"mode\": \"lines\", \"type\": \"scatter\", \"x\": [-0.6097253281859943, -0.6355184946698897, null], \"y\": [-0.05719676393023385, 0.05355667188693692, null]}, {\"line\": {\"color\": \"Blue\", \"width\": 1}, \"mode\": \"lines\", \"type\": \"scatter\", \"x\": [-0.6097253281859943, -0.571708532269586, null], \"y\": [-0.05719676393023385, -0.16198790397928886, null]}, {\"line\": {\"color\": \"Blue\", \"width\": 1}, \"mode\": \"lines\", \"type\": \"scatter\", \"x\": [0.7656546939286556, 0.9574426526345866, null], \"y\": [-0.013386928947961745, -0.0206853477030448, null]}, {\"line\": {\"color\": \"Blue\", \"width\": 1}, \"mode\": \"lines\", \"type\": \"scatter\", \"x\": [0.18747084038018255, 0.2182981656262756, null], \"y\": [-0.13467804708684897, -0.11860850522747046, null]}, {\"line\": {\"color\": \"Blue\", \"width\": 1}, \"mode\": \"lines\", \"type\": \"scatter\", \"x\": [0.18747084038018255, 0.15193413882703968, null], \"y\": [-0.13467804708684897, -0.15136982741405522, null]}, {\"line\": {\"color\": \"Blue\", \"width\": 1}, \"mode\": \"lines\", \"type\": \"scatter\", \"x\": [0.2182981656262756, 0.18747084038018255, null], \"y\": [-0.11860850522747046, -0.13467804708684897, null]}, {\"line\": {\"color\": \"Blue\", \"width\": 1}, \"mode\": \"lines\", \"type\": \"scatter\", \"x\": [0.09767389312046558, 0.12320812507506151, null], \"y\": [-0.1884523433308696, -0.16221765605313743, null]}, {\"line\": {\"color\": \"Blue\", \"width\": 1}, \"mode\": \"lines\", \"type\": \"scatter\", \"x\": [-0.654352839565597, -0.6355184946698897, null], \"y\": [0.048191331185831986, 0.05355667188693692, null]}, {\"line\": {\"color\": \"Blue\", \"width\": 1}, \"mode\": \"lines\", \"type\": \"scatter\", \"x\": [-0.654352839565597, -0.6249962248204908, null], \"y\": [0.048191331185831986, 0.027512437374537645, null]}, {\"line\": {\"color\": \"Blue\", \"width\": 3}, \"mode\": \"lines\", \"type\": \"scatter\", \"x\": [-0.5525563337442222, -0.6355184946698897, null], \"y\": [0.42991437533202925, 0.05355667188693692, null]}, {\"line\": {\"color\": \"Blue\", \"width\": 1}, \"mode\": \"lines\", \"type\": \"scatter\", \"x\": [-0.5525563337442222, -0.47446885374105346, null], \"y\": [0.42991437533202925, 0.8076300740383742, null]}, {\"line\": {\"color\": \"Blue\", \"width\": 4}, \"mode\": \"lines\", \"type\": \"scatter\", \"x\": [-0.6262458747579543, -0.6355184946698897, null], \"y\": [0.07878934151822604, 0.05355667188693692, null]}, {\"line\": {\"color\": \"Blue\", \"width\": 1}, \"mode\": \"lines\", \"type\": \"scatter\", \"x\": [0.3379089467899003, 0.3043971508597925, null], \"y\": [-0.4392047077762022, -0.39928437849492177, null]}, {\"line\": {\"color\": \"Blue\", \"width\": 1}, \"mode\": \"lines\", \"type\": \"scatter\", \"x\": [0.3043971508597925, 0.19270310519524497, null], \"y\": [-0.39928437849492177, -0.5978278568260174, null]}, {\"line\": {\"color\": \"Blue\", \"width\": 1}, \"mode\": \"lines\", \"type\": \"scatter\", \"x\": [0.3043971508597925, 0.41369328467061434, null], \"y\": [-0.39928437849492177, -0.19767307535911371, null]}, {\"line\": {\"color\": \"Blue\", \"width\": 1}, \"mode\": \"lines\", \"type\": \"scatter\", \"x\": [0.19270310519524497, 0.1349866375151945, null], \"y\": [-0.5978278568260174, -0.896602010607209, null]}, {\"line\": {\"color\": \"Blue\", \"width\": 3}, \"mode\": \"lines\", \"type\": \"scatter\", \"x\": [0.19270310519524497, 0.28396794357800365, null], \"y\": [-0.5978278568260174, -0.39554164155812066, null]}, {\"line\": {\"color\": \"Blue\", \"width\": 1}, \"mode\": \"lines\", \"type\": \"scatter\", \"x\": [0.19270310519524497, 0.1860576356722349, null], \"y\": [-0.5978278568260174, -0.38410951249427094, null]}, {\"line\": {\"color\": \"Blue\", \"width\": 2}, \"mode\": \"lines\", \"type\": \"scatter\", \"x\": [0.28396794357800365, 0.41369328467061434, null], \"y\": [-0.39554164155812066, -0.19767307535911371, null]}, {\"line\": {\"color\": \"Blue\", \"width\": 2}, \"mode\": \"lines\", \"type\": \"scatter\", \"x\": [0.28396794357800365, 0.19270310519524497, null], \"y\": [-0.39554164155812066, -0.5978278568260174, null]}, {\"line\": {\"color\": \"Blue\", \"width\": 2}, \"mode\": \"lines\", \"type\": \"scatter\", \"x\": [0.28396794357800365, 0.31211770793194754, null], \"y\": [-0.39554164155812066, -0.44896719954498704, null]}, {\"line\": {\"color\": \"Blue\", \"width\": 1}, \"mode\": \"lines\", \"type\": \"scatter\", \"x\": [0.28396794357800365, 0.1860576356722349, null], \"y\": [-0.39554164155812066, -0.38410951249427094, null]}, {\"line\": {\"color\": \"Blue\", \"width\": 1}, \"mode\": \"lines\", \"type\": \"scatter\", \"x\": [0.41369328467061434, 0.37523535893892773, null], \"y\": [-0.19767307535911371, -0.19585107994396775, null]}, {\"line\": {\"color\": \"Blue\", \"width\": 1}, \"mode\": \"lines\", \"type\": \"scatter\", \"x\": [0.42788591905969225, 0.37523535893892773, null], \"y\": [-0.21319692854129899, -0.19585107994396775, null]}, {\"line\": {\"color\": \"Blue\", \"width\": 1}, \"mode\": \"lines\", \"type\": \"scatter\", \"x\": [0.31211770793194754, 0.3043971508597925, null], \"y\": [-0.44896719954498704, -0.39928437849492177, null]}, {\"line\": {\"color\": \"Blue\", \"width\": 1}, \"mode\": \"lines\", \"type\": \"scatter\", \"x\": [0.1860576356722349, 0.250779036487823, null], \"y\": [-0.38410951249427094, -0.4179274046872948, null]}, {\"line\": {\"color\": \"Blue\", \"width\": 1}, \"mode\": \"lines\", \"type\": \"scatter\", \"x\": [0.2605770792026613, 0.28396794357800365, null], \"y\": [-0.43674694669856345, -0.39554164155812066, null]}, {\"line\": {\"color\": \"Blue\", \"width\": 1}, \"mode\": \"lines\", \"type\": \"scatter\", \"x\": [0.250779036487823, 0.28396794357800365, null], \"y\": [-0.4179274046872948, -0.39554164155812066, null]}, {\"line\": {\"color\": \"Blue\", \"width\": 1}, \"mode\": \"lines\", \"type\": \"scatter\", \"x\": [-0.4281333462080918, -0.40433550425243003, null], \"y\": [-0.7057990421605056, -0.6639011423483849, null]}, {\"line\": {\"color\": \"Blue\", \"width\": 1}, \"mode\": \"lines\", \"type\": \"scatter\", \"x\": [-0.40433550425243003, -0.3732863040165991, null], \"y\": [-0.6639011423483849, -0.6312750045931593, null]}, {\"line\": {\"color\": \"Blue\", \"width\": 1}, \"mode\": \"lines\", \"type\": \"scatter\", \"x\": [-0.3732863040165991, -0.3789204981426731, null], \"y\": [-0.6312750045931593, -0.6766439288593462, null]}, {\"line\": {\"color\": \"Blue\", \"width\": 1}, \"mode\": \"lines\", \"type\": \"scatter\", \"x\": [-0.3732863040165991, -0.361684470241078, null], \"y\": [-0.6312750045931593, -0.5792458471247766, null]}, {\"line\": {\"color\": \"Blue\", \"width\": 3}, \"mode\": \"lines\", \"type\": \"scatter\", \"x\": [-0.36441214803730937, -0.3339307070576863, null], \"y\": [-0.036852740879992, -0.061513035713738215, null]}, {\"line\": {\"color\": \"Blue\", \"width\": 1}, \"mode\": \"lines\", \"type\": \"scatter\", \"x\": [-0.36441214803730937, -0.3759181235554326, null], \"y\": [-0.036852740879992, -0.05536380153161487, null]}, {\"line\": {\"color\": \"Blue\", \"width\": 1}, \"mode\": \"lines\", \"type\": \"scatter\", \"x\": [-0.3789204981426731, -0.3732863040165991, null], \"y\": [-0.6766439288593462, -0.6312750045931593, null]}, {\"line\": {\"color\": \"Blue\", \"width\": 1}, \"mode\": \"lines\", \"type\": \"scatter\", \"x\": [-0.361684470241078, -0.3654548187073246, null], \"y\": [-0.5792458471247766, -0.548408259738955, null]}, {\"line\": {\"color\": \"Blue\", \"width\": 1}, \"mode\": \"lines\", \"type\": \"scatter\", \"x\": [-0.361684470241078, -0.3732863040165991, null], \"y\": [-0.5792458471247766, -0.6312750045931593, null]}, {\"line\": {\"color\": \"Blue\", \"width\": 1}, \"mode\": \"lines\", \"type\": \"scatter\", \"x\": [-0.3654548187073246, -0.361684470241078, null], \"y\": [-0.548408259738955, -0.5792458471247766, null]}, {\"line\": {\"color\": \"Blue\", \"width\": 1}, \"mode\": \"lines\", \"type\": \"scatter\", \"x\": [-0.3287302390186808, -0.3339307070576863, null], \"y\": [-0.1008386957039631, -0.061513035713738215, null]}, {\"line\": {\"color\": \"Blue\", \"width\": 1}, \"mode\": \"lines\", \"type\": \"scatter\", \"x\": [-0.3759181235554326, -0.3339307070576863, null], \"y\": [-0.05536380153161487, -0.061513035713738215, null]}, {\"line\": {\"color\": \"Blue\", \"width\": 1}, \"mode\": \"lines\", \"type\": \"scatter\", \"x\": [0.17162915457282368, 0.13443111033827412, null], \"y\": [0.5353857193860533, 0.5663285114378721, null]}, {\"line\": {\"color\": \"Blue\", \"width\": 1}, \"mode\": \"lines\", \"type\": \"scatter\", \"x\": [0.13443111033827412, 0.2334089869526381, null], \"y\": [0.5663285114378721, 0.46684944255585675, null]}, {\"line\": {\"color\": \"Blue\", \"width\": 1}, \"mode\": \"lines\", \"type\": \"scatter\", \"x\": [0.13443111033827412, 0.027252848964473508, null], \"y\": [0.5663285114378721, 0.669326215476247, null]}, {\"line\": {\"color\": \"Blue\", \"width\": 6}, \"mode\": \"lines\", \"type\": \"scatter\", \"x\": [0.2334089869526381, 0.26920982893597845, null], \"y\": [0.46684944255585675, 0.3983280155711668, null]}, {\"line\": {\"color\": \"Blue\", \"width\": 1}, \"mode\": \"lines\", \"type\": \"scatter\", \"x\": [0.2334089869526381, 0.18298362234470514, null], \"y\": [0.46684944255585675, 0.5579104623103853, null]}, {\"line\": {\"color\": \"Blue\", \"width\": 1}, \"mode\": \"lines\", \"type\": \"scatter\", \"x\": [-0.05058046473151391, 0.875646469761618, null], \"y\": [-0.3222903128760568, -0.41133171181790834, null]}, {\"line\": {\"color\": \"Blue\", \"width\": 1}, \"mode\": \"lines\", \"type\": \"scatter\", \"x\": [-0.05058046473151391, -0.9760046669556657, null], \"y\": [-0.3222903128760568, -0.23345526171618958, null]}, {\"line\": {\"color\": \"Blue\", \"width\": 7}, \"mode\": \"lines\", \"type\": \"scatter\", \"x\": [0.26920982893597845, 0.2334089869526381, null], \"y\": [0.3983280155711668, 0.46684944255585675, null]}, {\"line\": {\"color\": \"Blue\", \"width\": 1}, \"mode\": \"lines\", \"type\": \"scatter\", \"x\": [-0.217668724194539, -0.19424529774564986, null], \"y\": [-0.6751068776387363, -0.6750527012123818, null]}, {\"line\": {\"color\": \"Blue\", \"width\": 1}, \"mode\": \"lines\", \"type\": \"scatter\", \"x\": [-0.19424529774564986, -0.217668724194539, null], \"y\": [-0.6750527012123818, -0.6751068776387363, null]}, {\"line\": {\"color\": \"Blue\", \"width\": 1}, \"mode\": \"lines\", \"type\": \"scatter\", \"x\": [0.18298362234470514, 0.13443111033827412, null], \"y\": [0.5579104623103853, 0.5663285114378721, null]}, {\"line\": {\"color\": \"Blue\", \"width\": 1}, \"mode\": \"lines\", \"type\": \"scatter\", \"x\": [0.027252848964473508, 0.007995403923307151, null], \"y\": [0.669326215476247, 0.6193807558005415, null]}, {\"line\": {\"color\": \"Blue\", \"width\": 1}, \"mode\": \"lines\", \"type\": \"scatter\", \"x\": [0.007995403923307151, 0.00653569783664845, null], \"y\": [0.6193807558005415, 0.5618936901220456, null]}, {\"line\": {\"color\": \"Blue\", \"width\": 1}, \"mode\": \"lines\", \"type\": \"scatter\", \"x\": [0.6669263227960512, 0.9407050733164788, null], \"y\": [0.29486173489413436, 0.40863697864068904, null]}, {\"line\": {\"color\": \"Blue\", \"width\": 2}, \"mode\": \"lines\", \"type\": \"scatter\", \"x\": [0.053562302103836786, 0.00653569783664845, null], \"y\": [0.5679069595263282, 0.5618936901220456, null]}, {\"line\": {\"color\": \"Blue\", \"width\": 1}, \"mode\": \"lines\", \"type\": \"scatter\", \"x\": [-0.6563441435197541, -0.6355184946698897, null], \"y\": [0.10655425837525127, 0.05355667188693692, null]}, {\"line\": {\"color\": \"Blue\", \"width\": 5}, \"mode\": \"lines\", \"type\": \"scatter\", \"x\": [-0.6761300732775591, -0.6355184946698897, null], \"y\": [0.09507990900014099, 0.05355667188693692, null]}, {\"line\": {\"color\": \"Blue\", \"width\": 1}, \"mode\": \"lines\", \"type\": \"scatter\", \"x\": [-0.562683228061876, -0.5878636512797422, null], \"y\": [-0.5022204671419498, -0.4967686017208657, null]}, {\"line\": {\"color\": \"Blue\", \"width\": 1}, \"mode\": \"lines\", \"type\": \"scatter\", \"x\": [-0.5878636512797422, -0.6215643836147127, null], \"y\": [-0.4967686017208657, -0.5222534659232466, null]}, {\"line\": {\"color\": \"Blue\", \"width\": 1}, \"mode\": \"lines\", \"type\": \"scatter\", \"x\": [-0.5878636512797422, -0.562683228061876, null], \"y\": [-0.4967686017208657, -0.5022204671419498, null]}, {\"line\": {\"color\": \"Blue\", \"width\": 1}, \"mode\": \"lines\", \"type\": \"scatter\", \"x\": [-0.6215643836147127, -0.5878636512797422, null], \"y\": [-0.5222534659232466, -0.4967686017208657, null]}, {\"line\": {\"color\": \"Blue\", \"width\": 1}, \"mode\": \"lines\", \"type\": \"scatter\", \"x\": [-0.5336369773232554, -0.554043859522779, null], \"y\": [-0.6863155356817474, -0.7240153785548754, null]}, {\"line\": {\"color\": \"Blue\", \"width\": 1}, \"mode\": \"lines\", \"type\": \"scatter\", \"x\": [-0.554043859522779, -0.5742620852025779, null], \"y\": [-0.7240153785548754, -0.7145539094061756, null]}, {\"line\": {\"color\": \"Blue\", \"width\": 1}, \"mode\": \"lines\", \"type\": \"scatter\", \"x\": [-0.5742620852025779, -0.5336369773232554, null], \"y\": [-0.7145539094061756, -0.6863155356817474, null]}, {\"line\": {\"color\": \"Blue\", \"width\": 1}, \"mode\": \"lines\", \"type\": \"scatter\", \"x\": [0.09108257637435149, 0.16063410934214448, null], \"y\": [0.21481322785005708, 0.05190673141557883, null]}, {\"line\": {\"color\": \"Blue\", \"width\": 1}, \"mode\": \"lines\", \"type\": \"scatter\", \"x\": [0.09108257637435149, 0.06296737885084382, null], \"y\": [0.21481322785005708, 0.2773986693347045, null]}, {\"line\": {\"color\": \"Blue\", \"width\": 4}, \"mode\": \"lines\", \"type\": \"scatter\", \"x\": [0.09108257637435149, 0.07729952643531772, null], \"y\": [0.21481322785005708, 0.22800586877246445, null]}, {\"line\": {\"color\": \"Blue\", \"width\": 2}, \"mode\": \"lines\", \"type\": \"scatter\", \"x\": [0.09108257637435149, 0.02293760603570412, null], \"y\": [0.21481322785005708, 0.37654083897519786, null]}, {\"line\": {\"color\": \"Blue\", \"width\": 1}, \"mode\": \"lines\", \"type\": \"scatter\", \"x\": [0.16063410934214448, 0.17102630298095595, null], \"y\": [0.05190673141557883, 0.07474973951779565, null]}, {\"line\": {\"color\": \"Blue\", \"width\": 1}, \"mode\": \"lines\", \"type\": \"scatter\", \"x\": [0.16063410934214448, 0.12489833805469243, null], \"y\": [0.05190673141557883, 0.12375925669501651, null]}, {\"line\": {\"color\": \"Blue\", \"width\": 1}, \"mode\": \"lines\", \"type\": \"scatter\", \"x\": [0.17102630298095595, 0.1296910878899934, null], \"y\": [0.07474973951779565, 0.14390457044247493, null]}, {\"line\": {\"color\": \"Blue\", \"width\": 1}, \"mode\": \"lines\", \"type\": \"scatter\", \"x\": [0.1296910878899934, 0.12489833805469243, null], \"y\": [0.14390457044247493, 0.12375925669501651, null]}, {\"line\": {\"color\": \"Blue\", \"width\": 1}, \"mode\": \"lines\", \"type\": \"scatter\", \"x\": [0.1296910878899934, 0.09108257637435149, null], \"y\": [0.14390457044247493, 0.21481322785005708, null]}, {\"line\": {\"color\": \"Blue\", \"width\": 1}, \"mode\": \"lines\", \"type\": \"scatter\", \"x\": [0.12489833805469243, 0.1296910878899934, null], \"y\": [0.12375925669501651, 0.14390457044247493, null]}, {\"line\": {\"color\": \"Blue\", \"width\": 1}, \"mode\": \"lines\", \"type\": \"scatter\", \"x\": [0.12489833805469243, 0.16063410934214448, null], \"y\": [0.12375925669501651, 0.05190673141557883, null]}, {\"line\": {\"color\": \"Blue\", \"width\": 1}, \"mode\": \"lines\", \"type\": \"scatter\", \"x\": [0.12489833805469243, 0.07729952643531772, null], \"y\": [0.12375925669501651, 0.22800586877246445, null]}, {\"line\": {\"color\": \"Blue\", \"width\": 1}, \"mode\": \"lines\", \"type\": \"scatter\", \"x\": [0.7473349073463132, 0.7750211043841024, null], \"y\": [0.29463036795975933, 0.7120259758444962, null]}, {\"line\": {\"color\": \"Blue\", \"width\": 1}, \"mode\": \"lines\", \"type\": \"scatter\", \"x\": [0.7473349073463132, 0.8757944123177239, null], \"y\": [0.29463036795975933, -0.08776320413754238, null]}, {\"line\": {\"color\": \"Blue\", \"width\": 2}, \"mode\": \"lines\", \"type\": \"scatter\", \"x\": [-0.6779738083414828, -0.6355184946698897, null], \"y\": [-0.07430607950066163, 0.05355667188693692, null]}, {\"line\": {\"color\": \"Blue\", \"width\": 1}, \"mode\": \"lines\", \"type\": \"scatter\", \"x\": [-0.6779738083414828, -0.7050728922568569, null], \"y\": [-0.07430607950066163, -0.2867688118397396, null]}, {\"line\": {\"color\": \"Blue\", \"width\": 1}, \"mode\": \"lines\", \"type\": \"scatter\", \"x\": [-0.6779738083414828, -0.6761300732775591, null], \"y\": [-0.07430607950066163, 0.09507990900014099, null]}, {\"line\": {\"color\": \"Blue\", \"width\": 1}, \"mode\": \"lines\", \"type\": \"scatter\", \"x\": [-0.7050728922568569, -0.7802746231896529, null], \"y\": [-0.2867688118397396, -0.6262823052968136, null]}, {\"line\": {\"color\": \"Blue\", \"width\": 1}, \"mode\": \"lines\", \"type\": \"scatter\", \"x\": [-0.7050728922568569, -0.6355184946698897, null], \"y\": [-0.2867688118397396, 0.05355667188693692, null]}, {\"line\": {\"color\": \"Blue\", \"width\": 1}, \"mode\": \"lines\", \"type\": \"scatter\", \"x\": [-0.5084142647390143, -0.6348980136925776, null], \"y\": [0.10407938504399444, 0.09726986464869468, null]}, {\"line\": {\"color\": \"Blue\", \"width\": 1}, \"mode\": \"lines\", \"type\": \"scatter\", \"x\": [-0.6348980136925776, -0.6355184946698897, null], \"y\": [0.09726986464869468, 0.05355667188693692, null]}, {\"line\": {\"color\": \"Blue\", \"width\": 2}, \"mode\": \"lines\", \"type\": \"scatter\", \"x\": [-0.29369975641351054, -0.35639808630724534, null], \"y\": [-0.727545186978445, -0.9119393562318372, null]}, {\"line\": {\"color\": \"Blue\", \"width\": 1}, \"mode\": \"lines\", \"type\": \"scatter\", \"x\": [0.057076871173903865, 0.056203790376571104, null], \"y\": [0.9300815009438165, 0.9944139065889939, null]}, {\"line\": {\"color\": \"Blue\", \"width\": 1}, \"mode\": \"lines\", \"type\": \"scatter\", \"x\": [0.7849753189450722, 0.9575968837381842, null], \"y\": [-0.14361684707402098, -0.18522161242831603, null]}, {\"line\": {\"color\": \"Blue\", \"width\": 1}, \"mode\": \"lines\", \"type\": \"scatter\", \"x\": [0.36841946443257373, 0.47106405004086577, null], \"y\": [0.31386934319661336, 0.3626793762648869, null]}, {\"line\": {\"color\": \"Blue\", \"width\": 1}, \"mode\": \"lines\", \"type\": \"scatter\", \"x\": [0.47106405004086577, 0.5954425516422513, null], \"y\": [0.3626793762648869, 0.4276719695065761, null]}, {\"line\": {\"color\": \"Blue\", \"width\": 1}, \"mode\": \"lines\", \"type\": \"scatter\", \"x\": [0.5954425516422513, 0.7272500915751805, null], \"y\": [0.4276719695065761, 0.5057051532819287, null]}, {\"line\": {\"color\": \"Blue\", \"width\": 1}, \"mode\": \"lines\", \"type\": \"scatter\", \"x\": [0.7272500915751805, 0.8805764195170631, null], \"y\": [0.5057051532819287, 0.6032251083344231, null]}, {\"line\": {\"color\": \"Blue\", \"width\": 2}, \"mode\": \"lines\", \"type\": \"scatter\", \"x\": [0.02293760603570412, 0.06296737885084382, null], \"y\": [0.37654083897519786, 0.2773986693347045, null]}, {\"line\": {\"color\": \"Blue\", \"width\": 1}, \"mode\": \"lines\", \"type\": \"scatter\", \"x\": [0.02293760603570412, -0.07780514594252302, null], \"y\": [0.37654083897519786, 0.6331670702503354, null]}, {\"line\": {\"color\": \"Blue\", \"width\": 2}, \"mode\": \"lines\", \"type\": \"scatter\", \"x\": [0.02293760603570412, 0.09108257637435149, null], \"y\": [0.37654083897519786, 0.21481322785005708, null]}, {\"line\": {\"color\": \"Blue\", \"width\": 2}, \"mode\": \"lines\", \"type\": \"scatter\", \"x\": [0.02293760603570412, 0.07729952643531772, null], \"y\": [0.37654083897519786, 0.22800586877246445, null]}, {\"line\": {\"color\": \"Blue\", \"width\": 6}, \"mode\": \"lines\", \"type\": \"scatter\", \"x\": [0.06296737885084382, 0.07729952643531772, null], \"y\": [0.2773986693347045, 0.22800586877246445, null]}, {\"line\": {\"color\": \"Blue\", \"width\": 1}, \"mode\": \"lines\", \"type\": \"scatter\", \"x\": [0.06296737885084382, 0.09108257637435149, null], \"y\": [0.2773986693347045, 0.21481322785005708, null]}, {\"line\": {\"color\": \"Blue\", \"width\": 3}, \"mode\": \"lines\", \"type\": \"scatter\", \"x\": [0.06296737885084382, 0.02293760603570412, null], \"y\": [0.2773986693347045, 0.37654083897519786, null]}, {\"line\": {\"color\": \"Blue\", \"width\": 3}, \"mode\": \"lines\", \"type\": \"scatter\", \"x\": [0.07729952643531772, 0.02293760603570412, null], \"y\": [0.22800586877246445, 0.37654083897519786, null]}, {\"line\": {\"color\": \"Blue\", \"width\": 5}, \"mode\": \"lines\", \"type\": \"scatter\", \"x\": [0.07729952643531772, 0.06296737885084382, null], \"y\": [0.22800586877246445, 0.2773986693347045, null]}, {\"line\": {\"color\": \"Blue\", \"width\": 1}, \"mode\": \"lines\", \"type\": \"scatter\", \"x\": [0.07729952643531772, 0.1051586301568019, null], \"y\": [0.22800586877246445, 0.23387315809621517, null]}, {\"line\": {\"color\": \"Blue\", \"width\": 4}, \"mode\": \"lines\", \"type\": \"scatter\", \"x\": [0.07729952643531772, 0.09108257637435149, null], \"y\": [0.22800586877246445, 0.21481322785005708, null]}, {\"line\": {\"color\": \"Blue\", \"width\": 1}, \"mode\": \"lines\", \"type\": \"scatter\", \"x\": [0.07729952643531772, 0.12489833805469243, null], \"y\": [0.22800586877246445, 0.12375925669501651, null]}, {\"line\": {\"color\": \"Blue\", \"width\": 1}, \"mode\": \"lines\", \"type\": \"scatter\", \"x\": [0.07729952643531772, 0.09647659824460597, null], \"y\": [0.22800586877246445, 0.17002112082562654, null]}, {\"line\": {\"color\": \"Blue\", \"width\": 1}, \"mode\": \"lines\", \"type\": \"scatter\", \"x\": [0.07729952643531772, 0.07430519338893916, null], \"y\": [0.22800586877246445, 0.16672387095799987, null]}, {\"line\": {\"color\": \"Blue\", \"width\": 1}, \"mode\": \"lines\", \"type\": \"scatter\", \"x\": [-0.07780514594252302, -0.05155337576046852, null], \"y\": [0.6331670702503354, 0.5906982789182788, null]}, {\"line\": {\"color\": \"Blue\", \"width\": 8}, \"mode\": \"lines\", \"type\": \"scatter\", \"x\": [0.4132025725784307, 0.393620771298509, null], \"y\": [0.5988563372231029, 0.6186325304910114, null]}, {\"line\": {\"color\": \"Blue\", \"width\": 1}, \"mode\": \"lines\", \"type\": \"scatter\", \"x\": [0.4132025725784307, 0.4215609254626437, null], \"y\": [0.5988563372231029, 0.6248187874555992, null]}, {\"line\": {\"color\": \"Blue\", \"width\": 2}, \"mode\": \"lines\", \"type\": \"scatter\", \"x\": [0.393620771298509, 0.4215609254626437, null], \"y\": [0.6186325304910114, 0.6248187874555992, null]}, {\"line\": {\"color\": \"Blue\", \"width\": 6}, \"mode\": \"lines\", \"type\": \"scatter\", \"x\": [0.393620771298509, 0.4132025725784307, null], \"y\": [0.6186325304910114, 0.5988563372231029, null]}, {\"line\": {\"color\": \"Blue\", \"width\": 1}, \"mode\": \"lines\", \"type\": \"scatter\", \"x\": [0.393620771298509, 0.4471023033219302, null], \"y\": [0.6186325304910114, 0.6686719138913689, null]}, {\"line\": {\"color\": \"Blue\", \"width\": 1}, \"mode\": \"lines\", \"type\": \"scatter\", \"x\": [0.393620771298509, 0.33792714051423434, null], \"y\": [0.6186325304910114, 0.5888540846479634, null]}, {\"line\": {\"color\": \"Blue\", \"width\": 1}, \"mode\": \"lines\", \"type\": \"scatter\", \"x\": [0.4197067713405106, 0.1677894728071682, null], \"y\": [-0.46149894413075426, -0.7305334696894542, null]}, {\"line\": {\"color\": \"Blue\", \"width\": 1}, \"mode\": \"lines\", \"type\": \"scatter\", \"x\": [0.4197067713405106, 0.8599676664867721, null], \"y\": [-0.46149894413075426, -0.5170656068255228, null]}, {\"line\": {\"color\": \"Blue\", \"width\": 1}, \"mode\": \"lines\", \"type\": \"scatter\", \"x\": [0.4197067713405106, 0.334424878430943, null], \"y\": [-0.46149894413075426, -0.3617836190394759, null]}, {\"line\": {\"color\": \"Blue\", \"width\": 1}, \"mode\": \"lines\", \"type\": \"scatter\", \"x\": [0.4197067713405106, 0.3509935441280999, null], \"y\": [-0.46149894413075426, -0.37708867287801606, null]}, {\"line\": {\"color\": \"Blue\", \"width\": 1}, \"mode\": \"lines\", \"type\": \"scatter\", \"x\": [0.1677894728071682, 0.2268846091412453, null], \"y\": [-0.7305334696894542, -0.8418663379763508, null]}, {\"line\": {\"color\": \"Blue\", \"width\": 1}, \"mode\": \"lines\", \"type\": \"scatter\", \"x\": [0.2268846091412453, 0.22962354737015284, null], \"y\": [-0.8418663379763508, -0.8124759117092945, null]}, {\"line\": {\"color\": \"Blue\", \"width\": 1}, \"mode\": \"lines\", \"type\": \"scatter\", \"x\": [0.22962354737015284, 0.28262255891920907, null], \"y\": [-0.8124759117092945, -0.9430145104388807, null]}, {\"line\": {\"color\": \"Blue\", \"width\": 1}, \"mode\": \"lines\", \"type\": \"scatter\", \"x\": [0.22962354737015284, 0.18394095226627913, null], \"y\": [-0.8124759117092945, -0.7048927681260831, null]}, {\"line\": {\"color\": \"Blue\", \"width\": 2}, \"mode\": \"lines\", \"type\": \"scatter\", \"x\": [0.4215609254626437, 0.4132025725784307, null], \"y\": [0.6248187874555992, 0.5988563372231029, null]}, {\"line\": {\"color\": \"Blue\", \"width\": 2}, \"mode\": \"lines\", \"type\": \"scatter\", \"x\": [0.4215609254626437, 0.393620771298509, null], \"y\": [0.6248187874555992, 0.6186325304910114, null]}, {\"line\": {\"color\": \"Blue\", \"width\": 1}, \"mode\": \"lines\", \"type\": \"scatter\", \"x\": [0.4471023033219302, 0.4550865663637871, null], \"y\": [0.6686719138913689, 0.6411823299586208, null]}, {\"line\": {\"color\": \"Blue\", \"width\": 1}, \"mode\": \"lines\", \"type\": \"scatter\", \"x\": [0.4550865663637871, 0.4215609254626437, null], \"y\": [0.6411823299586208, 0.6248187874555992, null]}, {\"line\": {\"color\": \"Blue\", \"width\": 1}, \"mode\": \"lines\", \"type\": \"scatter\", \"x\": [0.18394095226627913, 0.22962354737015284, null], \"y\": [-0.7048927681260831, -0.8124759117092945, null]}, {\"line\": {\"color\": \"Blue\", \"width\": 1}, \"mode\": \"lines\", \"type\": \"scatter\", \"x\": [0.33792714051423434, 0.38243349598570825, null], \"y\": [0.5888540846479634, 0.6380830935898356, null]}, {\"line\": {\"color\": \"Blue\", \"width\": 1}, \"mode\": \"lines\", \"type\": \"scatter\", \"x\": [0.38243349598570825, 0.4215609254626437, null], \"y\": [0.6380830935898356, 0.6248187874555992, null]}, {\"line\": {\"color\": \"Blue\", \"width\": 1}, \"mode\": \"lines\", \"type\": \"scatter\", \"x\": [-0.6109934751082702, -0.6355184946698897, null], \"y\": [0.09478006311997292, 0.05355667188693692, null]}, {\"line\": {\"color\": \"Blue\", \"width\": 1}, \"mode\": \"lines\", \"type\": \"scatter\", \"x\": [0.334424878430943, 0.4197067713405106, null], \"y\": [-0.3617836190394759, -0.46149894413075426, null]}, {\"line\": {\"color\": \"Blue\", \"width\": 1}, \"mode\": \"lines\", \"type\": \"scatter\", \"x\": [0.3509935441280999, 0.4197067713405106, null], \"y\": [-0.37708867287801606, -0.46149894413075426, null]}, {\"line\": {\"color\": \"Blue\", \"width\": 1}, \"mode\": \"lines\", \"type\": \"scatter\", \"x\": [-0.08989122615934875, -0.12712275093872621, null], \"y\": [0.6473738382995519, 0.6852801160266644, null]}, {\"line\": {\"color\": \"Blue\", \"width\": 1}, \"mode\": \"lines\", \"type\": \"scatter\", \"x\": [-0.08989122615934875, -0.05363971760901022, null], \"y\": [0.6473738382995519, 0.6600590109980251, null]}, {\"line\": {\"color\": \"Blue\", \"width\": 1}, \"mode\": \"lines\", \"type\": \"scatter\", \"x\": [-0.08989122615934875, -0.04466710711642731, null], \"y\": [0.6473738382995519, 0.6072001475088125, null]}, {\"line\": {\"color\": \"Blue\", \"width\": 1}, \"mode\": \"lines\", \"type\": \"scatter\", \"x\": [-0.12712275093872621, -0.08989122615934875, null], \"y\": [0.6852801160266644, 0.6473738382995519, null]}, {\"line\": {\"color\": \"Blue\", \"width\": 1}, \"mode\": \"lines\", \"type\": \"scatter\", \"x\": [-0.05363971760901022, -0.04466710711642731, null], \"y\": [0.6600590109980251, 0.6072001475088125, null]}, {\"line\": {\"color\": \"Blue\", \"width\": 1}, \"mode\": \"lines\", \"type\": \"scatter\", \"x\": [-0.04466710711642731, -0.08989122615934875, null], \"y\": [0.6072001475088125, 0.6473738382995519, null]}, {\"line\": {\"color\": \"Blue\", \"width\": 1}, \"mode\": \"lines\", \"type\": \"scatter\", \"x\": [-0.04466710711642731, 0.00653569783664845, null], \"y\": [0.6072001475088125, 0.5618936901220456, null]}, {\"line\": {\"color\": \"Blue\", \"width\": 1}, \"mode\": \"lines\", \"type\": \"scatter\", \"x\": [-0.6360599796505155, -0.5989751712236193, null], \"y\": [-0.08338143408407235, -0.053683979406032534, null]}, {\"line\": {\"color\": \"Blue\", \"width\": 1}, \"mode\": \"lines\", \"type\": \"scatter\", \"x\": [-0.5989751712236193, -0.6355184946698897, null], \"y\": [-0.053683979406032534, 0.05355667188693692, null]}, {\"line\": {\"color\": \"Blue\", \"width\": 1}, \"mode\": \"lines\", \"type\": \"scatter\", \"x\": [-0.5989751712236193, -0.571708532269586, null], \"y\": [-0.053683979406032534, -0.16198790397928886, null]}, {\"line\": {\"color\": \"Blue\", \"width\": 1}, \"mode\": \"lines\", \"type\": \"scatter\", \"x\": [-0.5723080930916794, -0.5989751712236193, null], \"y\": [-0.07746287713415992, -0.053683979406032534, null]}, {\"line\": {\"color\": \"Blue\", \"width\": 1}, \"mode\": \"lines\", \"type\": \"scatter\", \"x\": [-0.8528169773476151, -0.8086442017948446, null], \"y\": [-0.29923020850182713, -0.28276318984819504, null]}, {\"line\": {\"color\": \"Blue\", \"width\": 1}, \"mode\": \"lines\", \"type\": \"scatter\", \"x\": [-0.8086442017948446, -0.8528169773476151, null], \"y\": [-0.28276318984819504, -0.29923020850182713, null]}, {\"line\": {\"color\": \"Blue\", \"width\": 1}, \"mode\": \"lines\", \"type\": \"scatter\", \"x\": [0.33808179177310443, 0.3165494290652029, null], \"y\": [-0.19129089820430067, -0.2093353387770269, null]}, {\"line\": {\"color\": \"Blue\", \"width\": 1}, \"mode\": \"lines\", \"type\": \"scatter\", \"x\": [0.33808179177310443, 0.37523535893892773, null], \"y\": [-0.19129089820430067, -0.19585107994396775, null]}, {\"line\": {\"color\": \"Blue\", \"width\": 1}, \"mode\": \"lines\", \"type\": \"scatter\", \"x\": [0.33808179177310443, 0.3061961646502424, null], \"y\": [-0.19129089820430067, -0.17793757896667, null]}, {\"line\": {\"color\": \"Blue\", \"width\": 2}, \"mode\": \"lines\", \"type\": \"scatter\", \"x\": [0.3165494290652029, 0.33808179177310443, null], \"y\": [-0.2093353387770269, -0.19129089820430067, null]}, {\"line\": {\"color\": \"Blue\", \"width\": 1}, \"mode\": \"lines\", \"type\": \"scatter\", \"x\": [0.42573525285743896, 0.5164414543211586, null], \"y\": [0.72791377888386, 0.8964628255956419, null]}, {\"line\": {\"color\": \"Blue\", \"width\": 1}, \"mode\": \"lines\", \"type\": \"scatter\", \"x\": [0.31313506763831295, 0.33808179177310443, null], \"y\": [-0.22946208977224003, -0.19129089820430067, null]}, {\"line\": {\"color\": \"Blue\", \"width\": 1}, \"mode\": \"lines\", \"type\": \"scatter\", \"x\": [0.3061961646502424, 0.33808179177310443, null], \"y\": [-0.17793757896667, -0.19129089820430067, null]}, {\"line\": {\"color\": \"Blue\", \"width\": 1}, \"mode\": \"lines\", \"type\": \"scatter\", \"x\": [0.02385144654197455, 0.00653569783664845, null], \"y\": [0.6064890698772241, 0.5618936901220456, null]}, {\"line\": {\"color\": \"Blue\", \"width\": 1}, \"mode\": \"lines\", \"type\": \"scatter\", \"x\": [-0.6099103133446572, -0.7208685162502674, null], \"y\": [0.5558973642819145, 0.6883775124386619, null]}, {\"line\": {\"color\": \"Blue\", \"width\": 1}, \"mode\": \"lines\", \"type\": \"scatter\", \"x\": [-0.6099103133446572, -0.5723632135824303, null], \"y\": [0.5558973642819145, 0.5070896871613674, null]}, {\"line\": {\"color\": \"Blue\", \"width\": 1}, \"mode\": \"lines\", \"type\": \"scatter\", \"x\": [0.6495577761181255, 0.6722544332350213, null], \"y\": [-0.1863455456744851, -0.13502036878389873, null]}, {\"line\": {\"color\": \"Blue\", \"width\": 2}, \"mode\": \"lines\", \"type\": \"scatter\", \"x\": [0.6495577761181255, 0.6424500640065746, null], \"y\": [-0.1863455456744851, -0.20657397924490542, null]}, {\"line\": {\"color\": \"Blue\", \"width\": 1}, \"mode\": \"lines\", \"type\": \"scatter\", \"x\": [0.6495577761181255, 0.6298921751889827, null], \"y\": [-0.1863455456744851, -0.24600281176296188, null]}, {\"line\": {\"color\": \"Blue\", \"width\": 1}, \"mode\": \"lines\", \"type\": \"scatter\", \"x\": [0.6495577761181255, 0.6390807309960873, null], \"y\": [-0.1863455456744851, -0.16041437756341656, null]}, {\"line\": {\"color\": \"Blue\", \"width\": 1}, \"mode\": \"lines\", \"type\": \"scatter\", \"x\": [0.6722544332350213, 0.6390807309960873, null], \"y\": [-0.13502036878389873, -0.16041437756341656, null]}, {\"line\": {\"color\": \"Blue\", \"width\": 1}, \"mode\": \"lines\", \"type\": \"scatter\", \"x\": [0.6390807309960873, 0.6495577761181255, null], \"y\": [-0.16041437756341656, -0.1863455456744851, null]}, {\"line\": {\"color\": \"Blue\", \"width\": 1}, \"mode\": \"lines\", \"type\": \"scatter\", \"x\": [0.6390807309960873, 0.6354634206992088, null], \"y\": [-0.16041437756341656, -0.11861168603167521, null]}, {\"line\": {\"color\": \"Blue\", \"width\": 2}, \"mode\": \"lines\", \"type\": \"scatter\", \"x\": [0.6390807309960873, 0.6424500640065746, null], \"y\": [-0.16041437756341656, -0.20657397924490542, null]}, {\"line\": {\"color\": \"Blue\", \"width\": 1}, \"mode\": \"lines\", \"type\": \"scatter\", \"x\": [0.1051586301568019, 0.06296737885084382, null], \"y\": [0.23387315809621517, 0.2773986693347045, null]}, {\"line\": {\"color\": \"Blue\", \"width\": 1}, \"mode\": \"lines\", \"type\": \"scatter\", \"x\": [0.1051586301568019, 0.11910112269228844, null], \"y\": [0.23387315809621517, 0.18241547817228498, null]}, {\"line\": {\"color\": \"Blue\", \"width\": 1}, \"mode\": \"lines\", \"type\": \"scatter\", \"x\": [0.022706765738808313, 0.00653569783664845, null], \"y\": [0.5212791238210516, 0.5618936901220456, null]}, {\"line\": {\"color\": \"Blue\", \"width\": 1}, \"mode\": \"lines\", \"type\": \"scatter\", \"x\": [-0.07940958320806038, -0.04963978980323877, null], \"y\": [0.5053311592948502, 0.5261974905195866, null]}, {\"line\": {\"color\": \"Blue\", \"width\": 1}, \"mode\": \"lines\", \"type\": \"scatter\", \"x\": [-0.04963978980323877, -0.15257988854626547, null], \"y\": [0.5261974905195866, 0.4725803254239762, null]}, {\"line\": {\"color\": \"Blue\", \"width\": 1}, \"mode\": \"lines\", \"type\": \"scatter\", \"x\": [-0.04963978980323877, 0.045378673122160165, null], \"y\": [0.5261974905195866, 0.6072986339230855, null]}, {\"line\": {\"color\": \"Blue\", \"width\": 1}, \"mode\": \"lines\", \"type\": \"scatter\", \"x\": [-0.15257988854626547, -0.1854407440298569, null], \"y\": [0.4725803254239762, 0.4426912889997597, null]}, {\"line\": {\"color\": \"Blue\", \"width\": 1}, \"mode\": \"lines\", \"type\": \"scatter\", \"x\": [-0.15257988854626547, -0.10995182927895984, null], \"y\": [0.4725803254239762, 0.5175385065429913, null]}, {\"line\": {\"color\": \"Blue\", \"width\": 1}, \"mode\": \"lines\", \"type\": \"scatter\", \"x\": [-0.1854407440298569, -0.15257988854626547, null], \"y\": [0.4426912889997597, 0.4725803254239762, null]}, {\"line\": {\"color\": \"Blue\", \"width\": 1}, \"mode\": \"lines\", \"type\": \"scatter\", \"x\": [-0.10995182927895984, -0.15602133707393775, null], \"y\": [0.5175385065429913, 0.5231559962403554, null]}, {\"line\": {\"color\": \"Blue\", \"width\": 1}, \"mode\": \"lines\", \"type\": \"scatter\", \"x\": [-0.10995182927895984, -0.04963978980323877, null], \"y\": [0.5175385065429913, 0.5261974905195866, null]}, {\"line\": {\"color\": \"Blue\", \"width\": 1}, \"mode\": \"lines\", \"type\": \"scatter\", \"x\": [-0.15602133707393775, -0.10995182927895984, null], \"y\": [0.5231559962403554, 0.5175385065429913, null]}, {\"line\": {\"color\": \"Blue\", \"width\": 1}, \"mode\": \"lines\", \"type\": \"scatter\", \"x\": [0.045378673122160165, 0.00653569783664845, null], \"y\": [0.6072986339230855, 0.5618936901220456, null]}, {\"line\": {\"color\": \"Blue\", \"width\": 1}, \"mode\": \"lines\", \"type\": \"scatter\", \"x\": [0.11910112269228844, 0.07729952643531772, null], \"y\": [0.18241547817228498, 0.22800586877246445, null]}, {\"line\": {\"color\": \"Blue\", \"width\": 1}, \"mode\": \"lines\", \"type\": \"scatter\", \"x\": [-0.7378730828981975, -0.7227400406965296, null], \"y\": [-0.17377639003835765, -0.1980886628426595, null]}, {\"line\": {\"color\": \"Blue\", \"width\": 2}, \"mode\": \"lines\", \"type\": \"scatter\", \"x\": [-0.7378730828981975, -0.7709645487770276, null], \"y\": [-0.17377639003835765, -0.16631189930699672, null]}, {\"line\": {\"color\": \"Blue\", \"width\": 1}, \"mode\": \"lines\", \"type\": \"scatter\", \"x\": [-0.7227400406965296, -0.7378730828981975, null], \"y\": [-0.1980886628426595, -0.17377639003835765, null]}, {\"line\": {\"color\": \"Blue\", \"width\": 2}, \"mode\": \"lines\", \"type\": \"scatter\", \"x\": [-0.7709645487770276, -0.7378730828981975, null], \"y\": [-0.16631189930699672, -0.17377639003835765, null]}, {\"line\": {\"color\": \"Blue\", \"width\": 1}, \"mode\": \"lines\", \"type\": \"scatter\", \"x\": [0.6424500640065746, 0.6647688735137282, null], \"y\": [-0.20657397924490542, -0.22025851553326448, null]}, {\"line\": {\"color\": \"Blue\", \"width\": 1}, \"mode\": \"lines\", \"type\": \"scatter\", \"x\": [0.6424500640065746, 0.6298921751889827, null], \"y\": [-0.20657397924490542, -0.24600281176296188, null]}, {\"line\": {\"color\": \"Blue\", \"width\": 1}, \"mode\": \"lines\", \"type\": \"scatter\", \"x\": [0.6424500640065746, 0.6495577761181255, null], \"y\": [-0.20657397924490542, -0.1863455456744851, null]}, {\"line\": {\"color\": \"Blue\", \"width\": 2}, \"mode\": \"lines\", \"type\": \"scatter\", \"x\": [0.6424500640065746, 0.6390807309960873, null], \"y\": [-0.20657397924490542, -0.16041437756341656, null]}, {\"line\": {\"color\": \"Blue\", \"width\": 1}, \"mode\": \"lines\", \"type\": \"scatter\", \"x\": [0.4072351358316921, 0.37523535893892773, null], \"y\": [-0.23212516046040627, -0.19585107994396775, null]}, {\"line\": {\"color\": \"Blue\", \"width\": 1}, \"mode\": \"lines\", \"type\": \"scatter\", \"x\": [0.7998103973909387, 0.9543630216274906, null], \"y\": [0.1909691043497301, 0.2617030176876506, null]}, {\"line\": {\"color\": \"Blue\", \"width\": 1}, \"mode\": \"lines\", \"type\": \"scatter\", \"x\": [0.9543630216274906, 0.9275271391118343, null], \"y\": [0.2617030176876506, 0.2758743169175661, null]}, {\"line\": {\"color\": \"Blue\", \"width\": 1}, \"mode\": \"lines\", \"type\": \"scatter\", \"x\": [-0.5723632135824303, -0.6099103133446572, null], \"y\": [0.5070896871613674, 0.5558973642819145, null]}, {\"line\": {\"color\": \"Blue\", \"width\": 1}, \"mode\": \"lines\", \"type\": \"scatter\", \"x\": [0.6647688735137282, 0.6424500640065746, null], \"y\": [-0.22025851553326448, -0.20657397924490542, null]}, {\"line\": {\"color\": \"Blue\", \"width\": 1}, \"mode\": \"lines\", \"type\": \"scatter\", \"x\": [0.6298921751889827, 0.37523535893892773, null], \"y\": [-0.24600281176296188, -0.19585107994396775, null]}, {\"line\": {\"color\": \"Blue\", \"width\": 1}, \"mode\": \"lines\", \"type\": \"scatter\", \"x\": [0.6298921751889827, 0.8849616433314168, null], \"y\": [-0.24600281176296188, -0.29093288709487114, null]}, {\"line\": {\"color\": \"Blue\", \"width\": 1}, \"mode\": \"lines\", \"type\": \"scatter\", \"x\": [0.6354634206992088, 0.6390807309960873, null], \"y\": [-0.11861168603167521, -0.16041437756341656, null]}, {\"line\": {\"color\": \"Blue\", \"width\": 1}, \"mode\": \"lines\", \"type\": \"scatter\", \"x\": [0.09647659824460597, 0.07729952643531772, null], \"y\": [0.17002112082562654, 0.22800586877246445, null]}, {\"line\": {\"color\": \"Blue\", \"width\": 1}, \"mode\": \"lines\", \"type\": \"scatter\", \"x\": [0.07430519338893916, 0.07729952643531772, null], \"y\": [0.16672387095799987, 0.22800586877246445, null]}, {\"line\": {\"color\": \"Blue\", \"width\": 1}, \"mode\": \"lines\", \"type\": \"scatter\", \"x\": [-0.6318877515424707, -0.6355184946698897, null], \"y\": [0.11489535246928222, 0.05355667188693692, null]}, {\"line\": {\"color\": \"Blue\", \"width\": 1}, \"mode\": \"lines\", \"type\": \"scatter\", \"x\": [-0.10106238334901295, -0.05155337576046852, null], \"y\": [0.6099537658176706, 0.5906982789182788, null]}, {\"line\": {\"color\": \"Blue\", \"width\": 1}, \"mode\": \"lines\", \"type\": \"scatter\", \"x\": [0.04711738869673599, 0.00653569783664845, null], \"y\": [0.5885258299543082, 0.5618936901220456, null]}],\n",
       "                        {\"hovermode\": \"closest\", \"showlegend\": false, \"template\": {\"data\": {\"bar\": [{\"error_x\": {\"color\": \"#2a3f5f\"}, \"error_y\": {\"color\": \"#2a3f5f\"}, \"marker\": {\"line\": {\"color\": \"#E5ECF6\", \"width\": 0.5}}, \"type\": \"bar\"}], \"barpolar\": [{\"marker\": {\"line\": {\"color\": \"#E5ECF6\", \"width\": 0.5}}, \"type\": \"barpolar\"}], \"carpet\": [{\"aaxis\": {\"endlinecolor\": \"#2a3f5f\", \"gridcolor\": \"white\", \"linecolor\": \"white\", \"minorgridcolor\": \"white\", \"startlinecolor\": \"#2a3f5f\"}, \"baxis\": {\"endlinecolor\": \"#2a3f5f\", \"gridcolor\": \"white\", \"linecolor\": \"white\", \"minorgridcolor\": \"white\", \"startlinecolor\": \"#2a3f5f\"}, \"type\": \"carpet\"}], \"choropleth\": [{\"colorbar\": {\"outlinewidth\": 0, \"ticks\": \"\"}, \"type\": \"choropleth\"}], \"contour\": [{\"colorbar\": {\"outlinewidth\": 0, \"ticks\": \"\"}, \"colorscale\": [[0.0, \"#0d0887\"], [0.1111111111111111, \"#46039f\"], [0.2222222222222222, \"#7201a8\"], [0.3333333333333333, \"#9c179e\"], [0.4444444444444444, \"#bd3786\"], [0.5555555555555556, \"#d8576b\"], [0.6666666666666666, \"#ed7953\"], [0.7777777777777778, \"#fb9f3a\"], [0.8888888888888888, \"#fdca26\"], [1.0, \"#f0f921\"]], \"type\": \"contour\"}], \"contourcarpet\": [{\"colorbar\": {\"outlinewidth\": 0, \"ticks\": \"\"}, \"type\": \"contourcarpet\"}], \"heatmap\": [{\"colorbar\": {\"outlinewidth\": 0, \"ticks\": \"\"}, \"colorscale\": [[0.0, \"#0d0887\"], [0.1111111111111111, \"#46039f\"], [0.2222222222222222, \"#7201a8\"], [0.3333333333333333, \"#9c179e\"], [0.4444444444444444, \"#bd3786\"], [0.5555555555555556, \"#d8576b\"], [0.6666666666666666, \"#ed7953\"], [0.7777777777777778, \"#fb9f3a\"], [0.8888888888888888, \"#fdca26\"], [1.0, \"#f0f921\"]], \"type\": \"heatmap\"}], \"heatmapgl\": [{\"colorbar\": {\"outlinewidth\": 0, \"ticks\": \"\"}, \"colorscale\": [[0.0, \"#0d0887\"], [0.1111111111111111, \"#46039f\"], [0.2222222222222222, \"#7201a8\"], [0.3333333333333333, \"#9c179e\"], [0.4444444444444444, \"#bd3786\"], [0.5555555555555556, \"#d8576b\"], [0.6666666666666666, \"#ed7953\"], [0.7777777777777778, \"#fb9f3a\"], [0.8888888888888888, \"#fdca26\"], [1.0, \"#f0f921\"]], \"type\": \"heatmapgl\"}], \"histogram\": [{\"marker\": {\"colorbar\": {\"outlinewidth\": 0, \"ticks\": \"\"}}, \"type\": \"histogram\"}], \"histogram2d\": [{\"colorbar\": {\"outlinewidth\": 0, \"ticks\": \"\"}, \"colorscale\": [[0.0, \"#0d0887\"], [0.1111111111111111, \"#46039f\"], [0.2222222222222222, \"#7201a8\"], [0.3333333333333333, \"#9c179e\"], [0.4444444444444444, \"#bd3786\"], [0.5555555555555556, \"#d8576b\"], [0.6666666666666666, \"#ed7953\"], [0.7777777777777778, \"#fb9f3a\"], [0.8888888888888888, \"#fdca26\"], [1.0, \"#f0f921\"]], \"type\": \"histogram2d\"}], \"histogram2dcontour\": [{\"colorbar\": {\"outlinewidth\": 0, \"ticks\": \"\"}, \"colorscale\": [[0.0, \"#0d0887\"], [0.1111111111111111, \"#46039f\"], [0.2222222222222222, \"#7201a8\"], [0.3333333333333333, \"#9c179e\"], [0.4444444444444444, \"#bd3786\"], [0.5555555555555556, \"#d8576b\"], [0.6666666666666666, \"#ed7953\"], [0.7777777777777778, \"#fb9f3a\"], [0.8888888888888888, \"#fdca26\"], [1.0, \"#f0f921\"]], \"type\": \"histogram2dcontour\"}], \"mesh3d\": [{\"colorbar\": {\"outlinewidth\": 0, \"ticks\": \"\"}, \"type\": \"mesh3d\"}], \"parcoords\": [{\"line\": {\"colorbar\": {\"outlinewidth\": 0, \"ticks\": \"\"}}, \"type\": \"parcoords\"}], \"pie\": [{\"automargin\": true, \"type\": \"pie\"}], \"scatter\": [{\"marker\": {\"colorbar\": {\"outlinewidth\": 0, \"ticks\": \"\"}}, \"type\": \"scatter\"}], \"scatter3d\": [{\"line\": {\"colorbar\": {\"outlinewidth\": 0, \"ticks\": \"\"}}, \"marker\": {\"colorbar\": {\"outlinewidth\": 0, \"ticks\": \"\"}}, \"type\": \"scatter3d\"}], \"scattercarpet\": [{\"marker\": {\"colorbar\": {\"outlinewidth\": 0, \"ticks\": \"\"}}, \"type\": \"scattercarpet\"}], \"scattergeo\": [{\"marker\": {\"colorbar\": {\"outlinewidth\": 0, \"ticks\": \"\"}}, \"type\": \"scattergeo\"}], \"scattergl\": [{\"marker\": {\"colorbar\": {\"outlinewidth\": 0, \"ticks\": \"\"}}, \"type\": \"scattergl\"}], \"scattermapbox\": [{\"marker\": {\"colorbar\": {\"outlinewidth\": 0, \"ticks\": \"\"}}, \"type\": \"scattermapbox\"}], \"scatterpolar\": [{\"marker\": {\"colorbar\": {\"outlinewidth\": 0, \"ticks\": \"\"}}, \"type\": \"scatterpolar\"}], \"scatterpolargl\": [{\"marker\": {\"colorbar\": {\"outlinewidth\": 0, \"ticks\": \"\"}}, \"type\": \"scatterpolargl\"}], \"scatterternary\": [{\"marker\": {\"colorbar\": {\"outlinewidth\": 0, \"ticks\": \"\"}}, \"type\": \"scatterternary\"}], \"surface\": [{\"colorbar\": {\"outlinewidth\": 0, \"ticks\": \"\"}, \"colorscale\": [[0.0, \"#0d0887\"], [0.1111111111111111, \"#46039f\"], [0.2222222222222222, \"#7201a8\"], [0.3333333333333333, \"#9c179e\"], [0.4444444444444444, \"#bd3786\"], [0.5555555555555556, \"#d8576b\"], [0.6666666666666666, \"#ed7953\"], [0.7777777777777778, \"#fb9f3a\"], [0.8888888888888888, \"#fdca26\"], [1.0, \"#f0f921\"]], \"type\": \"surface\"}], \"table\": [{\"cells\": {\"fill\": {\"color\": \"#EBF0F8\"}, \"line\": {\"color\": \"white\"}}, \"header\": {\"fill\": {\"color\": \"#C8D4E3\"}, \"line\": {\"color\": \"white\"}}, \"type\": \"table\"}]}, \"layout\": {\"annotationdefaults\": {\"arrowcolor\": \"#2a3f5f\", \"arrowhead\": 0, \"arrowwidth\": 1}, \"coloraxis\": {\"colorbar\": {\"outlinewidth\": 0, \"ticks\": \"\"}}, \"colorscale\": {\"diverging\": [[0, \"#8e0152\"], [0.1, \"#c51b7d\"], [0.2, \"#de77ae\"], [0.3, \"#f1b6da\"], [0.4, \"#fde0ef\"], [0.5, \"#f7f7f7\"], [0.6, \"#e6f5d0\"], [0.7, \"#b8e186\"], [0.8, \"#7fbc41\"], [0.9, \"#4d9221\"], [1, \"#276419\"]], \"sequential\": [[0.0, \"#0d0887\"], [0.1111111111111111, \"#46039f\"], [0.2222222222222222, \"#7201a8\"], [0.3333333333333333, \"#9c179e\"], [0.4444444444444444, \"#bd3786\"], [0.5555555555555556, \"#d8576b\"], [0.6666666666666666, \"#ed7953\"], [0.7777777777777778, \"#fb9f3a\"], [0.8888888888888888, \"#fdca26\"], [1.0, \"#f0f921\"]], \"sequentialminus\": [[0.0, \"#0d0887\"], [0.1111111111111111, \"#46039f\"], [0.2222222222222222, \"#7201a8\"], [0.3333333333333333, \"#9c179e\"], [0.4444444444444444, \"#bd3786\"], [0.5555555555555556, \"#d8576b\"], [0.6666666666666666, \"#ed7953\"], [0.7777777777777778, \"#fb9f3a\"], [0.8888888888888888, \"#fdca26\"], [1.0, \"#f0f921\"]]}, \"colorway\": [\"#636efa\", \"#EF553B\", \"#00cc96\", \"#ab63fa\", \"#FFA15A\", \"#19d3f3\", \"#FF6692\", \"#B6E880\", \"#FF97FF\", \"#FECB52\"], \"font\": {\"color\": \"#2a3f5f\"}, \"geo\": {\"bgcolor\": \"white\", \"lakecolor\": \"white\", \"landcolor\": \"#E5ECF6\", \"showlakes\": true, \"showland\": true, \"subunitcolor\": \"white\"}, \"hoverlabel\": {\"align\": \"left\"}, \"hovermode\": \"closest\", \"mapbox\": {\"style\": \"light\"}, \"paper_bgcolor\": \"white\", \"plot_bgcolor\": \"#E5ECF6\", \"polar\": {\"angularaxis\": {\"gridcolor\": \"white\", \"linecolor\": \"white\", \"ticks\": \"\"}, \"bgcolor\": \"#E5ECF6\", \"radialaxis\": {\"gridcolor\": \"white\", \"linecolor\": \"white\", \"ticks\": \"\"}}, \"scene\": {\"xaxis\": {\"backgroundcolor\": \"#E5ECF6\", \"gridcolor\": \"white\", \"gridwidth\": 2, \"linecolor\": \"white\", \"showbackground\": true, \"ticks\": \"\", \"zerolinecolor\": \"white\"}, \"yaxis\": {\"backgroundcolor\": \"#E5ECF6\", \"gridcolor\": \"white\", \"gridwidth\": 2, \"linecolor\": \"white\", \"showbackground\": true, \"ticks\": \"\", \"zerolinecolor\": \"white\"}, \"zaxis\": {\"backgroundcolor\": \"#E5ECF6\", \"gridcolor\": \"white\", \"gridwidth\": 2, \"linecolor\": \"white\", \"showbackground\": true, \"ticks\": \"\", \"zerolinecolor\": \"white\"}}, \"shapedefaults\": {\"line\": {\"color\": \"#2a3f5f\"}}, \"ternary\": {\"aaxis\": {\"gridcolor\": \"white\", \"linecolor\": \"white\", \"ticks\": \"\"}, \"baxis\": {\"gridcolor\": \"white\", \"linecolor\": \"white\", \"ticks\": \"\"}, \"bgcolor\": \"#E5ECF6\", \"caxis\": {\"gridcolor\": \"white\", \"linecolor\": \"white\", \"ticks\": \"\"}}, \"title\": {\"x\": 0.05}, \"xaxis\": {\"automargin\": true, \"gridcolor\": \"white\", \"linecolor\": \"white\", \"ticks\": \"\", \"title\": {\"standoff\": 15}, \"zerolinecolor\": \"white\", \"zerolinewidth\": 2}, \"yaxis\": {\"automargin\": true, \"gridcolor\": \"white\", \"linecolor\": \"white\", \"ticks\": \"\", \"title\": {\"standoff\": 15}, \"zerolinecolor\": \"white\", \"zerolinewidth\": 2}}}, \"title\": {\"text\": \"Network of Trips\"}},\n",
       "                        {\"responsive\": true}\n",
       "                    ).then(function(){\n",
       "                            \n",
       "var gd = document.getElementById('ae0be508-2b07-4487-be75-c9990460d6cc');\n",
       "var x = new MutationObserver(function (mutations, observer) {{\n",
       "        var display = window.getComputedStyle(gd).display;\n",
       "        if (!display || display === 'none') {{\n",
       "            console.log([gd, 'removed!']);\n",
       "            Plotly.purge(gd);\n",
       "            observer.disconnect();\n",
       "        }}\n",
       "}});\n",
       "\n",
       "// Listen for the removal of the full notebook cells\n",
       "var notebookContainer = gd.closest('#notebook-container');\n",
       "if (notebookContainer) {{\n",
       "    x.observe(notebookContainer, {childList: true});\n",
       "}}\n",
       "\n",
       "// Listen for the clearing of the current output cell\n",
       "var outputEl = gd.closest('.output');\n",
       "if (outputEl) {{\n",
       "    x.observe(outputEl, {childList: true});\n",
       "}}\n",
       "\n",
       "                        })\n",
       "                };\n",
       "                });\n",
       "            </script>\n",
       "        </div>"
      ]
     },
     "metadata": {},
     "output_type": "display_data"
    }
   ],
   "source": [
    "go.Figure(figure)"
   ]
  },
  {
   "cell_type": "markdown",
   "metadata": {},
   "source": [
    "On hovering over the nodes, one can see the name of the location it refers to. There are few thick lines but the majority edges are thin, signifying that very few trips are made between the two nodes. \n",
    "\n",
    "There are two clusters with very thick lines in between. These can be analysed by zooming into the plot. \n",
    "\n",
    "Cary and Morriville have the maximum no. of trips whereas the most locations are travelled to and from Whitebridge. "
   ]
  },
  {
   "cell_type": "markdown",
   "metadata": {},
   "source": [
    "This was the network for all the locations present in the dataset. Now one can study the network considering the most frequent starting locations. For that purpose, a filtered dataframe is made where the start locations are the top 10 most frequented ones."
   ]
  },
  {
   "cell_type": "code",
   "execution_count": 19,
   "metadata": {},
   "outputs": [],
   "source": [
    "# filtered dataframe\n",
    "most_frequent_starts = df['START*'].value_counts().nlargest(10).index\n",
    "\n",
    "df_filtered = df[df['START*'].isin(most_frequent_starts)]"
   ]
  },
  {
   "cell_type": "markdown",
   "metadata": {},
   "source": [
    "A directed graph is made. The no. of trips are added as edge attributes. The circular layout is used this time to define the positions of the nodes. "
   ]
  },
  {
   "cell_type": "code",
   "execution_count": 44,
   "metadata": {},
   "outputs": [],
   "source": [
    "# making the graph/network\n",
    "G1 = nx.from_pandas_edgelist(df_filtered, source='START*', target='STOP*', \n",
    "                            create_using=nx.DiGraph())"
   ]
  },
  {
   "cell_type": "code",
   "execution_count": 45,
   "metadata": {},
   "outputs": [],
   "source": [
    "# making the edge attributes dataframe\n",
    "df_edge = df_filtered.groupby(['START*', 'STOP*'], as_index=False)['MILES*'].count()"
   ]
  },
  {
   "cell_type": "code",
   "execution_count": 46,
   "metadata": {},
   "outputs": [],
   "source": [
    "# adding the trip_loc column\n",
    "trip_loc = [tuple([df_edge.loc[i]['START*'], df_edge.loc[i]['STOP*']]) for i in range(len(df_edge))]\n",
    "\n",
    "df_edge['trip_loc'] = trip_loc"
   ]
  },
  {
   "cell_type": "code",
   "execution_count": 47,
   "metadata": {},
   "outputs": [],
   "source": [
    "# loop to iterate over the edges\n",
    "for i in range(len(df_edge)):\n",
    "    \n",
    "    edge = df_edge.iloc[i]['trip_loc']                   # extracting the edge\n",
    "    d = {'Trips':df_edge.iloc[i]['MILES*']}              # dictionary to store the count of trips for that edge\n",
    "    G1.edges()[edge].update(d)                            # adding the attribute"
   ]
  },
  {
   "cell_type": "code",
   "execution_count": 48,
   "metadata": {},
   "outputs": [],
   "source": [
    "# defining the position of the nodes\n",
    "pos = nx.circular_layout(G1)\n",
    "\n",
    "# adding the position in the form of a dictionary to the nodes\n",
    "for node in G1.nodes:\n",
    "    G1.nodes[node]['pos'] = list(pos[node])"
   ]
  },
  {
   "cell_type": "code",
   "execution_count": 49,
   "metadata": {},
   "outputs": [],
   "source": [
    "# Make a node trace\n",
    "\n",
    "traceRecode = []                    # list to store all the traces\n",
    "\n",
    "# initialise a node trace\n",
    "node_trace = go.Scatter(x=[], y=[], hovertext=[], mode='markers', hoverinfo=\"text\", \n",
    "                        marker=dict(showscale=True, reversescale=True,\n",
    "                                    color=[], size=5, colorbar=dict(thickness=10, title='No. of unique locations travelled to or from',\n",
    "                                                                    xanchor='left', titleside='right'),\n",
    "                                    colorscale=\"rdylbu\"))\n",
    "\n",
    "# adding the coordinate position of the nodes\n",
    "for node in G1.nodes():\n",
    "    x, y = G1.nodes()[node]['pos']\n",
    "    hovertext = node\n",
    "    node_trace['x'] += tuple([x])\n",
    "    node_trace['y'] += tuple([y])\n",
    "    node_trace['hovertext'] += tuple([hovertext])          # add the hovertext (name of the location)\n",
    "\n",
    "# specify the color of the node\n",
    "for node, adjacencies in enumerate(G1.adjacency()):\n",
    "    try:\n",
    "        node_trace['marker']['color']+=tuple([len(adjacencies[1])])\n",
    "    except:\n",
    "        pass\n",
    "    \n",
    "traceRecode.append(node_trace)                     # adding the node trace"
   ]
  },
  {
   "cell_type": "markdown",
   "metadata": {},
   "source": [
    "In this case, the width of the edges is constant."
   ]
  },
  {
   "cell_type": "code",
   "execution_count": 50,
   "metadata": {},
   "outputs": [],
   "source": [
    "# Make an edge trace\n",
    "\n",
    "for edge in G1.edges:\n",
    "    x0, y0 = G1.nodes()[edge[0]]['pos']\n",
    "    x1, y1 = G1.nodes()[edge[1]]['pos']\n",
    "    \n",
    "    trace = go.Scatter(x=tuple([x0, x1, None]), y=tuple([y0, y1, None]),    # defining the edge trace\n",
    "                       mode='lines',\n",
    "                       line=dict(width=0.5,color='Blue'))\n",
    "    traceRecode.append(trace)                         # adding the edge trace"
   ]
  },
  {
   "cell_type": "code",
   "execution_count": 53,
   "metadata": {},
   "outputs": [],
   "source": [
    "figure1 = {\n",
    "    \"data\": traceRecode,\n",
    "    \"layout\": go.Layout(title='Network of Trips for most frequent start locations', showlegend=False, hovermode='closest')}"
   ]
  },
  {
   "cell_type": "code",
   "execution_count": 55,
   "metadata": {},
   "outputs": [
    {
     "data": {
      "application/vnd.plotly.v1+json": {
       "config": {
        "plotlyServerURL": "https://plot.ly"
       },
       "data": [
        {
         "hoverinfo": "text",
         "hovertext": [
          "Cary",
          "Morrisville",
          "Midtown",
          "East Harlem",
          "Midtown East",
          "Hudson Square",
          "Durham",
          "Whitebridge",
          "Lake Wellingborough",
          "Raleigh",
          "Hazelwood",
          "Westpark Place",
          "Apex",
          "Chapel Hill",
          "Williamsburg Manor",
          "Macgregor Downs",
          "Edgehill Farms",
          "Northwoods",
          "Midtown West",
          "Preston",
          "Heritage Pines",
          "Tanglewood",
          "Waverly Place",
          "Wayne Ridge",
          "Alief",
          "Sharpstown",
          "Washington Avenue",
          "Downtown",
          "Greater Greenspoint",
          "Latta",
          "Kissimmee",
          "Orlando",
          "Daytona Beach",
          "Holly Springs",
          "Burtrose",
          "Savon Height",
          "Kildaire Farms",
          "Berkeley",
          "Oakland",
          "Summerwinds",
          "Banner Elk",
          "Stonewater",
          "Chessington",
          "Parkway",
          "Arlington Park at Amberly",
          "Farmington Woods",
          "Wake Forest",
          "Emeryville",
          "San Jose",
          "Eagle Rock",
          "Winston Salem",
          "San Francisco",
          "Menlo Park",
          "Mountain View",
          "El Cerrito",
          "Unknown Location",
          "Wake Co.",
          "Fuquay-Varina"
         ],
         "marker": {
          "color": [
           13,
           4,
           10,
           0,
           0,
           0,
           3,
           22,
           0,
           3,
           0,
           2,
           4,
           0,
           0,
           0,
           0,
           0,
           0,
           0,
           0,
           0,
           0,
           0,
           0,
           0,
           0,
           0,
           0,
           0,
           3,
           0,
           0,
           0,
           0,
           0,
           0,
           7,
           0,
           0,
           0,
           0,
           0,
           0,
           0,
           0,
           0,
           0,
           0,
           0,
           0,
           0,
           0,
           0,
           0,
           0,
           0,
           0
          ],
          "colorbar": {
           "thickness": 10,
           "title": {
            "side": "right",
            "text": "No. of unique locations travelled to or from"
           },
           "xanchor": "left"
          },
          "colorscale": [
           [
            0,
            "rgb(165,0,38)"
           ],
           [
            0.1,
            "rgb(215,48,39)"
           ],
           [
            0.2,
            "rgb(244,109,67)"
           ],
           [
            0.3,
            "rgb(253,174,97)"
           ],
           [
            0.4,
            "rgb(254,224,144)"
           ],
           [
            0.5,
            "rgb(255,255,191)"
           ],
           [
            0.6,
            "rgb(224,243,248)"
           ],
           [
            0.7,
            "rgb(171,217,233)"
           ],
           [
            0.8,
            "rgb(116,173,209)"
           ],
           [
            0.9,
            "rgb(69,117,180)"
           ],
           [
            1,
            "rgb(49,54,149)"
           ]
          ],
          "reversescale": true,
          "showscale": true,
          "size": 5
         },
         "mode": "markers",
         "type": "scatter",
         "x": [
          1,
          0.9941379427977624,
          0.9766205549510408,
          0.9476531744608491,
          0.9075754285927247,
          0.8568571807608889,
          0.7960931065055782,
          0.7259954813310351,
          0.6473863128924066,
          0.5611870889968549,
          0.4684084063953784,
          0.3701381690631597,
          0.26752841557308576,
          0.16178199745765562,
          0.05413895582237498,
          -0.05413892370780348,
          -0.1617819653430841,
          -0.2675283536561919,
          -0.3701381071462658,
          -0.4684083444784845,
          -0.5611871462892505,
          -0.6473863105801575,
          -0.725995479018786,
          -0.7960929849840397,
          -0.8568571188439951,
          -0.9075754262804756,
          -0.9476531721486,
          -0.9766205526387918,
          -0.9941379404855133,
          -0.9999999976877509,
          -0.9941379404855133,
          -0.9766205526387918,
          -0.9476531721486,
          -0.9075753666758309,
          -0.8568571784486398,
          -0.7960931041933291,
          -0.7259955386234307,
          -0.6473863701848022,
          -0.5611872058938951,
          -0.46840864250170805,
          -0.37013798793697644,
          -0.2675282046445801,
          -0.1617819057384394,
          -0.05413886782844907,
          0.054138892492439986,
          0.1617819378530109,
          0.2675282069568293,
          0.3701379902492256,
          0.46840822758144424,
          0.5611872082061442,
          0.6473863724970512,
          0.7259955409356798,
          0.7960931065055782,
          0.8568571807608889,
          0.90757536898808,
          0.9476531148562043,
          0.9766204953463961,
          0.9941380024024071
         ],
         "y": [
          -3.3741256186789116e-09,
          0.10811901487674891,
          0.2149704360498119,
          0.31930151207436425,
          0.4198890885858038,
          0.5155538876886128,
          0.6051741797717377,
          0.6876994329722266,
          0.7621620254879147,
          0.8276889876924308,
          0.8835120753201531,
          0.928976710162915,
          0.9635499670923959,
          0.9868265345245918,
          0.9985334231867469,
          0.9985334231867469,
          0.9868265345245918,
          0.9635499670923959,
          0.928976710162915,
          0.8835120753201531,
          0.8276889280877862,
          0.7621620254879147,
          0.6876994925768714,
          0.605174298981027,
          0.5155539472932575,
          0.4198890289811591,
          0.31930151207436425,
          0.21497048075329542,
          0.10811911173429654,
          -9.079690209108315e-08,
          -0.10811905887790307,
          -0.21497042789690193,
          -0.3193014592179708,
          -0.4198892145433445,
          -0.5155538944368641,
          -0.6051741865199889,
          -0.6876993801158332,
          -0.7621619726315213,
          -0.8276888752313927,
          -0.883511962859115,
          -0.928976776515811,
          -0.963550033445292,
          -0.9868265412728431,
          -0.9985334299349982,
          -0.9985334299349982,
          -0.9868265412728431,
          -0.963550033445292,
          -0.928976776515811,
          -0.8835121416730491,
          -0.8276888752313927,
          -0.7621619726315213,
          -0.6876993801158332,
          -0.6051741865199889,
          -0.5155538944368641,
          -0.41988918474102216,
          -0.3193016678342273,
          -0.21497062161199723,
          -0.10811879810758249
         ]
        },
        {
         "line": {
          "color": "Blue",
          "width": 0.5
         },
         "mode": "lines",
         "type": "scatter",
         "x": [
          1,
          1,
          null
         ],
         "y": [
          -3.3741256186789116e-09,
          -3.3741256186789116e-09,
          null
         ]
        },
        {
         "line": {
          "color": "Blue",
          "width": 0.5
         },
         "mode": "lines",
         "type": "scatter",
         "x": [
          1,
          0.9941379427977624,
          null
         ],
         "y": [
          -3.3741256186789116e-09,
          0.10811901487674891,
          null
         ]
        },
        {
         "line": {
          "color": "Blue",
          "width": 0.5
         },
         "mode": "lines",
         "type": "scatter",
         "x": [
          1,
          0.7960931065055782,
          null
         ],
         "y": [
          -3.3741256186789116e-09,
          0.6051741797717377,
          null
         ]
        },
        {
         "line": {
          "color": "Blue",
          "width": 0.5
         },
         "mode": "lines",
         "type": "scatter",
         "x": [
          1,
          0.5611870889968549,
          null
         ],
         "y": [
          -3.3741256186789116e-09,
          0.8276889876924308,
          null
         ]
        },
        {
         "line": {
          "color": "Blue",
          "width": 0.5
         },
         "mode": "lines",
         "type": "scatter",
         "x": [
          1,
          0.26752841557308576,
          null
         ],
         "y": [
          -3.3741256186789116e-09,
          0.9635499670923959,
          null
         ]
        },
        {
         "line": {
          "color": "Blue",
          "width": 0.5
         },
         "mode": "lines",
         "type": "scatter",
         "x": [
          1,
          0.16178199745765562,
          null
         ],
         "y": [
          -3.3741256186789116e-09,
          0.9868265345245918,
          null
         ]
        },
        {
         "line": {
          "color": "Blue",
          "width": 0.5
         },
         "mode": "lines",
         "type": "scatter",
         "x": [
          1,
          -0.9999999976877509,
          null
         ],
         "y": [
          -3.3741256186789116e-09,
          -9.079690209108315e-08,
          null
         ]
        },
        {
         "line": {
          "color": "Blue",
          "width": 0.5
         },
         "mode": "lines",
         "type": "scatter",
         "x": [
          1,
          -0.9075753666758309,
          null
         ],
         "y": [
          -3.3741256186789116e-09,
          -0.4198892145433445,
          null
         ]
        },
        {
         "line": {
          "color": "Blue",
          "width": 0.5
         },
         "mode": "lines",
         "type": "scatter",
         "x": [
          1,
          0.2675282069568293,
          null
         ],
         "y": [
          -3.3741256186789116e-09,
          -0.963550033445292,
          null
         ]
        },
        {
         "line": {
          "color": "Blue",
          "width": 0.5
         },
         "mode": "lines",
         "type": "scatter",
         "x": [
          1,
          0.6473863724970512,
          null
         ],
         "y": [
          -3.3741256186789116e-09,
          -0.7621619726315213,
          null
         ]
        },
        {
         "line": {
          "color": "Blue",
          "width": 0.5
         },
         "mode": "lines",
         "type": "scatter",
         "x": [
          1,
          0.9476531148562043,
          null
         ],
         "y": [
          -3.3741256186789116e-09,
          -0.3193016678342273,
          null
         ]
        },
        {
         "line": {
          "color": "Blue",
          "width": 0.5
         },
         "mode": "lines",
         "type": "scatter",
         "x": [
          1,
          0.9766204953463961,
          null
         ],
         "y": [
          -3.3741256186789116e-09,
          -0.21497062161199723,
          null
         ]
        },
        {
         "line": {
          "color": "Blue",
          "width": 0.5
         },
         "mode": "lines",
         "type": "scatter",
         "x": [
          1,
          0.9941380024024071,
          null
         ],
         "y": [
          -3.3741256186789116e-09,
          -0.10811879810758249,
          null
         ]
        },
        {
         "line": {
          "color": "Blue",
          "width": 0.5
         },
         "mode": "lines",
         "type": "scatter",
         "x": [
          0.9941379427977624,
          1,
          null
         ],
         "y": [
          0.10811901487674891,
          -3.3741256186789116e-09,
          null
         ]
        },
        {
         "line": {
          "color": "Blue",
          "width": 0.5
         },
         "mode": "lines",
         "type": "scatter",
         "x": [
          0.9941379427977624,
          0.5611870889968549,
          null
         ],
         "y": [
          0.10811901487674891,
          0.8276889876924308,
          null
         ]
        },
        {
         "line": {
          "color": "Blue",
          "width": 0.5
         },
         "mode": "lines",
         "type": "scatter",
         "x": [
          0.9941379427977624,
          0.9941379427977624,
          null
         ],
         "y": [
          0.10811901487674891,
          0.10811901487674891,
          null
         ]
        },
        {
         "line": {
          "color": "Blue",
          "width": 0.5
         },
         "mode": "lines",
         "type": "scatter",
         "x": [
          0.9941379427977624,
          -0.37013798793697644,
          null
         ],
         "y": [
          0.10811901487674891,
          -0.928976776515811,
          null
         ]
        },
        {
         "line": {
          "color": "Blue",
          "width": 0.5
         },
         "mode": "lines",
         "type": "scatter",
         "x": [
          0.9766205549510408,
          0.9476531744608491,
          null
         ],
         "y": [
          0.2149704360498119,
          0.31930151207436425,
          null
         ]
        },
        {
         "line": {
          "color": "Blue",
          "width": 0.5
         },
         "mode": "lines",
         "type": "scatter",
         "x": [
          0.9766205549510408,
          0.9075754285927247,
          null
         ],
         "y": [
          0.2149704360498119,
          0.4198890885858038,
          null
         ]
        },
        {
         "line": {
          "color": "Blue",
          "width": 0.5
         },
         "mode": "lines",
         "type": "scatter",
         "x": [
          0.9766205549510408,
          0.8568571807608889,
          null
         ],
         "y": [
          0.2149704360498119,
          0.5155538876886128,
          null
         ]
        },
        {
         "line": {
          "color": "Blue",
          "width": 0.5
         },
         "mode": "lines",
         "type": "scatter",
         "x": [
          0.9766205549510408,
          -0.3701381071462658,
          null
         ],
         "y": [
          0.2149704360498119,
          0.928976710162915,
          null
         ]
        },
        {
         "line": {
          "color": "Blue",
          "width": 0.5
         },
         "mode": "lines",
         "type": "scatter",
         "x": [
          0.9766205549510408,
          -0.8568571188439951,
          null
         ],
         "y": [
          0.2149704360498119,
          0.5155539472932575,
          null
         ]
        },
        {
         "line": {
          "color": "Blue",
          "width": 0.5
         },
         "mode": "lines",
         "type": "scatter",
         "x": [
          0.9766205549510408,
          0.9766205549510408,
          null
         ],
         "y": [
          0.2149704360498119,
          0.2149704360498119,
          null
         ]
        },
        {
         "line": {
          "color": "Blue",
          "width": 0.5
         },
         "mode": "lines",
         "type": "scatter",
         "x": [
          0.9766205549510408,
          -0.9075754262804756,
          null
         ],
         "y": [
          0.2149704360498119,
          0.4198890289811591,
          null
         ]
        },
        {
         "line": {
          "color": "Blue",
          "width": 0.5
         },
         "mode": "lines",
         "type": "scatter",
         "x": [
          0.9766205549510408,
          -0.9476531721486,
          null
         ],
         "y": [
          0.2149704360498119,
          0.31930151207436425,
          null
         ]
        },
        {
         "line": {
          "color": "Blue",
          "width": 0.5
         },
         "mode": "lines",
         "type": "scatter",
         "x": [
          0.9766205549510408,
          -0.9766205526387918,
          null
         ],
         "y": [
          0.2149704360498119,
          0.21497048075329542,
          null
         ]
        },
        {
         "line": {
          "color": "Blue",
          "width": 0.5
         },
         "mode": "lines",
         "type": "scatter",
         "x": [
          0.9766205549510408,
          -0.9941379404855133,
          null
         ],
         "y": [
          0.2149704360498119,
          0.10811911173429654,
          null
         ]
        },
        {
         "line": {
          "color": "Blue",
          "width": 0.5
         },
         "mode": "lines",
         "type": "scatter",
         "x": [
          0.7960931065055782,
          1,
          null
         ],
         "y": [
          0.6051741797717377,
          -3.3741256186789116e-09,
          null
         ]
        },
        {
         "line": {
          "color": "Blue",
          "width": 0.5
         },
         "mode": "lines",
         "type": "scatter",
         "x": [
          0.7960931065055782,
          0.9941379427977624,
          null
         ],
         "y": [
          0.6051741797717377,
          0.10811901487674891,
          null
         ]
        },
        {
         "line": {
          "color": "Blue",
          "width": 0.5
         },
         "mode": "lines",
         "type": "scatter",
         "x": [
          0.7960931065055782,
          0.26752841557308576,
          null
         ],
         "y": [
          0.6051741797717377,
          0.9635499670923959,
          null
         ]
        },
        {
         "line": {
          "color": "Blue",
          "width": 0.5
         },
         "mode": "lines",
         "type": "scatter",
         "x": [
          0.7259954813310351,
          0.6473863128924066,
          null
         ],
         "y": [
          0.6876994329722266,
          0.7621620254879147,
          null
         ]
        },
        {
         "line": {
          "color": "Blue",
          "width": 0.5
         },
         "mode": "lines",
         "type": "scatter",
         "x": [
          0.7259954813310351,
          0.4684084063953784,
          null
         ],
         "y": [
          0.6876994329722266,
          0.8835120753201531,
          null
         ]
        },
        {
         "line": {
          "color": "Blue",
          "width": 0.5
         },
         "mode": "lines",
         "type": "scatter",
         "x": [
          0.7259954813310351,
          0.3701381690631597,
          null
         ],
         "y": [
          0.6876994329722266,
          0.928976710162915,
          null
         ]
        },
        {
         "line": {
          "color": "Blue",
          "width": 0.5
         },
         "mode": "lines",
         "type": "scatter",
         "x": [
          0.7259954813310351,
          0.05413895582237498,
          null
         ],
         "y": [
          0.6876994329722266,
          0.9985334231867469,
          null
         ]
        },
        {
         "line": {
          "color": "Blue",
          "width": 0.5
         },
         "mode": "lines",
         "type": "scatter",
         "x": [
          0.7259954813310351,
          -0.05413892370780348,
          null
         ],
         "y": [
          0.6876994329722266,
          0.9985334231867469,
          null
         ]
        },
        {
         "line": {
          "color": "Blue",
          "width": 0.5
         },
         "mode": "lines",
         "type": "scatter",
         "x": [
          0.7259954813310351,
          -0.1617819653430841,
          null
         ],
         "y": [
          0.6876994329722266,
          0.9868265345245918,
          null
         ]
        },
        {
         "line": {
          "color": "Blue",
          "width": 0.5
         },
         "mode": "lines",
         "type": "scatter",
         "x": [
          0.7259954813310351,
          -0.2675283536561919,
          null
         ],
         "y": [
          0.6876994329722266,
          0.9635499670923959,
          null
         ]
        },
        {
         "line": {
          "color": "Blue",
          "width": 0.5
         },
         "mode": "lines",
         "type": "scatter",
         "x": [
          0.7259954813310351,
          -0.4684083444784845,
          null
         ],
         "y": [
          0.6876994329722266,
          0.8835120753201531,
          null
         ]
        },
        {
         "line": {
          "color": "Blue",
          "width": 0.5
         },
         "mode": "lines",
         "type": "scatter",
         "x": [
          0.7259954813310351,
          -0.5611871462892505,
          null
         ],
         "y": [
          0.6876994329722266,
          0.8276889280877862,
          null
         ]
        },
        {
         "line": {
          "color": "Blue",
          "width": 0.5
         },
         "mode": "lines",
         "type": "scatter",
         "x": [
          0.7259954813310351,
          -0.6473863105801575,
          null
         ],
         "y": [
          0.6876994329722266,
          0.7621620254879147,
          null
         ]
        },
        {
         "line": {
          "color": "Blue",
          "width": 0.5
         },
         "mode": "lines",
         "type": "scatter",
         "x": [
          0.7259954813310351,
          -0.725995479018786,
          null
         ],
         "y": [
          0.6876994329722266,
          0.6876994925768714,
          null
         ]
        },
        {
         "line": {
          "color": "Blue",
          "width": 0.5
         },
         "mode": "lines",
         "type": "scatter",
         "x": [
          0.7259954813310351,
          -0.7960929849840397,
          null
         ],
         "y": [
          0.6876994329722266,
          0.605174298981027,
          null
         ]
        },
        {
         "line": {
          "color": "Blue",
          "width": 0.5
         },
         "mode": "lines",
         "type": "scatter",
         "x": [
          0.7259954813310351,
          0.7259954813310351,
          null
         ],
         "y": [
          0.6876994329722266,
          0.6876994329722266,
          null
         ]
        },
        {
         "line": {
          "color": "Blue",
          "width": 0.5
         },
         "mode": "lines",
         "type": "scatter",
         "x": [
          0.7259954813310351,
          -0.8568571784486398,
          null
         ],
         "y": [
          0.6876994329722266,
          -0.5155538944368641,
          null
         ]
        },
        {
         "line": {
          "color": "Blue",
          "width": 0.5
         },
         "mode": "lines",
         "type": "scatter",
         "x": [
          0.7259954813310351,
          -0.7960931041933291,
          null
         ],
         "y": [
          0.6876994329722266,
          -0.6051741865199889,
          null
         ]
        },
        {
         "line": {
          "color": "Blue",
          "width": 0.5
         },
         "mode": "lines",
         "type": "scatter",
         "x": [
          0.7259954813310351,
          -0.7259955386234307,
          null
         ],
         "y": [
          0.6876994329722266,
          -0.6876993801158332,
          null
         ]
        },
        {
         "line": {
          "color": "Blue",
          "width": 0.5
         },
         "mode": "lines",
         "type": "scatter",
         "x": [
          0.7259954813310351,
          -0.46840864250170805,
          null
         ],
         "y": [
          0.6876994329722266,
          -0.883511962859115,
          null
         ]
        },
        {
         "line": {
          "color": "Blue",
          "width": 0.5
         },
         "mode": "lines",
         "type": "scatter",
         "x": [
          0.7259954813310351,
          -0.2675282046445801,
          null
         ],
         "y": [
          0.6876994329722266,
          -0.963550033445292,
          null
         ]
        },
        {
         "line": {
          "color": "Blue",
          "width": 0.5
         },
         "mode": "lines",
         "type": "scatter",
         "x": [
          0.7259954813310351,
          -0.1617819057384394,
          null
         ],
         "y": [
          0.6876994329722266,
          -0.9868265412728431,
          null
         ]
        },
        {
         "line": {
          "color": "Blue",
          "width": 0.5
         },
         "mode": "lines",
         "type": "scatter",
         "x": [
          0.7259954813310351,
          -0.05413886782844907,
          null
         ],
         "y": [
          0.6876994329722266,
          -0.9985334299349982,
          null
         ]
        },
        {
         "line": {
          "color": "Blue",
          "width": 0.5
         },
         "mode": "lines",
         "type": "scatter",
         "x": [
          0.7259954813310351,
          0.054138892492439986,
          null
         ],
         "y": [
          0.6876994329722266,
          -0.9985334299349982,
          null
         ]
        },
        {
         "line": {
          "color": "Blue",
          "width": 0.5
         },
         "mode": "lines",
         "type": "scatter",
         "x": [
          0.7259954813310351,
          0.1617819378530109,
          null
         ],
         "y": [
          0.6876994329722266,
          -0.9868265412728431,
          null
         ]
        },
        {
         "line": {
          "color": "Blue",
          "width": 0.5
         },
         "mode": "lines",
         "type": "scatter",
         "x": [
          0.5611870889968549,
          1,
          null
         ],
         "y": [
          0.8276889876924308,
          -3.3741256186789116e-09,
          null
         ]
        },
        {
         "line": {
          "color": "Blue",
          "width": 0.5
         },
         "mode": "lines",
         "type": "scatter",
         "x": [
          0.5611870889968549,
          0.5611870889968549,
          null
         ],
         "y": [
          0.8276889876924308,
          0.8276889876924308,
          null
         ]
        },
        {
         "line": {
          "color": "Blue",
          "width": 0.5
         },
         "mode": "lines",
         "type": "scatter",
         "x": [
          0.5611870889968549,
          0.9941379427977624,
          null
         ],
         "y": [
          0.8276889876924308,
          0.10811901487674891,
          null
         ]
        },
        {
         "line": {
          "color": "Blue",
          "width": 0.5
         },
         "mode": "lines",
         "type": "scatter",
         "x": [
          0.3701381690631597,
          0.7259954813310351,
          null
         ],
         "y": [
          0.928976710162915,
          0.6876994329722266,
          null
         ]
        },
        {
         "line": {
          "color": "Blue",
          "width": 0.5
         },
         "mode": "lines",
         "type": "scatter",
         "x": [
          0.3701381690631597,
          0.4684084063953784,
          null
         ],
         "y": [
          0.928976710162915,
          0.8835120753201531,
          null
         ]
        },
        {
         "line": {
          "color": "Blue",
          "width": 0.5
         },
         "mode": "lines",
         "type": "scatter",
         "x": [
          0.26752841557308576,
          1,
          null
         ],
         "y": [
          0.9635499670923959,
          -3.3741256186789116e-09,
          null
         ]
        },
        {
         "line": {
          "color": "Blue",
          "width": 0.5
         },
         "mode": "lines",
         "type": "scatter",
         "x": [
          0.26752841557308576,
          0.26752841557308576,
          null
         ],
         "y": [
          0.9635499670923959,
          0.9635499670923959,
          null
         ]
        },
        {
         "line": {
          "color": "Blue",
          "width": 0.5
         },
         "mode": "lines",
         "type": "scatter",
         "x": [
          0.26752841557308576,
          0.5611872082061442,
          null
         ],
         "y": [
          0.9635499670923959,
          -0.8276888752313927,
          null
         ]
        },
        {
         "line": {
          "color": "Blue",
          "width": 0.5
         },
         "mode": "lines",
         "type": "scatter",
         "x": [
          0.26752841557308576,
          -0.9075753666758309,
          null
         ],
         "y": [
          0.9635499670923959,
          -0.4198892145433445,
          null
         ]
        },
        {
         "line": {
          "color": "Blue",
          "width": 0.5
         },
         "mode": "lines",
         "type": "scatter",
         "x": [
          -0.9941379404855133,
          -0.9766205526387918,
          null
         ],
         "y": [
          -0.10811905887790307,
          -0.21497042789690193,
          null
         ]
        },
        {
         "line": {
          "color": "Blue",
          "width": 0.5
         },
         "mode": "lines",
         "type": "scatter",
         "x": [
          -0.9941379404855133,
          -0.9941379404855133,
          null
         ],
         "y": [
          -0.10811905887790307,
          -0.10811905887790307,
          null
         ]
        },
        {
         "line": {
          "color": "Blue",
          "width": 0.5
         },
         "mode": "lines",
         "type": "scatter",
         "x": [
          -0.9941379404855133,
          -0.9476531721486,
          null
         ],
         "y": [
          -0.10811905887790307,
          -0.3193014592179708,
          null
         ]
        },
        {
         "line": {
          "color": "Blue",
          "width": 0.5
         },
         "mode": "lines",
         "type": "scatter",
         "x": [
          -0.6473863701848022,
          -0.5611872058938951,
          null
         ],
         "y": [
          -0.7621619726315213,
          -0.8276888752313927,
          null
         ]
        },
        {
         "line": {
          "color": "Blue",
          "width": 0.5
         },
         "mode": "lines",
         "type": "scatter",
         "x": [
          -0.6473863701848022,
          0.3701379902492256,
          null
         ],
         "y": [
          -0.7621619726315213,
          -0.928976776515811,
          null
         ]
        },
        {
         "line": {
          "color": "Blue",
          "width": 0.5
         },
         "mode": "lines",
         "type": "scatter",
         "x": [
          -0.6473863701848022,
          0.46840822758144424,
          null
         ],
         "y": [
          -0.7621619726315213,
          -0.8835121416730491,
          null
         ]
        },
        {
         "line": {
          "color": "Blue",
          "width": 0.5
         },
         "mode": "lines",
         "type": "scatter",
         "x": [
          -0.6473863701848022,
          0.7259955409356798,
          null
         ],
         "y": [
          -0.7621619726315213,
          -0.6876993801158332,
          null
         ]
        },
        {
         "line": {
          "color": "Blue",
          "width": 0.5
         },
         "mode": "lines",
         "type": "scatter",
         "x": [
          -0.6473863701848022,
          0.7960931065055782,
          null
         ],
         "y": [
          -0.7621619726315213,
          -0.6051741865199889,
          null
         ]
        },
        {
         "line": {
          "color": "Blue",
          "width": 0.5
         },
         "mode": "lines",
         "type": "scatter",
         "x": [
          -0.6473863701848022,
          0.8568571807608889,
          null
         ],
         "y": [
          -0.7621619726315213,
          -0.5155538944368641,
          null
         ]
        },
        {
         "line": {
          "color": "Blue",
          "width": 0.5
         },
         "mode": "lines",
         "type": "scatter",
         "x": [
          -0.6473863701848022,
          0.90757536898808,
          null
         ],
         "y": [
          -0.7621619726315213,
          -0.41988918474102216,
          null
         ]
        }
       ],
       "layout": {
        "hovermode": "closest",
        "showlegend": false,
        "template": {
         "data": {
          "bar": [
           {
            "error_x": {
             "color": "#2a3f5f"
            },
            "error_y": {
             "color": "#2a3f5f"
            },
            "marker": {
             "line": {
              "color": "#E5ECF6",
              "width": 0.5
             }
            },
            "type": "bar"
           }
          ],
          "barpolar": [
           {
            "marker": {
             "line": {
              "color": "#E5ECF6",
              "width": 0.5
             }
            },
            "type": "barpolar"
           }
          ],
          "carpet": [
           {
            "aaxis": {
             "endlinecolor": "#2a3f5f",
             "gridcolor": "white",
             "linecolor": "white",
             "minorgridcolor": "white",
             "startlinecolor": "#2a3f5f"
            },
            "baxis": {
             "endlinecolor": "#2a3f5f",
             "gridcolor": "white",
             "linecolor": "white",
             "minorgridcolor": "white",
             "startlinecolor": "#2a3f5f"
            },
            "type": "carpet"
           }
          ],
          "choropleth": [
           {
            "colorbar": {
             "outlinewidth": 0,
             "ticks": ""
            },
            "type": "choropleth"
           }
          ],
          "contour": [
           {
            "colorbar": {
             "outlinewidth": 0,
             "ticks": ""
            },
            "colorscale": [
             [
              0,
              "#0d0887"
             ],
             [
              0.1111111111111111,
              "#46039f"
             ],
             [
              0.2222222222222222,
              "#7201a8"
             ],
             [
              0.3333333333333333,
              "#9c179e"
             ],
             [
              0.4444444444444444,
              "#bd3786"
             ],
             [
              0.5555555555555556,
              "#d8576b"
             ],
             [
              0.6666666666666666,
              "#ed7953"
             ],
             [
              0.7777777777777778,
              "#fb9f3a"
             ],
             [
              0.8888888888888888,
              "#fdca26"
             ],
             [
              1,
              "#f0f921"
             ]
            ],
            "type": "contour"
           }
          ],
          "contourcarpet": [
           {
            "colorbar": {
             "outlinewidth": 0,
             "ticks": ""
            },
            "type": "contourcarpet"
           }
          ],
          "heatmap": [
           {
            "colorbar": {
             "outlinewidth": 0,
             "ticks": ""
            },
            "colorscale": [
             [
              0,
              "#0d0887"
             ],
             [
              0.1111111111111111,
              "#46039f"
             ],
             [
              0.2222222222222222,
              "#7201a8"
             ],
             [
              0.3333333333333333,
              "#9c179e"
             ],
             [
              0.4444444444444444,
              "#bd3786"
             ],
             [
              0.5555555555555556,
              "#d8576b"
             ],
             [
              0.6666666666666666,
              "#ed7953"
             ],
             [
              0.7777777777777778,
              "#fb9f3a"
             ],
             [
              0.8888888888888888,
              "#fdca26"
             ],
             [
              1,
              "#f0f921"
             ]
            ],
            "type": "heatmap"
           }
          ],
          "heatmapgl": [
           {
            "colorbar": {
             "outlinewidth": 0,
             "ticks": ""
            },
            "colorscale": [
             [
              0,
              "#0d0887"
             ],
             [
              0.1111111111111111,
              "#46039f"
             ],
             [
              0.2222222222222222,
              "#7201a8"
             ],
             [
              0.3333333333333333,
              "#9c179e"
             ],
             [
              0.4444444444444444,
              "#bd3786"
             ],
             [
              0.5555555555555556,
              "#d8576b"
             ],
             [
              0.6666666666666666,
              "#ed7953"
             ],
             [
              0.7777777777777778,
              "#fb9f3a"
             ],
             [
              0.8888888888888888,
              "#fdca26"
             ],
             [
              1,
              "#f0f921"
             ]
            ],
            "type": "heatmapgl"
           }
          ],
          "histogram": [
           {
            "marker": {
             "colorbar": {
              "outlinewidth": 0,
              "ticks": ""
             }
            },
            "type": "histogram"
           }
          ],
          "histogram2d": [
           {
            "colorbar": {
             "outlinewidth": 0,
             "ticks": ""
            },
            "colorscale": [
             [
              0,
              "#0d0887"
             ],
             [
              0.1111111111111111,
              "#46039f"
             ],
             [
              0.2222222222222222,
              "#7201a8"
             ],
             [
              0.3333333333333333,
              "#9c179e"
             ],
             [
              0.4444444444444444,
              "#bd3786"
             ],
             [
              0.5555555555555556,
              "#d8576b"
             ],
             [
              0.6666666666666666,
              "#ed7953"
             ],
             [
              0.7777777777777778,
              "#fb9f3a"
             ],
             [
              0.8888888888888888,
              "#fdca26"
             ],
             [
              1,
              "#f0f921"
             ]
            ],
            "type": "histogram2d"
           }
          ],
          "histogram2dcontour": [
           {
            "colorbar": {
             "outlinewidth": 0,
             "ticks": ""
            },
            "colorscale": [
             [
              0,
              "#0d0887"
             ],
             [
              0.1111111111111111,
              "#46039f"
             ],
             [
              0.2222222222222222,
              "#7201a8"
             ],
             [
              0.3333333333333333,
              "#9c179e"
             ],
             [
              0.4444444444444444,
              "#bd3786"
             ],
             [
              0.5555555555555556,
              "#d8576b"
             ],
             [
              0.6666666666666666,
              "#ed7953"
             ],
             [
              0.7777777777777778,
              "#fb9f3a"
             ],
             [
              0.8888888888888888,
              "#fdca26"
             ],
             [
              1,
              "#f0f921"
             ]
            ],
            "type": "histogram2dcontour"
           }
          ],
          "mesh3d": [
           {
            "colorbar": {
             "outlinewidth": 0,
             "ticks": ""
            },
            "type": "mesh3d"
           }
          ],
          "parcoords": [
           {
            "line": {
             "colorbar": {
              "outlinewidth": 0,
              "ticks": ""
             }
            },
            "type": "parcoords"
           }
          ],
          "pie": [
           {
            "automargin": true,
            "type": "pie"
           }
          ],
          "scatter": [
           {
            "marker": {
             "colorbar": {
              "outlinewidth": 0,
              "ticks": ""
             }
            },
            "type": "scatter"
           }
          ],
          "scatter3d": [
           {
            "line": {
             "colorbar": {
              "outlinewidth": 0,
              "ticks": ""
             }
            },
            "marker": {
             "colorbar": {
              "outlinewidth": 0,
              "ticks": ""
             }
            },
            "type": "scatter3d"
           }
          ],
          "scattercarpet": [
           {
            "marker": {
             "colorbar": {
              "outlinewidth": 0,
              "ticks": ""
             }
            },
            "type": "scattercarpet"
           }
          ],
          "scattergeo": [
           {
            "marker": {
             "colorbar": {
              "outlinewidth": 0,
              "ticks": ""
             }
            },
            "type": "scattergeo"
           }
          ],
          "scattergl": [
           {
            "marker": {
             "colorbar": {
              "outlinewidth": 0,
              "ticks": ""
             }
            },
            "type": "scattergl"
           }
          ],
          "scattermapbox": [
           {
            "marker": {
             "colorbar": {
              "outlinewidth": 0,
              "ticks": ""
             }
            },
            "type": "scattermapbox"
           }
          ],
          "scatterpolar": [
           {
            "marker": {
             "colorbar": {
              "outlinewidth": 0,
              "ticks": ""
             }
            },
            "type": "scatterpolar"
           }
          ],
          "scatterpolargl": [
           {
            "marker": {
             "colorbar": {
              "outlinewidth": 0,
              "ticks": ""
             }
            },
            "type": "scatterpolargl"
           }
          ],
          "scatterternary": [
           {
            "marker": {
             "colorbar": {
              "outlinewidth": 0,
              "ticks": ""
             }
            },
            "type": "scatterternary"
           }
          ],
          "surface": [
           {
            "colorbar": {
             "outlinewidth": 0,
             "ticks": ""
            },
            "colorscale": [
             [
              0,
              "#0d0887"
             ],
             [
              0.1111111111111111,
              "#46039f"
             ],
             [
              0.2222222222222222,
              "#7201a8"
             ],
             [
              0.3333333333333333,
              "#9c179e"
             ],
             [
              0.4444444444444444,
              "#bd3786"
             ],
             [
              0.5555555555555556,
              "#d8576b"
             ],
             [
              0.6666666666666666,
              "#ed7953"
             ],
             [
              0.7777777777777778,
              "#fb9f3a"
             ],
             [
              0.8888888888888888,
              "#fdca26"
             ],
             [
              1,
              "#f0f921"
             ]
            ],
            "type": "surface"
           }
          ],
          "table": [
           {
            "cells": {
             "fill": {
              "color": "#EBF0F8"
             },
             "line": {
              "color": "white"
             }
            },
            "header": {
             "fill": {
              "color": "#C8D4E3"
             },
             "line": {
              "color": "white"
             }
            },
            "type": "table"
           }
          ]
         },
         "layout": {
          "annotationdefaults": {
           "arrowcolor": "#2a3f5f",
           "arrowhead": 0,
           "arrowwidth": 1
          },
          "coloraxis": {
           "colorbar": {
            "outlinewidth": 0,
            "ticks": ""
           }
          },
          "colorscale": {
           "diverging": [
            [
             0,
             "#8e0152"
            ],
            [
             0.1,
             "#c51b7d"
            ],
            [
             0.2,
             "#de77ae"
            ],
            [
             0.3,
             "#f1b6da"
            ],
            [
             0.4,
             "#fde0ef"
            ],
            [
             0.5,
             "#f7f7f7"
            ],
            [
             0.6,
             "#e6f5d0"
            ],
            [
             0.7,
             "#b8e186"
            ],
            [
             0.8,
             "#7fbc41"
            ],
            [
             0.9,
             "#4d9221"
            ],
            [
             1,
             "#276419"
            ]
           ],
           "sequential": [
            [
             0,
             "#0d0887"
            ],
            [
             0.1111111111111111,
             "#46039f"
            ],
            [
             0.2222222222222222,
             "#7201a8"
            ],
            [
             0.3333333333333333,
             "#9c179e"
            ],
            [
             0.4444444444444444,
             "#bd3786"
            ],
            [
             0.5555555555555556,
             "#d8576b"
            ],
            [
             0.6666666666666666,
             "#ed7953"
            ],
            [
             0.7777777777777778,
             "#fb9f3a"
            ],
            [
             0.8888888888888888,
             "#fdca26"
            ],
            [
             1,
             "#f0f921"
            ]
           ],
           "sequentialminus": [
            [
             0,
             "#0d0887"
            ],
            [
             0.1111111111111111,
             "#46039f"
            ],
            [
             0.2222222222222222,
             "#7201a8"
            ],
            [
             0.3333333333333333,
             "#9c179e"
            ],
            [
             0.4444444444444444,
             "#bd3786"
            ],
            [
             0.5555555555555556,
             "#d8576b"
            ],
            [
             0.6666666666666666,
             "#ed7953"
            ],
            [
             0.7777777777777778,
             "#fb9f3a"
            ],
            [
             0.8888888888888888,
             "#fdca26"
            ],
            [
             1,
             "#f0f921"
            ]
           ]
          },
          "colorway": [
           "#636efa",
           "#EF553B",
           "#00cc96",
           "#ab63fa",
           "#FFA15A",
           "#19d3f3",
           "#FF6692",
           "#B6E880",
           "#FF97FF",
           "#FECB52"
          ],
          "font": {
           "color": "#2a3f5f"
          },
          "geo": {
           "bgcolor": "white",
           "lakecolor": "white",
           "landcolor": "#E5ECF6",
           "showlakes": true,
           "showland": true,
           "subunitcolor": "white"
          },
          "hoverlabel": {
           "align": "left"
          },
          "hovermode": "closest",
          "mapbox": {
           "style": "light"
          },
          "paper_bgcolor": "white",
          "plot_bgcolor": "#E5ECF6",
          "polar": {
           "angularaxis": {
            "gridcolor": "white",
            "linecolor": "white",
            "ticks": ""
           },
           "bgcolor": "#E5ECF6",
           "radialaxis": {
            "gridcolor": "white",
            "linecolor": "white",
            "ticks": ""
           }
          },
          "scene": {
           "xaxis": {
            "backgroundcolor": "#E5ECF6",
            "gridcolor": "white",
            "gridwidth": 2,
            "linecolor": "white",
            "showbackground": true,
            "ticks": "",
            "zerolinecolor": "white"
           },
           "yaxis": {
            "backgroundcolor": "#E5ECF6",
            "gridcolor": "white",
            "gridwidth": 2,
            "linecolor": "white",
            "showbackground": true,
            "ticks": "",
            "zerolinecolor": "white"
           },
           "zaxis": {
            "backgroundcolor": "#E5ECF6",
            "gridcolor": "white",
            "gridwidth": 2,
            "linecolor": "white",
            "showbackground": true,
            "ticks": "",
            "zerolinecolor": "white"
           }
          },
          "shapedefaults": {
           "line": {
            "color": "#2a3f5f"
           }
          },
          "ternary": {
           "aaxis": {
            "gridcolor": "white",
            "linecolor": "white",
            "ticks": ""
           },
           "baxis": {
            "gridcolor": "white",
            "linecolor": "white",
            "ticks": ""
           },
           "bgcolor": "#E5ECF6",
           "caxis": {
            "gridcolor": "white",
            "linecolor": "white",
            "ticks": ""
           }
          },
          "title": {
           "x": 0.05
          },
          "xaxis": {
           "automargin": true,
           "gridcolor": "white",
           "linecolor": "white",
           "ticks": "",
           "title": {
            "standoff": 15
           },
           "zerolinecolor": "white",
           "zerolinewidth": 2
          },
          "yaxis": {
           "automargin": true,
           "gridcolor": "white",
           "linecolor": "white",
           "ticks": "",
           "title": {
            "standoff": 15
           },
           "zerolinecolor": "white",
           "zerolinewidth": 2
          }
         }
        },
        "title": {
         "text": "Network of Trips for most frequent start locations"
        }
       }
      },
      "text/html": [
       "<div>\n",
       "        \n",
       "        \n",
       "            <div id=\"975d540b-68f7-40ae-a4d8-d4991c80d0b3\" class=\"plotly-graph-div\" style=\"height:525px; width:100%;\"></div>\n",
       "            <script type=\"text/javascript\">\n",
       "                require([\"plotly\"], function(Plotly) {\n",
       "                    window.PLOTLYENV=window.PLOTLYENV || {};\n",
       "                    \n",
       "                if (document.getElementById(\"975d540b-68f7-40ae-a4d8-d4991c80d0b3\")) {\n",
       "                    Plotly.newPlot(\n",
       "                        '975d540b-68f7-40ae-a4d8-d4991c80d0b3',\n",
       "                        [{\"hoverinfo\": \"text\", \"hovertext\": [\"Cary\", \"Morrisville\", \"Midtown\", \"East Harlem\", \"Midtown East\", \"Hudson Square\", \"Durham\", \"Whitebridge\", \"Lake Wellingborough\", \"Raleigh\", \"Hazelwood\", \"Westpark Place\", \"Apex\", \"Chapel Hill\", \"Williamsburg Manor\", \"Macgregor Downs\", \"Edgehill Farms\", \"Northwoods\", \"Midtown West\", \"Preston\", \"Heritage Pines\", \"Tanglewood\", \"Waverly Place\", \"Wayne Ridge\", \"Alief\", \"Sharpstown\", \"Washington Avenue\", \"Downtown\", \"Greater Greenspoint\", \"Latta\", \"Kissimmee\", \"Orlando\", \"Daytona Beach\", \"Holly Springs\", \"Burtrose\", \"Savon Height\", \"Kildaire Farms\", \"Berkeley\", \"Oakland\", \"Summerwinds\", \"Banner Elk\", \"Stonewater\", \"Chessington\", \"Parkway\", \"Arlington Park at Amberly\", \"Farmington Woods\", \"Wake Forest\", \"Emeryville\", \"San Jose\", \"Eagle Rock\", \"Winston Salem\", \"San Francisco\", \"Menlo Park\", \"Mountain View\", \"El Cerrito\", \"Unknown Location\", \"Wake Co.\", \"Fuquay-Varina\"], \"marker\": {\"color\": [13, 4, 10, 0, 0, 0, 3, 22, 0, 3, 0, 2, 4, 0, 0, 0, 0, 0, 0, 0, 0, 0, 0, 0, 0, 0, 0, 0, 0, 0, 3, 0, 0, 0, 0, 0, 0, 7, 0, 0, 0, 0, 0, 0, 0, 0, 0, 0, 0, 0, 0, 0, 0, 0, 0, 0, 0, 0], \"colorbar\": {\"thickness\": 10, \"title\": {\"side\": \"right\", \"text\": \"No. of unique locations travelled to or from\"}, \"xanchor\": \"left\"}, \"colorscale\": [[0.0, \"rgb(165,0,38)\"], [0.1, \"rgb(215,48,39)\"], [0.2, \"rgb(244,109,67)\"], [0.3, \"rgb(253,174,97)\"], [0.4, \"rgb(254,224,144)\"], [0.5, \"rgb(255,255,191)\"], [0.6, \"rgb(224,243,248)\"], [0.7, \"rgb(171,217,233)\"], [0.8, \"rgb(116,173,209)\"], [0.9, \"rgb(69,117,180)\"], [1.0, \"rgb(49,54,149)\"]], \"reversescale\": true, \"showscale\": true, \"size\": 5}, \"mode\": \"markers\", \"type\": \"scatter\", \"x\": [1.0, 0.9941379427977624, 0.9766205549510408, 0.9476531744608491, 0.9075754285927247, 0.8568571807608889, 0.7960931065055782, 0.7259954813310351, 0.6473863128924066, 0.5611870889968549, 0.4684084063953784, 0.3701381690631597, 0.26752841557308576, 0.16178199745765562, 0.05413895582237498, -0.05413892370780348, -0.1617819653430841, -0.2675283536561919, -0.3701381071462658, -0.4684083444784845, -0.5611871462892505, -0.6473863105801575, -0.725995479018786, -0.7960929849840397, -0.8568571188439951, -0.9075754262804756, -0.9476531721486, -0.9766205526387918, -0.9941379404855133, -0.9999999976877509, -0.9941379404855133, -0.9766205526387918, -0.9476531721486, -0.9075753666758309, -0.8568571784486398, -0.7960931041933291, -0.7259955386234307, -0.6473863701848022, -0.5611872058938951, -0.46840864250170805, -0.37013798793697644, -0.2675282046445801, -0.1617819057384394, -0.05413886782844907, 0.054138892492439986, 0.1617819378530109, 0.2675282069568293, 0.3701379902492256, 0.46840822758144424, 0.5611872082061442, 0.6473863724970512, 0.7259955409356798, 0.7960931065055782, 0.8568571807608889, 0.90757536898808, 0.9476531148562043, 0.9766204953463961, 0.9941380024024071], \"y\": [-3.3741256186789116e-09, 0.10811901487674891, 0.2149704360498119, 0.31930151207436425, 0.4198890885858038, 0.5155538876886128, 0.6051741797717377, 0.6876994329722266, 0.7621620254879147, 0.8276889876924308, 0.8835120753201531, 0.928976710162915, 0.9635499670923959, 0.9868265345245918, 0.9985334231867469, 0.9985334231867469, 0.9868265345245918, 0.9635499670923959, 0.928976710162915, 0.8835120753201531, 0.8276889280877862, 0.7621620254879147, 0.6876994925768714, 0.605174298981027, 0.5155539472932575, 0.4198890289811591, 0.31930151207436425, 0.21497048075329542, 0.10811911173429654, -9.079690209108315e-08, -0.10811905887790307, -0.21497042789690193, -0.3193014592179708, -0.4198892145433445, -0.5155538944368641, -0.6051741865199889, -0.6876993801158332, -0.7621619726315213, -0.8276888752313927, -0.883511962859115, -0.928976776515811, -0.963550033445292, -0.9868265412728431, -0.9985334299349982, -0.9985334299349982, -0.9868265412728431, -0.963550033445292, -0.928976776515811, -0.8835121416730491, -0.8276888752313927, -0.7621619726315213, -0.6876993801158332, -0.6051741865199889, -0.5155538944368641, -0.41988918474102216, -0.3193016678342273, -0.21497062161199723, -0.10811879810758249]}, {\"line\": {\"color\": \"Blue\", \"width\": 0.5}, \"mode\": \"lines\", \"type\": \"scatter\", \"x\": [1.0, 1.0, null], \"y\": [-3.3741256186789116e-09, -3.3741256186789116e-09, null]}, {\"line\": {\"color\": \"Blue\", \"width\": 0.5}, \"mode\": \"lines\", \"type\": \"scatter\", \"x\": [1.0, 0.9941379427977624, null], \"y\": [-3.3741256186789116e-09, 0.10811901487674891, null]}, {\"line\": {\"color\": \"Blue\", \"width\": 0.5}, \"mode\": \"lines\", \"type\": \"scatter\", \"x\": [1.0, 0.7960931065055782, null], \"y\": [-3.3741256186789116e-09, 0.6051741797717377, null]}, {\"line\": {\"color\": \"Blue\", \"width\": 0.5}, \"mode\": \"lines\", \"type\": \"scatter\", \"x\": [1.0, 0.5611870889968549, null], \"y\": [-3.3741256186789116e-09, 0.8276889876924308, null]}, {\"line\": {\"color\": \"Blue\", \"width\": 0.5}, \"mode\": \"lines\", \"type\": \"scatter\", \"x\": [1.0, 0.26752841557308576, null], \"y\": [-3.3741256186789116e-09, 0.9635499670923959, null]}, {\"line\": {\"color\": \"Blue\", \"width\": 0.5}, \"mode\": \"lines\", \"type\": \"scatter\", \"x\": [1.0, 0.16178199745765562, null], \"y\": [-3.3741256186789116e-09, 0.9868265345245918, null]}, {\"line\": {\"color\": \"Blue\", \"width\": 0.5}, \"mode\": \"lines\", \"type\": \"scatter\", \"x\": [1.0, -0.9999999976877509, null], \"y\": [-3.3741256186789116e-09, -9.079690209108315e-08, null]}, {\"line\": {\"color\": \"Blue\", \"width\": 0.5}, \"mode\": \"lines\", \"type\": \"scatter\", \"x\": [1.0, -0.9075753666758309, null], \"y\": [-3.3741256186789116e-09, -0.4198892145433445, null]}, {\"line\": {\"color\": \"Blue\", \"width\": 0.5}, \"mode\": \"lines\", \"type\": \"scatter\", \"x\": [1.0, 0.2675282069568293, null], \"y\": [-3.3741256186789116e-09, -0.963550033445292, null]}, {\"line\": {\"color\": \"Blue\", \"width\": 0.5}, \"mode\": \"lines\", \"type\": \"scatter\", \"x\": [1.0, 0.6473863724970512, null], \"y\": [-3.3741256186789116e-09, -0.7621619726315213, null]}, {\"line\": {\"color\": \"Blue\", \"width\": 0.5}, \"mode\": \"lines\", \"type\": \"scatter\", \"x\": [1.0, 0.9476531148562043, null], \"y\": [-3.3741256186789116e-09, -0.3193016678342273, null]}, {\"line\": {\"color\": \"Blue\", \"width\": 0.5}, \"mode\": \"lines\", \"type\": \"scatter\", \"x\": [1.0, 0.9766204953463961, null], \"y\": [-3.3741256186789116e-09, -0.21497062161199723, null]}, {\"line\": {\"color\": \"Blue\", \"width\": 0.5}, \"mode\": \"lines\", \"type\": \"scatter\", \"x\": [1.0, 0.9941380024024071, null], \"y\": [-3.3741256186789116e-09, -0.10811879810758249, null]}, {\"line\": {\"color\": \"Blue\", \"width\": 0.5}, \"mode\": \"lines\", \"type\": \"scatter\", \"x\": [0.9941379427977624, 1.0, null], \"y\": [0.10811901487674891, -3.3741256186789116e-09, null]}, {\"line\": {\"color\": \"Blue\", \"width\": 0.5}, \"mode\": \"lines\", \"type\": \"scatter\", \"x\": [0.9941379427977624, 0.5611870889968549, null], \"y\": [0.10811901487674891, 0.8276889876924308, null]}, {\"line\": {\"color\": \"Blue\", \"width\": 0.5}, \"mode\": \"lines\", \"type\": \"scatter\", \"x\": [0.9941379427977624, 0.9941379427977624, null], \"y\": [0.10811901487674891, 0.10811901487674891, null]}, {\"line\": {\"color\": \"Blue\", \"width\": 0.5}, \"mode\": \"lines\", \"type\": \"scatter\", \"x\": [0.9941379427977624, -0.37013798793697644, null], \"y\": [0.10811901487674891, -0.928976776515811, null]}, {\"line\": {\"color\": \"Blue\", \"width\": 0.5}, \"mode\": \"lines\", \"type\": \"scatter\", \"x\": [0.9766205549510408, 0.9476531744608491, null], \"y\": [0.2149704360498119, 0.31930151207436425, null]}, {\"line\": {\"color\": \"Blue\", \"width\": 0.5}, \"mode\": \"lines\", \"type\": \"scatter\", \"x\": [0.9766205549510408, 0.9075754285927247, null], \"y\": [0.2149704360498119, 0.4198890885858038, null]}, {\"line\": {\"color\": \"Blue\", \"width\": 0.5}, \"mode\": \"lines\", \"type\": \"scatter\", \"x\": [0.9766205549510408, 0.8568571807608889, null], \"y\": [0.2149704360498119, 0.5155538876886128, null]}, {\"line\": {\"color\": \"Blue\", \"width\": 0.5}, \"mode\": \"lines\", \"type\": \"scatter\", \"x\": [0.9766205549510408, -0.3701381071462658, null], \"y\": [0.2149704360498119, 0.928976710162915, null]}, {\"line\": {\"color\": \"Blue\", \"width\": 0.5}, \"mode\": \"lines\", \"type\": \"scatter\", \"x\": [0.9766205549510408, -0.8568571188439951, null], \"y\": [0.2149704360498119, 0.5155539472932575, null]}, {\"line\": {\"color\": \"Blue\", \"width\": 0.5}, \"mode\": \"lines\", \"type\": \"scatter\", \"x\": [0.9766205549510408, 0.9766205549510408, null], \"y\": [0.2149704360498119, 0.2149704360498119, null]}, {\"line\": {\"color\": \"Blue\", \"width\": 0.5}, \"mode\": \"lines\", \"type\": \"scatter\", \"x\": [0.9766205549510408, -0.9075754262804756, null], \"y\": [0.2149704360498119, 0.4198890289811591, null]}, {\"line\": {\"color\": \"Blue\", \"width\": 0.5}, \"mode\": \"lines\", \"type\": \"scatter\", \"x\": [0.9766205549510408, -0.9476531721486, null], \"y\": [0.2149704360498119, 0.31930151207436425, null]}, {\"line\": {\"color\": \"Blue\", \"width\": 0.5}, \"mode\": \"lines\", \"type\": \"scatter\", \"x\": [0.9766205549510408, -0.9766205526387918, null], \"y\": [0.2149704360498119, 0.21497048075329542, null]}, {\"line\": {\"color\": \"Blue\", \"width\": 0.5}, \"mode\": \"lines\", \"type\": \"scatter\", \"x\": [0.9766205549510408, -0.9941379404855133, null], \"y\": [0.2149704360498119, 0.10811911173429654, null]}, {\"line\": {\"color\": \"Blue\", \"width\": 0.5}, \"mode\": \"lines\", \"type\": \"scatter\", \"x\": [0.7960931065055782, 1.0, null], \"y\": [0.6051741797717377, -3.3741256186789116e-09, null]}, {\"line\": {\"color\": \"Blue\", \"width\": 0.5}, \"mode\": \"lines\", \"type\": \"scatter\", \"x\": [0.7960931065055782, 0.9941379427977624, null], \"y\": [0.6051741797717377, 0.10811901487674891, null]}, {\"line\": {\"color\": \"Blue\", \"width\": 0.5}, \"mode\": \"lines\", \"type\": \"scatter\", \"x\": [0.7960931065055782, 0.26752841557308576, null], \"y\": [0.6051741797717377, 0.9635499670923959, null]}, {\"line\": {\"color\": \"Blue\", \"width\": 0.5}, \"mode\": \"lines\", \"type\": \"scatter\", \"x\": [0.7259954813310351, 0.6473863128924066, null], \"y\": [0.6876994329722266, 0.7621620254879147, null]}, {\"line\": {\"color\": \"Blue\", \"width\": 0.5}, \"mode\": \"lines\", \"type\": \"scatter\", \"x\": [0.7259954813310351, 0.4684084063953784, null], \"y\": [0.6876994329722266, 0.8835120753201531, null]}, {\"line\": {\"color\": \"Blue\", \"width\": 0.5}, \"mode\": \"lines\", \"type\": \"scatter\", \"x\": [0.7259954813310351, 0.3701381690631597, null], \"y\": [0.6876994329722266, 0.928976710162915, null]}, {\"line\": {\"color\": \"Blue\", \"width\": 0.5}, \"mode\": \"lines\", \"type\": \"scatter\", \"x\": [0.7259954813310351, 0.05413895582237498, null], \"y\": [0.6876994329722266, 0.9985334231867469, null]}, {\"line\": {\"color\": \"Blue\", \"width\": 0.5}, \"mode\": \"lines\", \"type\": \"scatter\", \"x\": [0.7259954813310351, -0.05413892370780348, null], \"y\": [0.6876994329722266, 0.9985334231867469, null]}, {\"line\": {\"color\": \"Blue\", \"width\": 0.5}, \"mode\": \"lines\", \"type\": \"scatter\", \"x\": [0.7259954813310351, -0.1617819653430841, null], \"y\": [0.6876994329722266, 0.9868265345245918, null]}, {\"line\": {\"color\": \"Blue\", \"width\": 0.5}, \"mode\": \"lines\", \"type\": \"scatter\", \"x\": [0.7259954813310351, -0.2675283536561919, null], \"y\": [0.6876994329722266, 0.9635499670923959, null]}, {\"line\": {\"color\": \"Blue\", \"width\": 0.5}, \"mode\": \"lines\", \"type\": \"scatter\", \"x\": [0.7259954813310351, -0.4684083444784845, null], \"y\": [0.6876994329722266, 0.8835120753201531, null]}, {\"line\": {\"color\": \"Blue\", \"width\": 0.5}, \"mode\": \"lines\", \"type\": \"scatter\", \"x\": [0.7259954813310351, -0.5611871462892505, null], \"y\": [0.6876994329722266, 0.8276889280877862, null]}, {\"line\": {\"color\": \"Blue\", \"width\": 0.5}, \"mode\": \"lines\", \"type\": \"scatter\", \"x\": [0.7259954813310351, -0.6473863105801575, null], \"y\": [0.6876994329722266, 0.7621620254879147, null]}, {\"line\": {\"color\": \"Blue\", \"width\": 0.5}, \"mode\": \"lines\", \"type\": \"scatter\", \"x\": [0.7259954813310351, -0.725995479018786, null], \"y\": [0.6876994329722266, 0.6876994925768714, null]}, {\"line\": {\"color\": \"Blue\", \"width\": 0.5}, \"mode\": \"lines\", \"type\": \"scatter\", \"x\": [0.7259954813310351, -0.7960929849840397, null], \"y\": [0.6876994329722266, 0.605174298981027, null]}, {\"line\": {\"color\": \"Blue\", \"width\": 0.5}, \"mode\": \"lines\", \"type\": \"scatter\", \"x\": [0.7259954813310351, 0.7259954813310351, null], \"y\": [0.6876994329722266, 0.6876994329722266, null]}, {\"line\": {\"color\": \"Blue\", \"width\": 0.5}, \"mode\": \"lines\", \"type\": \"scatter\", \"x\": [0.7259954813310351, -0.8568571784486398, null], \"y\": [0.6876994329722266, -0.5155538944368641, null]}, {\"line\": {\"color\": \"Blue\", \"width\": 0.5}, \"mode\": \"lines\", \"type\": \"scatter\", \"x\": [0.7259954813310351, -0.7960931041933291, null], \"y\": [0.6876994329722266, -0.6051741865199889, null]}, {\"line\": {\"color\": \"Blue\", \"width\": 0.5}, \"mode\": \"lines\", \"type\": \"scatter\", \"x\": [0.7259954813310351, -0.7259955386234307, null], \"y\": [0.6876994329722266, -0.6876993801158332, null]}, {\"line\": {\"color\": \"Blue\", \"width\": 0.5}, \"mode\": \"lines\", \"type\": \"scatter\", \"x\": [0.7259954813310351, -0.46840864250170805, null], \"y\": [0.6876994329722266, -0.883511962859115, null]}, {\"line\": {\"color\": \"Blue\", \"width\": 0.5}, \"mode\": \"lines\", \"type\": \"scatter\", \"x\": [0.7259954813310351, -0.2675282046445801, null], \"y\": [0.6876994329722266, -0.963550033445292, null]}, {\"line\": {\"color\": \"Blue\", \"width\": 0.5}, \"mode\": \"lines\", \"type\": \"scatter\", \"x\": [0.7259954813310351, -0.1617819057384394, null], \"y\": [0.6876994329722266, -0.9868265412728431, null]}, {\"line\": {\"color\": \"Blue\", \"width\": 0.5}, \"mode\": \"lines\", \"type\": \"scatter\", \"x\": [0.7259954813310351, -0.05413886782844907, null], \"y\": [0.6876994329722266, -0.9985334299349982, null]}, {\"line\": {\"color\": \"Blue\", \"width\": 0.5}, \"mode\": \"lines\", \"type\": \"scatter\", \"x\": [0.7259954813310351, 0.054138892492439986, null], \"y\": [0.6876994329722266, -0.9985334299349982, null]}, {\"line\": {\"color\": \"Blue\", \"width\": 0.5}, \"mode\": \"lines\", \"type\": \"scatter\", \"x\": [0.7259954813310351, 0.1617819378530109, null], \"y\": [0.6876994329722266, -0.9868265412728431, null]}, {\"line\": {\"color\": \"Blue\", \"width\": 0.5}, \"mode\": \"lines\", \"type\": \"scatter\", \"x\": [0.5611870889968549, 1.0, null], \"y\": [0.8276889876924308, -3.3741256186789116e-09, null]}, {\"line\": {\"color\": \"Blue\", \"width\": 0.5}, \"mode\": \"lines\", \"type\": \"scatter\", \"x\": [0.5611870889968549, 0.5611870889968549, null], \"y\": [0.8276889876924308, 0.8276889876924308, null]}, {\"line\": {\"color\": \"Blue\", \"width\": 0.5}, \"mode\": \"lines\", \"type\": \"scatter\", \"x\": [0.5611870889968549, 0.9941379427977624, null], \"y\": [0.8276889876924308, 0.10811901487674891, null]}, {\"line\": {\"color\": \"Blue\", \"width\": 0.5}, \"mode\": \"lines\", \"type\": \"scatter\", \"x\": [0.3701381690631597, 0.7259954813310351, null], \"y\": [0.928976710162915, 0.6876994329722266, null]}, {\"line\": {\"color\": \"Blue\", \"width\": 0.5}, \"mode\": \"lines\", \"type\": \"scatter\", \"x\": [0.3701381690631597, 0.4684084063953784, null], \"y\": [0.928976710162915, 0.8835120753201531, null]}, {\"line\": {\"color\": \"Blue\", \"width\": 0.5}, \"mode\": \"lines\", \"type\": \"scatter\", \"x\": [0.26752841557308576, 1.0, null], \"y\": [0.9635499670923959, -3.3741256186789116e-09, null]}, {\"line\": {\"color\": \"Blue\", \"width\": 0.5}, \"mode\": \"lines\", \"type\": \"scatter\", \"x\": [0.26752841557308576, 0.26752841557308576, null], \"y\": [0.9635499670923959, 0.9635499670923959, null]}, {\"line\": {\"color\": \"Blue\", \"width\": 0.5}, \"mode\": \"lines\", \"type\": \"scatter\", \"x\": [0.26752841557308576, 0.5611872082061442, null], \"y\": [0.9635499670923959, -0.8276888752313927, null]}, {\"line\": {\"color\": \"Blue\", \"width\": 0.5}, \"mode\": \"lines\", \"type\": \"scatter\", \"x\": [0.26752841557308576, -0.9075753666758309, null], \"y\": [0.9635499670923959, -0.4198892145433445, null]}, {\"line\": {\"color\": \"Blue\", \"width\": 0.5}, \"mode\": \"lines\", \"type\": \"scatter\", \"x\": [-0.9941379404855133, -0.9766205526387918, null], \"y\": [-0.10811905887790307, -0.21497042789690193, null]}, {\"line\": {\"color\": \"Blue\", \"width\": 0.5}, \"mode\": \"lines\", \"type\": \"scatter\", \"x\": [-0.9941379404855133, -0.9941379404855133, null], \"y\": [-0.10811905887790307, -0.10811905887790307, null]}, {\"line\": {\"color\": \"Blue\", \"width\": 0.5}, \"mode\": \"lines\", \"type\": \"scatter\", \"x\": [-0.9941379404855133, -0.9476531721486, null], \"y\": [-0.10811905887790307, -0.3193014592179708, null]}, {\"line\": {\"color\": \"Blue\", \"width\": 0.5}, \"mode\": \"lines\", \"type\": \"scatter\", \"x\": [-0.6473863701848022, -0.5611872058938951, null], \"y\": [-0.7621619726315213, -0.8276888752313927, null]}, {\"line\": {\"color\": \"Blue\", \"width\": 0.5}, \"mode\": \"lines\", \"type\": \"scatter\", \"x\": [-0.6473863701848022, 0.3701379902492256, null], \"y\": [-0.7621619726315213, -0.928976776515811, null]}, {\"line\": {\"color\": \"Blue\", \"width\": 0.5}, \"mode\": \"lines\", \"type\": \"scatter\", \"x\": [-0.6473863701848022, 0.46840822758144424, null], \"y\": [-0.7621619726315213, -0.8835121416730491, null]}, {\"line\": {\"color\": \"Blue\", \"width\": 0.5}, \"mode\": \"lines\", \"type\": \"scatter\", \"x\": [-0.6473863701848022, 0.7259955409356798, null], \"y\": [-0.7621619726315213, -0.6876993801158332, null]}, {\"line\": {\"color\": \"Blue\", \"width\": 0.5}, \"mode\": \"lines\", \"type\": \"scatter\", \"x\": [-0.6473863701848022, 0.7960931065055782, null], \"y\": [-0.7621619726315213, -0.6051741865199889, null]}, {\"line\": {\"color\": \"Blue\", \"width\": 0.5}, \"mode\": \"lines\", \"type\": \"scatter\", \"x\": [-0.6473863701848022, 0.8568571807608889, null], \"y\": [-0.7621619726315213, -0.5155538944368641, null]}, {\"line\": {\"color\": \"Blue\", \"width\": 0.5}, \"mode\": \"lines\", \"type\": \"scatter\", \"x\": [-0.6473863701848022, 0.90757536898808, null], \"y\": [-0.7621619726315213, -0.41988918474102216, null]}],\n",
       "                        {\"hovermode\": \"closest\", \"showlegend\": false, \"template\": {\"data\": {\"bar\": [{\"error_x\": {\"color\": \"#2a3f5f\"}, \"error_y\": {\"color\": \"#2a3f5f\"}, \"marker\": {\"line\": {\"color\": \"#E5ECF6\", \"width\": 0.5}}, \"type\": \"bar\"}], \"barpolar\": [{\"marker\": {\"line\": {\"color\": \"#E5ECF6\", \"width\": 0.5}}, \"type\": \"barpolar\"}], \"carpet\": [{\"aaxis\": {\"endlinecolor\": \"#2a3f5f\", \"gridcolor\": \"white\", \"linecolor\": \"white\", \"minorgridcolor\": \"white\", \"startlinecolor\": \"#2a3f5f\"}, \"baxis\": {\"endlinecolor\": \"#2a3f5f\", \"gridcolor\": \"white\", \"linecolor\": \"white\", \"minorgridcolor\": \"white\", \"startlinecolor\": \"#2a3f5f\"}, \"type\": \"carpet\"}], \"choropleth\": [{\"colorbar\": {\"outlinewidth\": 0, \"ticks\": \"\"}, \"type\": \"choropleth\"}], \"contour\": [{\"colorbar\": {\"outlinewidth\": 0, \"ticks\": \"\"}, \"colorscale\": [[0.0, \"#0d0887\"], [0.1111111111111111, \"#46039f\"], [0.2222222222222222, \"#7201a8\"], [0.3333333333333333, \"#9c179e\"], [0.4444444444444444, \"#bd3786\"], [0.5555555555555556, \"#d8576b\"], [0.6666666666666666, \"#ed7953\"], [0.7777777777777778, \"#fb9f3a\"], [0.8888888888888888, \"#fdca26\"], [1.0, \"#f0f921\"]], \"type\": \"contour\"}], \"contourcarpet\": [{\"colorbar\": {\"outlinewidth\": 0, \"ticks\": \"\"}, \"type\": \"contourcarpet\"}], \"heatmap\": [{\"colorbar\": {\"outlinewidth\": 0, \"ticks\": \"\"}, \"colorscale\": [[0.0, \"#0d0887\"], [0.1111111111111111, \"#46039f\"], [0.2222222222222222, \"#7201a8\"], [0.3333333333333333, \"#9c179e\"], [0.4444444444444444, \"#bd3786\"], [0.5555555555555556, \"#d8576b\"], [0.6666666666666666, \"#ed7953\"], [0.7777777777777778, \"#fb9f3a\"], [0.8888888888888888, \"#fdca26\"], [1.0, \"#f0f921\"]], \"type\": \"heatmap\"}], \"heatmapgl\": [{\"colorbar\": {\"outlinewidth\": 0, \"ticks\": \"\"}, \"colorscale\": [[0.0, \"#0d0887\"], [0.1111111111111111, \"#46039f\"], [0.2222222222222222, \"#7201a8\"], [0.3333333333333333, \"#9c179e\"], [0.4444444444444444, \"#bd3786\"], [0.5555555555555556, \"#d8576b\"], [0.6666666666666666, \"#ed7953\"], [0.7777777777777778, \"#fb9f3a\"], [0.8888888888888888, \"#fdca26\"], [1.0, \"#f0f921\"]], \"type\": \"heatmapgl\"}], \"histogram\": [{\"marker\": {\"colorbar\": {\"outlinewidth\": 0, \"ticks\": \"\"}}, \"type\": \"histogram\"}], \"histogram2d\": [{\"colorbar\": {\"outlinewidth\": 0, \"ticks\": \"\"}, \"colorscale\": [[0.0, \"#0d0887\"], [0.1111111111111111, \"#46039f\"], [0.2222222222222222, \"#7201a8\"], [0.3333333333333333, \"#9c179e\"], [0.4444444444444444, \"#bd3786\"], [0.5555555555555556, \"#d8576b\"], [0.6666666666666666, \"#ed7953\"], [0.7777777777777778, \"#fb9f3a\"], [0.8888888888888888, \"#fdca26\"], [1.0, \"#f0f921\"]], \"type\": \"histogram2d\"}], \"histogram2dcontour\": [{\"colorbar\": {\"outlinewidth\": 0, \"ticks\": \"\"}, \"colorscale\": [[0.0, \"#0d0887\"], [0.1111111111111111, \"#46039f\"], [0.2222222222222222, \"#7201a8\"], [0.3333333333333333, \"#9c179e\"], [0.4444444444444444, \"#bd3786\"], [0.5555555555555556, \"#d8576b\"], [0.6666666666666666, \"#ed7953\"], [0.7777777777777778, \"#fb9f3a\"], [0.8888888888888888, \"#fdca26\"], [1.0, \"#f0f921\"]], \"type\": \"histogram2dcontour\"}], \"mesh3d\": [{\"colorbar\": {\"outlinewidth\": 0, \"ticks\": \"\"}, \"type\": \"mesh3d\"}], \"parcoords\": [{\"line\": {\"colorbar\": {\"outlinewidth\": 0, \"ticks\": \"\"}}, \"type\": \"parcoords\"}], \"pie\": [{\"automargin\": true, \"type\": \"pie\"}], \"scatter\": [{\"marker\": {\"colorbar\": {\"outlinewidth\": 0, \"ticks\": \"\"}}, \"type\": \"scatter\"}], \"scatter3d\": [{\"line\": {\"colorbar\": {\"outlinewidth\": 0, \"ticks\": \"\"}}, \"marker\": {\"colorbar\": {\"outlinewidth\": 0, \"ticks\": \"\"}}, \"type\": \"scatter3d\"}], \"scattercarpet\": [{\"marker\": {\"colorbar\": {\"outlinewidth\": 0, \"ticks\": \"\"}}, \"type\": \"scattercarpet\"}], \"scattergeo\": [{\"marker\": {\"colorbar\": {\"outlinewidth\": 0, \"ticks\": \"\"}}, \"type\": \"scattergeo\"}], \"scattergl\": [{\"marker\": {\"colorbar\": {\"outlinewidth\": 0, \"ticks\": \"\"}}, \"type\": \"scattergl\"}], \"scattermapbox\": [{\"marker\": {\"colorbar\": {\"outlinewidth\": 0, \"ticks\": \"\"}}, \"type\": \"scattermapbox\"}], \"scatterpolar\": [{\"marker\": {\"colorbar\": {\"outlinewidth\": 0, \"ticks\": \"\"}}, \"type\": \"scatterpolar\"}], \"scatterpolargl\": [{\"marker\": {\"colorbar\": {\"outlinewidth\": 0, \"ticks\": \"\"}}, \"type\": \"scatterpolargl\"}], \"scatterternary\": [{\"marker\": {\"colorbar\": {\"outlinewidth\": 0, \"ticks\": \"\"}}, \"type\": \"scatterternary\"}], \"surface\": [{\"colorbar\": {\"outlinewidth\": 0, \"ticks\": \"\"}, \"colorscale\": [[0.0, \"#0d0887\"], [0.1111111111111111, \"#46039f\"], [0.2222222222222222, \"#7201a8\"], [0.3333333333333333, \"#9c179e\"], [0.4444444444444444, \"#bd3786\"], [0.5555555555555556, \"#d8576b\"], [0.6666666666666666, \"#ed7953\"], [0.7777777777777778, \"#fb9f3a\"], [0.8888888888888888, \"#fdca26\"], [1.0, \"#f0f921\"]], \"type\": \"surface\"}], \"table\": [{\"cells\": {\"fill\": {\"color\": \"#EBF0F8\"}, \"line\": {\"color\": \"white\"}}, \"header\": {\"fill\": {\"color\": \"#C8D4E3\"}, \"line\": {\"color\": \"white\"}}, \"type\": \"table\"}]}, \"layout\": {\"annotationdefaults\": {\"arrowcolor\": \"#2a3f5f\", \"arrowhead\": 0, \"arrowwidth\": 1}, \"coloraxis\": {\"colorbar\": {\"outlinewidth\": 0, \"ticks\": \"\"}}, \"colorscale\": {\"diverging\": [[0, \"#8e0152\"], [0.1, \"#c51b7d\"], [0.2, \"#de77ae\"], [0.3, \"#f1b6da\"], [0.4, \"#fde0ef\"], [0.5, \"#f7f7f7\"], [0.6, \"#e6f5d0\"], [0.7, \"#b8e186\"], [0.8, \"#7fbc41\"], [0.9, \"#4d9221\"], [1, \"#276419\"]], \"sequential\": [[0.0, \"#0d0887\"], [0.1111111111111111, \"#46039f\"], [0.2222222222222222, \"#7201a8\"], [0.3333333333333333, \"#9c179e\"], [0.4444444444444444, \"#bd3786\"], [0.5555555555555556, \"#d8576b\"], [0.6666666666666666, \"#ed7953\"], [0.7777777777777778, \"#fb9f3a\"], [0.8888888888888888, \"#fdca26\"], [1.0, \"#f0f921\"]], \"sequentialminus\": [[0.0, \"#0d0887\"], [0.1111111111111111, \"#46039f\"], [0.2222222222222222, \"#7201a8\"], [0.3333333333333333, \"#9c179e\"], [0.4444444444444444, \"#bd3786\"], [0.5555555555555556, \"#d8576b\"], [0.6666666666666666, \"#ed7953\"], [0.7777777777777778, \"#fb9f3a\"], [0.8888888888888888, \"#fdca26\"], [1.0, \"#f0f921\"]]}, \"colorway\": [\"#636efa\", \"#EF553B\", \"#00cc96\", \"#ab63fa\", \"#FFA15A\", \"#19d3f3\", \"#FF6692\", \"#B6E880\", \"#FF97FF\", \"#FECB52\"], \"font\": {\"color\": \"#2a3f5f\"}, \"geo\": {\"bgcolor\": \"white\", \"lakecolor\": \"white\", \"landcolor\": \"#E5ECF6\", \"showlakes\": true, \"showland\": true, \"subunitcolor\": \"white\"}, \"hoverlabel\": {\"align\": \"left\"}, \"hovermode\": \"closest\", \"mapbox\": {\"style\": \"light\"}, \"paper_bgcolor\": \"white\", \"plot_bgcolor\": \"#E5ECF6\", \"polar\": {\"angularaxis\": {\"gridcolor\": \"white\", \"linecolor\": \"white\", \"ticks\": \"\"}, \"bgcolor\": \"#E5ECF6\", \"radialaxis\": {\"gridcolor\": \"white\", \"linecolor\": \"white\", \"ticks\": \"\"}}, \"scene\": {\"xaxis\": {\"backgroundcolor\": \"#E5ECF6\", \"gridcolor\": \"white\", \"gridwidth\": 2, \"linecolor\": \"white\", \"showbackground\": true, \"ticks\": \"\", \"zerolinecolor\": \"white\"}, \"yaxis\": {\"backgroundcolor\": \"#E5ECF6\", \"gridcolor\": \"white\", \"gridwidth\": 2, \"linecolor\": \"white\", \"showbackground\": true, \"ticks\": \"\", \"zerolinecolor\": \"white\"}, \"zaxis\": {\"backgroundcolor\": \"#E5ECF6\", \"gridcolor\": \"white\", \"gridwidth\": 2, \"linecolor\": \"white\", \"showbackground\": true, \"ticks\": \"\", \"zerolinecolor\": \"white\"}}, \"shapedefaults\": {\"line\": {\"color\": \"#2a3f5f\"}}, \"ternary\": {\"aaxis\": {\"gridcolor\": \"white\", \"linecolor\": \"white\", \"ticks\": \"\"}, \"baxis\": {\"gridcolor\": \"white\", \"linecolor\": \"white\", \"ticks\": \"\"}, \"bgcolor\": \"#E5ECF6\", \"caxis\": {\"gridcolor\": \"white\", \"linecolor\": \"white\", \"ticks\": \"\"}}, \"title\": {\"x\": 0.05}, \"xaxis\": {\"automargin\": true, \"gridcolor\": \"white\", \"linecolor\": \"white\", \"ticks\": \"\", \"title\": {\"standoff\": 15}, \"zerolinecolor\": \"white\", \"zerolinewidth\": 2}, \"yaxis\": {\"automargin\": true, \"gridcolor\": \"white\", \"linecolor\": \"white\", \"ticks\": \"\", \"title\": {\"standoff\": 15}, \"zerolinecolor\": \"white\", \"zerolinewidth\": 2}}}, \"title\": {\"text\": \"Network of Trips for most frequent start locations\"}},\n",
       "                        {\"responsive\": true}\n",
       "                    ).then(function(){\n",
       "                            \n",
       "var gd = document.getElementById('975d540b-68f7-40ae-a4d8-d4991c80d0b3');\n",
       "var x = new MutationObserver(function (mutations, observer) {{\n",
       "        var display = window.getComputedStyle(gd).display;\n",
       "        if (!display || display === 'none') {{\n",
       "            console.log([gd, 'removed!']);\n",
       "            Plotly.purge(gd);\n",
       "            observer.disconnect();\n",
       "        }}\n",
       "}});\n",
       "\n",
       "// Listen for the removal of the full notebook cells\n",
       "var notebookContainer = gd.closest('#notebook-container');\n",
       "if (notebookContainer) {{\n",
       "    x.observe(notebookContainer, {childList: true});\n",
       "}}\n",
       "\n",
       "// Listen for the clearing of the current output cell\n",
       "var outputEl = gd.closest('.output');\n",
       "if (outputEl) {{\n",
       "    x.observe(outputEl, {childList: true});\n",
       "}}\n",
       "\n",
       "                        })\n",
       "                };\n",
       "                });\n",
       "            </script>\n",
       "        </div>"
      ]
     },
     "metadata": {},
     "output_type": "display_data"
    }
   ],
   "source": [
    "go.Figure(figure1)"
   ]
  },
  {
   "cell_type": "markdown",
   "metadata": {},
   "source": [
    "This plot shows which places are travelled to or from each location. Whitebridge, Midtown and Cary can be considered to be the most frequent location/junction for the rider."
   ]
  }
 ],
 "metadata": {
  "kernelspec": {
   "display_name": "Python 3",
   "language": "python",
   "name": "python3"
  },
  "language_info": {
   "codemirror_mode": {
    "name": "ipython",
    "version": 3
   },
   "file_extension": ".py",
   "mimetype": "text/x-python",
   "name": "python",
   "nbconvert_exporter": "python",
   "pygments_lexer": "ipython3",
   "version": "3.7.4"
  }
 },
 "nbformat": 4,
 "nbformat_minor": 4
}
